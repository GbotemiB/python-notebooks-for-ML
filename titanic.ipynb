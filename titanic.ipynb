{
 "cells": [
  {
   "cell_type": "code",
   "execution_count": 1,
   "source": [
    "import pandas as pd\n",
    "import numpy as np\n",
    "import seaborn as sns\n",
    "import matplotlib.pyplot as plt\n",
    "plt.style.use('fivethirtyeight')\n"
   ],
   "outputs": [],
   "metadata": {}
  },
  {
   "cell_type": "code",
   "execution_count": 2,
   "source": [
    "df = pd.read_csv('titanic/train.csv')\n"
   ],
   "outputs": [],
   "metadata": {}
  },
  {
   "cell_type": "code",
   "execution_count": 3,
   "source": [
    "df_test = pd.read_csv('titanic/test.csv')\n",
    "df_test.head()"
   ],
   "outputs": [
    {
     "output_type": "execute_result",
     "data": {
      "text/plain": [
       "   PassengerId  Pclass                                          Name     Sex  \\\n",
       "0          892       3                              Kelly, Mr. James    male   \n",
       "1          893       3              Wilkes, Mrs. James (Ellen Needs)  female   \n",
       "2          894       2                     Myles, Mr. Thomas Francis    male   \n",
       "3          895       3                              Wirz, Mr. Albert    male   \n",
       "4          896       3  Hirvonen, Mrs. Alexander (Helga E Lindqvist)  female   \n",
       "\n",
       "    Age  SibSp  Parch   Ticket     Fare Cabin Embarked  \n",
       "0  34.5      0      0   330911   7.8292   NaN        Q  \n",
       "1  47.0      1      0   363272   7.0000   NaN        S  \n",
       "2  62.0      0      0   240276   9.6875   NaN        Q  \n",
       "3  27.0      0      0   315154   8.6625   NaN        S  \n",
       "4  22.0      1      1  3101298  12.2875   NaN        S  "
      ],
      "text/html": [
       "<div>\n",
       "<style scoped>\n",
       "    .dataframe tbody tr th:only-of-type {\n",
       "        vertical-align: middle;\n",
       "    }\n",
       "\n",
       "    .dataframe tbody tr th {\n",
       "        vertical-align: top;\n",
       "    }\n",
       "\n",
       "    .dataframe thead th {\n",
       "        text-align: right;\n",
       "    }\n",
       "</style>\n",
       "<table border=\"1\" class=\"dataframe\">\n",
       "  <thead>\n",
       "    <tr style=\"text-align: right;\">\n",
       "      <th></th>\n",
       "      <th>PassengerId</th>\n",
       "      <th>Pclass</th>\n",
       "      <th>Name</th>\n",
       "      <th>Sex</th>\n",
       "      <th>Age</th>\n",
       "      <th>SibSp</th>\n",
       "      <th>Parch</th>\n",
       "      <th>Ticket</th>\n",
       "      <th>Fare</th>\n",
       "      <th>Cabin</th>\n",
       "      <th>Embarked</th>\n",
       "    </tr>\n",
       "  </thead>\n",
       "  <tbody>\n",
       "    <tr>\n",
       "      <th>0</th>\n",
       "      <td>892</td>\n",
       "      <td>3</td>\n",
       "      <td>Kelly, Mr. James</td>\n",
       "      <td>male</td>\n",
       "      <td>34.5</td>\n",
       "      <td>0</td>\n",
       "      <td>0</td>\n",
       "      <td>330911</td>\n",
       "      <td>7.8292</td>\n",
       "      <td>NaN</td>\n",
       "      <td>Q</td>\n",
       "    </tr>\n",
       "    <tr>\n",
       "      <th>1</th>\n",
       "      <td>893</td>\n",
       "      <td>3</td>\n",
       "      <td>Wilkes, Mrs. James (Ellen Needs)</td>\n",
       "      <td>female</td>\n",
       "      <td>47.0</td>\n",
       "      <td>1</td>\n",
       "      <td>0</td>\n",
       "      <td>363272</td>\n",
       "      <td>7.0000</td>\n",
       "      <td>NaN</td>\n",
       "      <td>S</td>\n",
       "    </tr>\n",
       "    <tr>\n",
       "      <th>2</th>\n",
       "      <td>894</td>\n",
       "      <td>2</td>\n",
       "      <td>Myles, Mr. Thomas Francis</td>\n",
       "      <td>male</td>\n",
       "      <td>62.0</td>\n",
       "      <td>0</td>\n",
       "      <td>0</td>\n",
       "      <td>240276</td>\n",
       "      <td>9.6875</td>\n",
       "      <td>NaN</td>\n",
       "      <td>Q</td>\n",
       "    </tr>\n",
       "    <tr>\n",
       "      <th>3</th>\n",
       "      <td>895</td>\n",
       "      <td>3</td>\n",
       "      <td>Wirz, Mr. Albert</td>\n",
       "      <td>male</td>\n",
       "      <td>27.0</td>\n",
       "      <td>0</td>\n",
       "      <td>0</td>\n",
       "      <td>315154</td>\n",
       "      <td>8.6625</td>\n",
       "      <td>NaN</td>\n",
       "      <td>S</td>\n",
       "    </tr>\n",
       "    <tr>\n",
       "      <th>4</th>\n",
       "      <td>896</td>\n",
       "      <td>3</td>\n",
       "      <td>Hirvonen, Mrs. Alexander (Helga E Lindqvist)</td>\n",
       "      <td>female</td>\n",
       "      <td>22.0</td>\n",
       "      <td>1</td>\n",
       "      <td>1</td>\n",
       "      <td>3101298</td>\n",
       "      <td>12.2875</td>\n",
       "      <td>NaN</td>\n",
       "      <td>S</td>\n",
       "    </tr>\n",
       "  </tbody>\n",
       "</table>\n",
       "</div>"
      ]
     },
     "metadata": {},
     "execution_count": 3
    }
   ],
   "metadata": {}
  },
  {
   "cell_type": "code",
   "execution_count": 4,
   "source": [
    "df.head()"
   ],
   "outputs": [
    {
     "output_type": "execute_result",
     "data": {
      "text/plain": [
       "   PassengerId  Survived  Pclass  \\\n",
       "0            1         0       3   \n",
       "1            2         1       1   \n",
       "2            3         1       3   \n",
       "3            4         1       1   \n",
       "4            5         0       3   \n",
       "\n",
       "                                                Name     Sex   Age  SibSp  \\\n",
       "0                            Braund, Mr. Owen Harris    male  22.0      1   \n",
       "1  Cumings, Mrs. John Bradley (Florence Briggs Th...  female  38.0      1   \n",
       "2                             Heikkinen, Miss. Laina  female  26.0      0   \n",
       "3       Futrelle, Mrs. Jacques Heath (Lily May Peel)  female  35.0      1   \n",
       "4                           Allen, Mr. William Henry    male  35.0      0   \n",
       "\n",
       "   Parch            Ticket     Fare Cabin Embarked  \n",
       "0      0         A/5 21171   7.2500   NaN        S  \n",
       "1      0          PC 17599  71.2833   C85        C  \n",
       "2      0  STON/O2. 3101282   7.9250   NaN        S  \n",
       "3      0            113803  53.1000  C123        S  \n",
       "4      0            373450   8.0500   NaN        S  "
      ],
      "text/html": [
       "<div>\n",
       "<style scoped>\n",
       "    .dataframe tbody tr th:only-of-type {\n",
       "        vertical-align: middle;\n",
       "    }\n",
       "\n",
       "    .dataframe tbody tr th {\n",
       "        vertical-align: top;\n",
       "    }\n",
       "\n",
       "    .dataframe thead th {\n",
       "        text-align: right;\n",
       "    }\n",
       "</style>\n",
       "<table border=\"1\" class=\"dataframe\">\n",
       "  <thead>\n",
       "    <tr style=\"text-align: right;\">\n",
       "      <th></th>\n",
       "      <th>PassengerId</th>\n",
       "      <th>Survived</th>\n",
       "      <th>Pclass</th>\n",
       "      <th>Name</th>\n",
       "      <th>Sex</th>\n",
       "      <th>Age</th>\n",
       "      <th>SibSp</th>\n",
       "      <th>Parch</th>\n",
       "      <th>Ticket</th>\n",
       "      <th>Fare</th>\n",
       "      <th>Cabin</th>\n",
       "      <th>Embarked</th>\n",
       "    </tr>\n",
       "  </thead>\n",
       "  <tbody>\n",
       "    <tr>\n",
       "      <th>0</th>\n",
       "      <td>1</td>\n",
       "      <td>0</td>\n",
       "      <td>3</td>\n",
       "      <td>Braund, Mr. Owen Harris</td>\n",
       "      <td>male</td>\n",
       "      <td>22.0</td>\n",
       "      <td>1</td>\n",
       "      <td>0</td>\n",
       "      <td>A/5 21171</td>\n",
       "      <td>7.2500</td>\n",
       "      <td>NaN</td>\n",
       "      <td>S</td>\n",
       "    </tr>\n",
       "    <tr>\n",
       "      <th>1</th>\n",
       "      <td>2</td>\n",
       "      <td>1</td>\n",
       "      <td>1</td>\n",
       "      <td>Cumings, Mrs. John Bradley (Florence Briggs Th...</td>\n",
       "      <td>female</td>\n",
       "      <td>38.0</td>\n",
       "      <td>1</td>\n",
       "      <td>0</td>\n",
       "      <td>PC 17599</td>\n",
       "      <td>71.2833</td>\n",
       "      <td>C85</td>\n",
       "      <td>C</td>\n",
       "    </tr>\n",
       "    <tr>\n",
       "      <th>2</th>\n",
       "      <td>3</td>\n",
       "      <td>1</td>\n",
       "      <td>3</td>\n",
       "      <td>Heikkinen, Miss. Laina</td>\n",
       "      <td>female</td>\n",
       "      <td>26.0</td>\n",
       "      <td>0</td>\n",
       "      <td>0</td>\n",
       "      <td>STON/O2. 3101282</td>\n",
       "      <td>7.9250</td>\n",
       "      <td>NaN</td>\n",
       "      <td>S</td>\n",
       "    </tr>\n",
       "    <tr>\n",
       "      <th>3</th>\n",
       "      <td>4</td>\n",
       "      <td>1</td>\n",
       "      <td>1</td>\n",
       "      <td>Futrelle, Mrs. Jacques Heath (Lily May Peel)</td>\n",
       "      <td>female</td>\n",
       "      <td>35.0</td>\n",
       "      <td>1</td>\n",
       "      <td>0</td>\n",
       "      <td>113803</td>\n",
       "      <td>53.1000</td>\n",
       "      <td>C123</td>\n",
       "      <td>S</td>\n",
       "    </tr>\n",
       "    <tr>\n",
       "      <th>4</th>\n",
       "      <td>5</td>\n",
       "      <td>0</td>\n",
       "      <td>3</td>\n",
       "      <td>Allen, Mr. William Henry</td>\n",
       "      <td>male</td>\n",
       "      <td>35.0</td>\n",
       "      <td>0</td>\n",
       "      <td>0</td>\n",
       "      <td>373450</td>\n",
       "      <td>8.0500</td>\n",
       "      <td>NaN</td>\n",
       "      <td>S</td>\n",
       "    </tr>\n",
       "  </tbody>\n",
       "</table>\n",
       "</div>"
      ]
     },
     "metadata": {},
     "execution_count": 4
    }
   ],
   "metadata": {}
  },
  {
   "cell_type": "code",
   "execution_count": 5,
   "source": [
    "df.describe()"
   ],
   "outputs": [
    {
     "output_type": "execute_result",
     "data": {
      "text/plain": [
       "       PassengerId    Survived      Pclass         Age       SibSp  \\\n",
       "count   891.000000  891.000000  891.000000  714.000000  891.000000   \n",
       "mean    446.000000    0.383838    2.308642   29.699118    0.523008   \n",
       "std     257.353842    0.486592    0.836071   14.526497    1.102743   \n",
       "min       1.000000    0.000000    1.000000    0.420000    0.000000   \n",
       "25%     223.500000    0.000000    2.000000   20.125000    0.000000   \n",
       "50%     446.000000    0.000000    3.000000   28.000000    0.000000   \n",
       "75%     668.500000    1.000000    3.000000   38.000000    1.000000   \n",
       "max     891.000000    1.000000    3.000000   80.000000    8.000000   \n",
       "\n",
       "            Parch        Fare  \n",
       "count  891.000000  891.000000  \n",
       "mean     0.381594   32.204208  \n",
       "std      0.806057   49.693429  \n",
       "min      0.000000    0.000000  \n",
       "25%      0.000000    7.910400  \n",
       "50%      0.000000   14.454200  \n",
       "75%      0.000000   31.000000  \n",
       "max      6.000000  512.329200  "
      ],
      "text/html": [
       "<div>\n",
       "<style scoped>\n",
       "    .dataframe tbody tr th:only-of-type {\n",
       "        vertical-align: middle;\n",
       "    }\n",
       "\n",
       "    .dataframe tbody tr th {\n",
       "        vertical-align: top;\n",
       "    }\n",
       "\n",
       "    .dataframe thead th {\n",
       "        text-align: right;\n",
       "    }\n",
       "</style>\n",
       "<table border=\"1\" class=\"dataframe\">\n",
       "  <thead>\n",
       "    <tr style=\"text-align: right;\">\n",
       "      <th></th>\n",
       "      <th>PassengerId</th>\n",
       "      <th>Survived</th>\n",
       "      <th>Pclass</th>\n",
       "      <th>Age</th>\n",
       "      <th>SibSp</th>\n",
       "      <th>Parch</th>\n",
       "      <th>Fare</th>\n",
       "    </tr>\n",
       "  </thead>\n",
       "  <tbody>\n",
       "    <tr>\n",
       "      <th>count</th>\n",
       "      <td>891.000000</td>\n",
       "      <td>891.000000</td>\n",
       "      <td>891.000000</td>\n",
       "      <td>714.000000</td>\n",
       "      <td>891.000000</td>\n",
       "      <td>891.000000</td>\n",
       "      <td>891.000000</td>\n",
       "    </tr>\n",
       "    <tr>\n",
       "      <th>mean</th>\n",
       "      <td>446.000000</td>\n",
       "      <td>0.383838</td>\n",
       "      <td>2.308642</td>\n",
       "      <td>29.699118</td>\n",
       "      <td>0.523008</td>\n",
       "      <td>0.381594</td>\n",
       "      <td>32.204208</td>\n",
       "    </tr>\n",
       "    <tr>\n",
       "      <th>std</th>\n",
       "      <td>257.353842</td>\n",
       "      <td>0.486592</td>\n",
       "      <td>0.836071</td>\n",
       "      <td>14.526497</td>\n",
       "      <td>1.102743</td>\n",
       "      <td>0.806057</td>\n",
       "      <td>49.693429</td>\n",
       "    </tr>\n",
       "    <tr>\n",
       "      <th>min</th>\n",
       "      <td>1.000000</td>\n",
       "      <td>0.000000</td>\n",
       "      <td>1.000000</td>\n",
       "      <td>0.420000</td>\n",
       "      <td>0.000000</td>\n",
       "      <td>0.000000</td>\n",
       "      <td>0.000000</td>\n",
       "    </tr>\n",
       "    <tr>\n",
       "      <th>25%</th>\n",
       "      <td>223.500000</td>\n",
       "      <td>0.000000</td>\n",
       "      <td>2.000000</td>\n",
       "      <td>20.125000</td>\n",
       "      <td>0.000000</td>\n",
       "      <td>0.000000</td>\n",
       "      <td>7.910400</td>\n",
       "    </tr>\n",
       "    <tr>\n",
       "      <th>50%</th>\n",
       "      <td>446.000000</td>\n",
       "      <td>0.000000</td>\n",
       "      <td>3.000000</td>\n",
       "      <td>28.000000</td>\n",
       "      <td>0.000000</td>\n",
       "      <td>0.000000</td>\n",
       "      <td>14.454200</td>\n",
       "    </tr>\n",
       "    <tr>\n",
       "      <th>75%</th>\n",
       "      <td>668.500000</td>\n",
       "      <td>1.000000</td>\n",
       "      <td>3.000000</td>\n",
       "      <td>38.000000</td>\n",
       "      <td>1.000000</td>\n",
       "      <td>0.000000</td>\n",
       "      <td>31.000000</td>\n",
       "    </tr>\n",
       "    <tr>\n",
       "      <th>max</th>\n",
       "      <td>891.000000</td>\n",
       "      <td>1.000000</td>\n",
       "      <td>3.000000</td>\n",
       "      <td>80.000000</td>\n",
       "      <td>8.000000</td>\n",
       "      <td>6.000000</td>\n",
       "      <td>512.329200</td>\n",
       "    </tr>\n",
       "  </tbody>\n",
       "</table>\n",
       "</div>"
      ]
     },
     "metadata": {},
     "execution_count": 5
    }
   ],
   "metadata": {}
  },
  {
   "cell_type": "code",
   "execution_count": 6,
   "source": [
    "df.columns"
   ],
   "outputs": [
    {
     "output_type": "execute_result",
     "data": {
      "text/plain": [
       "Index(['PassengerId', 'Survived', 'Pclass', 'Name', 'Sex', 'Age', 'SibSp',\n",
       "       'Parch', 'Ticket', 'Fare', 'Cabin', 'Embarked'],\n",
       "      dtype='object')"
      ]
     },
     "metadata": {},
     "execution_count": 6
    }
   ],
   "metadata": {}
  },
  {
   "cell_type": "code",
   "execution_count": 7,
   "source": [
    "df.info()"
   ],
   "outputs": [
    {
     "output_type": "stream",
     "name": "stdout",
     "text": [
      "<class 'pandas.core.frame.DataFrame'>\n",
      "RangeIndex: 891 entries, 0 to 890\n",
      "Data columns (total 12 columns):\n",
      " #   Column       Non-Null Count  Dtype  \n",
      "---  ------       --------------  -----  \n",
      " 0   PassengerId  891 non-null    int64  \n",
      " 1   Survived     891 non-null    int64  \n",
      " 2   Pclass       891 non-null    int64  \n",
      " 3   Name         891 non-null    object \n",
      " 4   Sex          891 non-null    object \n",
      " 5   Age          714 non-null    float64\n",
      " 6   SibSp        891 non-null    int64  \n",
      " 7   Parch        891 non-null    int64  \n",
      " 8   Ticket       891 non-null    object \n",
      " 9   Fare         891 non-null    float64\n",
      " 10  Cabin        204 non-null    object \n",
      " 11  Embarked     889 non-null    object \n",
      "dtypes: float64(2), int64(5), object(5)\n",
      "memory usage: 83.7+ KB\n"
     ]
    }
   ],
   "metadata": {}
  },
  {
   "cell_type": "code",
   "execution_count": 8,
   "source": [
    "df.drop(['Name', 'Ticket','Cabin', 'PassengerId'], axis=1, inplace=True)\n",
    "df.head()"
   ],
   "outputs": [
    {
     "output_type": "execute_result",
     "data": {
      "text/plain": [
       "   Survived  Pclass     Sex   Age  SibSp  Parch     Fare Embarked\n",
       "0         0       3    male  22.0      1      0   7.2500        S\n",
       "1         1       1  female  38.0      1      0  71.2833        C\n",
       "2         1       3  female  26.0      0      0   7.9250        S\n",
       "3         1       1  female  35.0      1      0  53.1000        S\n",
       "4         0       3    male  35.0      0      0   8.0500        S"
      ],
      "text/html": [
       "<div>\n",
       "<style scoped>\n",
       "    .dataframe tbody tr th:only-of-type {\n",
       "        vertical-align: middle;\n",
       "    }\n",
       "\n",
       "    .dataframe tbody tr th {\n",
       "        vertical-align: top;\n",
       "    }\n",
       "\n",
       "    .dataframe thead th {\n",
       "        text-align: right;\n",
       "    }\n",
       "</style>\n",
       "<table border=\"1\" class=\"dataframe\">\n",
       "  <thead>\n",
       "    <tr style=\"text-align: right;\">\n",
       "      <th></th>\n",
       "      <th>Survived</th>\n",
       "      <th>Pclass</th>\n",
       "      <th>Sex</th>\n",
       "      <th>Age</th>\n",
       "      <th>SibSp</th>\n",
       "      <th>Parch</th>\n",
       "      <th>Fare</th>\n",
       "      <th>Embarked</th>\n",
       "    </tr>\n",
       "  </thead>\n",
       "  <tbody>\n",
       "    <tr>\n",
       "      <th>0</th>\n",
       "      <td>0</td>\n",
       "      <td>3</td>\n",
       "      <td>male</td>\n",
       "      <td>22.0</td>\n",
       "      <td>1</td>\n",
       "      <td>0</td>\n",
       "      <td>7.2500</td>\n",
       "      <td>S</td>\n",
       "    </tr>\n",
       "    <tr>\n",
       "      <th>1</th>\n",
       "      <td>1</td>\n",
       "      <td>1</td>\n",
       "      <td>female</td>\n",
       "      <td>38.0</td>\n",
       "      <td>1</td>\n",
       "      <td>0</td>\n",
       "      <td>71.2833</td>\n",
       "      <td>C</td>\n",
       "    </tr>\n",
       "    <tr>\n",
       "      <th>2</th>\n",
       "      <td>1</td>\n",
       "      <td>3</td>\n",
       "      <td>female</td>\n",
       "      <td>26.0</td>\n",
       "      <td>0</td>\n",
       "      <td>0</td>\n",
       "      <td>7.9250</td>\n",
       "      <td>S</td>\n",
       "    </tr>\n",
       "    <tr>\n",
       "      <th>3</th>\n",
       "      <td>1</td>\n",
       "      <td>1</td>\n",
       "      <td>female</td>\n",
       "      <td>35.0</td>\n",
       "      <td>1</td>\n",
       "      <td>0</td>\n",
       "      <td>53.1000</td>\n",
       "      <td>S</td>\n",
       "    </tr>\n",
       "    <tr>\n",
       "      <th>4</th>\n",
       "      <td>0</td>\n",
       "      <td>3</td>\n",
       "      <td>male</td>\n",
       "      <td>35.0</td>\n",
       "      <td>0</td>\n",
       "      <td>0</td>\n",
       "      <td>8.0500</td>\n",
       "      <td>S</td>\n",
       "    </tr>\n",
       "  </tbody>\n",
       "</table>\n",
       "</div>"
      ]
     },
     "metadata": {},
     "execution_count": 8
    }
   ],
   "metadata": {}
  },
  {
   "cell_type": "code",
   "execution_count": 9,
   "source": [
    "passengerId = df_test.PassengerId\n",
    "df_test.drop(['Name', 'Ticket','Cabin', 'PassengerId'], axis=1, inplace=True)\n",
    "df.head()"
   ],
   "outputs": [
    {
     "output_type": "execute_result",
     "data": {
      "text/plain": [
       "   Survived  Pclass     Sex   Age  SibSp  Parch     Fare Embarked\n",
       "0         0       3    male  22.0      1      0   7.2500        S\n",
       "1         1       1  female  38.0      1      0  71.2833        C\n",
       "2         1       3  female  26.0      0      0   7.9250        S\n",
       "3         1       1  female  35.0      1      0  53.1000        S\n",
       "4         0       3    male  35.0      0      0   8.0500        S"
      ],
      "text/html": [
       "<div>\n",
       "<style scoped>\n",
       "    .dataframe tbody tr th:only-of-type {\n",
       "        vertical-align: middle;\n",
       "    }\n",
       "\n",
       "    .dataframe tbody tr th {\n",
       "        vertical-align: top;\n",
       "    }\n",
       "\n",
       "    .dataframe thead th {\n",
       "        text-align: right;\n",
       "    }\n",
       "</style>\n",
       "<table border=\"1\" class=\"dataframe\">\n",
       "  <thead>\n",
       "    <tr style=\"text-align: right;\">\n",
       "      <th></th>\n",
       "      <th>Survived</th>\n",
       "      <th>Pclass</th>\n",
       "      <th>Sex</th>\n",
       "      <th>Age</th>\n",
       "      <th>SibSp</th>\n",
       "      <th>Parch</th>\n",
       "      <th>Fare</th>\n",
       "      <th>Embarked</th>\n",
       "    </tr>\n",
       "  </thead>\n",
       "  <tbody>\n",
       "    <tr>\n",
       "      <th>0</th>\n",
       "      <td>0</td>\n",
       "      <td>3</td>\n",
       "      <td>male</td>\n",
       "      <td>22.0</td>\n",
       "      <td>1</td>\n",
       "      <td>0</td>\n",
       "      <td>7.2500</td>\n",
       "      <td>S</td>\n",
       "    </tr>\n",
       "    <tr>\n",
       "      <th>1</th>\n",
       "      <td>1</td>\n",
       "      <td>1</td>\n",
       "      <td>female</td>\n",
       "      <td>38.0</td>\n",
       "      <td>1</td>\n",
       "      <td>0</td>\n",
       "      <td>71.2833</td>\n",
       "      <td>C</td>\n",
       "    </tr>\n",
       "    <tr>\n",
       "      <th>2</th>\n",
       "      <td>1</td>\n",
       "      <td>3</td>\n",
       "      <td>female</td>\n",
       "      <td>26.0</td>\n",
       "      <td>0</td>\n",
       "      <td>0</td>\n",
       "      <td>7.9250</td>\n",
       "      <td>S</td>\n",
       "    </tr>\n",
       "    <tr>\n",
       "      <th>3</th>\n",
       "      <td>1</td>\n",
       "      <td>1</td>\n",
       "      <td>female</td>\n",
       "      <td>35.0</td>\n",
       "      <td>1</td>\n",
       "      <td>0</td>\n",
       "      <td>53.1000</td>\n",
       "      <td>S</td>\n",
       "    </tr>\n",
       "    <tr>\n",
       "      <th>4</th>\n",
       "      <td>0</td>\n",
       "      <td>3</td>\n",
       "      <td>male</td>\n",
       "      <td>35.0</td>\n",
       "      <td>0</td>\n",
       "      <td>0</td>\n",
       "      <td>8.0500</td>\n",
       "      <td>S</td>\n",
       "    </tr>\n",
       "  </tbody>\n",
       "</table>\n",
       "</div>"
      ]
     },
     "metadata": {},
     "execution_count": 9
    }
   ],
   "metadata": {}
  },
  {
   "cell_type": "code",
   "execution_count": 10,
   "source": [
    "df.info()"
   ],
   "outputs": [
    {
     "output_type": "stream",
     "name": "stdout",
     "text": [
      "<class 'pandas.core.frame.DataFrame'>\n",
      "RangeIndex: 891 entries, 0 to 890\n",
      "Data columns (total 8 columns):\n",
      " #   Column    Non-Null Count  Dtype  \n",
      "---  ------    --------------  -----  \n",
      " 0   Survived  891 non-null    int64  \n",
      " 1   Pclass    891 non-null    int64  \n",
      " 2   Sex       891 non-null    object \n",
      " 3   Age       714 non-null    float64\n",
      " 4   SibSp     891 non-null    int64  \n",
      " 5   Parch     891 non-null    int64  \n",
      " 6   Fare      891 non-null    float64\n",
      " 7   Embarked  889 non-null    object \n",
      "dtypes: float64(2), int64(4), object(2)\n",
      "memory usage: 55.8+ KB\n"
     ]
    }
   ],
   "metadata": {}
  },
  {
   "cell_type": "code",
   "execution_count": 11,
   "source": [
    "pd.crosstab(df.Pclass, df.Survived, margins=True)"
   ],
   "outputs": [
    {
     "output_type": "execute_result",
     "data": {
      "text/plain": [
       "Survived    0    1  All\n",
       "Pclass                 \n",
       "1          80  136  216\n",
       "2          97   87  184\n",
       "3         372  119  491\n",
       "All       549  342  891"
      ],
      "text/html": [
       "<div>\n",
       "<style scoped>\n",
       "    .dataframe tbody tr th:only-of-type {\n",
       "        vertical-align: middle;\n",
       "    }\n",
       "\n",
       "    .dataframe tbody tr th {\n",
       "        vertical-align: top;\n",
       "    }\n",
       "\n",
       "    .dataframe thead th {\n",
       "        text-align: right;\n",
       "    }\n",
       "</style>\n",
       "<table border=\"1\" class=\"dataframe\">\n",
       "  <thead>\n",
       "    <tr style=\"text-align: right;\">\n",
       "      <th>Survived</th>\n",
       "      <th>0</th>\n",
       "      <th>1</th>\n",
       "      <th>All</th>\n",
       "    </tr>\n",
       "    <tr>\n",
       "      <th>Pclass</th>\n",
       "      <th></th>\n",
       "      <th></th>\n",
       "      <th></th>\n",
       "    </tr>\n",
       "  </thead>\n",
       "  <tbody>\n",
       "    <tr>\n",
       "      <th>1</th>\n",
       "      <td>80</td>\n",
       "      <td>136</td>\n",
       "      <td>216</td>\n",
       "    </tr>\n",
       "    <tr>\n",
       "      <th>2</th>\n",
       "      <td>97</td>\n",
       "      <td>87</td>\n",
       "      <td>184</td>\n",
       "    </tr>\n",
       "    <tr>\n",
       "      <th>3</th>\n",
       "      <td>372</td>\n",
       "      <td>119</td>\n",
       "      <td>491</td>\n",
       "    </tr>\n",
       "    <tr>\n",
       "      <th>All</th>\n",
       "      <td>549</td>\n",
       "      <td>342</td>\n",
       "      <td>891</td>\n",
       "    </tr>\n",
       "  </tbody>\n",
       "</table>\n",
       "</div>"
      ]
     },
     "metadata": {},
     "execution_count": 11
    }
   ],
   "metadata": {}
  },
  {
   "cell_type": "code",
   "execution_count": 12,
   "source": [
    "df.isnull().sum()"
   ],
   "outputs": [
    {
     "output_type": "execute_result",
     "data": {
      "text/plain": [
       "Survived      0\n",
       "Pclass        0\n",
       "Sex           0\n",
       "Age         177\n",
       "SibSp         0\n",
       "Parch         0\n",
       "Fare          0\n",
       "Embarked      2\n",
       "dtype: int64"
      ]
     },
     "metadata": {},
     "execution_count": 12
    }
   ],
   "metadata": {}
  },
  {
   "cell_type": "code",
   "execution_count": 13,
   "source": [
    "df_test.isnull().sum()"
   ],
   "outputs": [
    {
     "output_type": "execute_result",
     "data": {
      "text/plain": [
       "Pclass       0\n",
       "Sex          0\n",
       "Age         86\n",
       "SibSp        0\n",
       "Parch        0\n",
       "Fare         1\n",
       "Embarked     0\n",
       "dtype: int64"
      ]
     },
     "metadata": {},
     "execution_count": 13
    }
   ],
   "metadata": {}
  },
  {
   "cell_type": "code",
   "execution_count": 14,
   "source": [
    "plt.hist(df['Age'], bins=100)\n",
    "\n",
    "plt.show()"
   ],
   "outputs": [
    {
     "output_type": "display_data",
     "data": {
      "text/plain": [
       "<Figure size 432x288 with 1 Axes>"
      ],
      "image/svg+xml": "<?xml version=\"1.0\" encoding=\"utf-8\" standalone=\"no\"?>\n<!DOCTYPE svg PUBLIC \"-//W3C//DTD SVG 1.1//EN\"\n  \"http://www.w3.org/Graphics/SVG/1.1/DTD/svg11.dtd\">\n<svg height=\"264.729375pt\" version=\"1.1\" viewBox=\"0 0 411.555 264.729375\" width=\"411.555pt\" xmlns=\"http://www.w3.org/2000/svg\" xmlns:xlink=\"http://www.w3.org/1999/xlink\">\n <metadata>\n  <rdf:RDF xmlns:cc=\"http://creativecommons.org/ns#\" xmlns:dc=\"http://purl.org/dc/elements/1.1/\" xmlns:rdf=\"http://www.w3.org/1999/02/22-rdf-syntax-ns#\">\n   <cc:Work>\n    <dc:type rdf:resource=\"http://purl.org/dc/dcmitype/StillImage\"/>\n    <dc:date>2021-08-30T14:01:56.035228</dc:date>\n    <dc:format>image/svg+xml</dc:format>\n    <dc:creator>\n     <cc:Agent>\n      <dc:title>Matplotlib v3.4.3, https://matplotlib.org/</dc:title>\n     </cc:Agent>\n    </dc:creator>\n   </cc:Work>\n  </rdf:RDF>\n </metadata>\n <defs>\n  <style type=\"text/css\">*{stroke-linecap:butt;stroke-linejoin:round;}</style>\n </defs>\n <g id=\"figure_1\">\n  <g id=\"patch_1\">\n   <path d=\"M 0 264.729375 \nL 411.555 264.729375 \nL 411.555 0 \nL 0 0 \nz\n\" style=\"fill:#f0f0f0;\"/>\n  </g>\n  <g id=\"axes_1\">\n   <g id=\"patch_2\">\n    <path d=\"M 28.515 240.48 \nL 404.355 240.48 \nL 404.355 7.2 \nL 28.515 7.2 \nz\n\" style=\"fill:#f0f0f0;\"/>\n   </g>\n   <g id=\"matplotlib.axis_1\">\n    <g id=\"xtick_1\">\n     <g id=\"line2d_1\">\n      <path clip-path=\"url(#p6efece561e)\" d=\"M 43.795387 240.48 \nL 43.795387 7.2 \n\" style=\"fill:none;stroke:#cbcbcb;\"/>\n     </g>\n     <g id=\"line2d_2\"/>\n     <g id=\"text_1\">\n      <!-- 0 -->\n      <g transform=\"translate(39.341637 254.617813)scale(0.14 -0.14)\">\n       <defs>\n        <path d=\"M 2034 4250 \nQ 1547 4250 1301 3770 \nQ 1056 3291 1056 2328 \nQ 1056 1369 1301 889 \nQ 1547 409 2034 409 \nQ 2525 409 2770 889 \nQ 3016 1369 3016 2328 \nQ 3016 3291 2770 3770 \nQ 2525 4250 2034 4250 \nz\nM 2034 4750 \nQ 2819 4750 3233 4129 \nQ 3647 3509 3647 2328 \nQ 3647 1150 3233 529 \nQ 2819 -91 2034 -91 \nQ 1250 -91 836 529 \nQ 422 1150 422 2328 \nQ 422 3509 836 4129 \nQ 1250 4750 2034 4750 \nz\n\" id=\"DejaVuSans-30\" transform=\"scale(0.015625)\"/>\n       </defs>\n       <use xlink:href=\"#DejaVuSans-30\"/>\n      </g>\n     </g>\n    </g>\n    <g id=\"xtick_2\">\n     <g id=\"line2d_3\">\n      <path clip-path=\"url(#p6efece561e)\" d=\"M 129.664382 240.48 \nL 129.664382 7.2 \n\" style=\"fill:none;stroke:#cbcbcb;\"/>\n     </g>\n     <g id=\"line2d_4\"/>\n     <g id=\"text_2\">\n      <!-- 20 -->\n      <g transform=\"translate(120.756882 254.617813)scale(0.14 -0.14)\">\n       <defs>\n        <path d=\"M 1228 531 \nL 3431 531 \nL 3431 0 \nL 469 0 \nL 469 531 \nQ 828 903 1448 1529 \nQ 2069 2156 2228 2338 \nQ 2531 2678 2651 2914 \nQ 2772 3150 2772 3378 \nQ 2772 3750 2511 3984 \nQ 2250 4219 1831 4219 \nQ 1534 4219 1204 4116 \nQ 875 4013 500 3803 \nL 500 4441 \nQ 881 4594 1212 4672 \nQ 1544 4750 1819 4750 \nQ 2544 4750 2975 4387 \nQ 3406 4025 3406 3419 \nQ 3406 3131 3298 2873 \nQ 3191 2616 2906 2266 \nQ 2828 2175 2409 1742 \nQ 1991 1309 1228 531 \nz\n\" id=\"DejaVuSans-32\" transform=\"scale(0.015625)\"/>\n       </defs>\n       <use xlink:href=\"#DejaVuSans-32\"/>\n       <use x=\"63.623047\" xlink:href=\"#DejaVuSans-30\"/>\n      </g>\n     </g>\n    </g>\n    <g id=\"xtick_3\">\n     <g id=\"line2d_5\">\n      <path clip-path=\"url(#p6efece561e)\" d=\"M 215.533376 240.48 \nL 215.533376 7.2 \n\" style=\"fill:none;stroke:#cbcbcb;\"/>\n     </g>\n     <g id=\"line2d_6\"/>\n     <g id=\"text_3\">\n      <!-- 40 -->\n      <g transform=\"translate(206.625876 254.617813)scale(0.14 -0.14)\">\n       <defs>\n        <path d=\"M 2419 4116 \nL 825 1625 \nL 2419 1625 \nL 2419 4116 \nz\nM 2253 4666 \nL 3047 4666 \nL 3047 1625 \nL 3713 1625 \nL 3713 1100 \nL 3047 1100 \nL 3047 0 \nL 2419 0 \nL 2419 1100 \nL 313 1100 \nL 313 1709 \nL 2253 4666 \nz\n\" id=\"DejaVuSans-34\" transform=\"scale(0.015625)\"/>\n       </defs>\n       <use xlink:href=\"#DejaVuSans-34\"/>\n       <use x=\"63.623047\" xlink:href=\"#DejaVuSans-30\"/>\n      </g>\n     </g>\n    </g>\n    <g id=\"xtick_4\">\n     <g id=\"line2d_7\">\n      <path clip-path=\"url(#p6efece561e)\" d=\"M 301.40237 240.48 \nL 301.40237 7.2 \n\" style=\"fill:none;stroke:#cbcbcb;\"/>\n     </g>\n     <g id=\"line2d_8\"/>\n     <g id=\"text_4\">\n      <!-- 60 -->\n      <g transform=\"translate(292.49487 254.617813)scale(0.14 -0.14)\">\n       <defs>\n        <path d=\"M 2113 2584 \nQ 1688 2584 1439 2293 \nQ 1191 2003 1191 1497 \nQ 1191 994 1439 701 \nQ 1688 409 2113 409 \nQ 2538 409 2786 701 \nQ 3034 994 3034 1497 \nQ 3034 2003 2786 2293 \nQ 2538 2584 2113 2584 \nz\nM 3366 4563 \nL 3366 3988 \nQ 3128 4100 2886 4159 \nQ 2644 4219 2406 4219 \nQ 1781 4219 1451 3797 \nQ 1122 3375 1075 2522 \nQ 1259 2794 1537 2939 \nQ 1816 3084 2150 3084 \nQ 2853 3084 3261 2657 \nQ 3669 2231 3669 1497 \nQ 3669 778 3244 343 \nQ 2819 -91 2113 -91 \nQ 1303 -91 875 529 \nQ 447 1150 447 2328 \nQ 447 3434 972 4092 \nQ 1497 4750 2381 4750 \nQ 2619 4750 2861 4703 \nQ 3103 4656 3366 4563 \nz\n\" id=\"DejaVuSans-36\" transform=\"scale(0.015625)\"/>\n       </defs>\n       <use xlink:href=\"#DejaVuSans-36\"/>\n       <use x=\"63.623047\" xlink:href=\"#DejaVuSans-30\"/>\n      </g>\n     </g>\n    </g>\n    <g id=\"xtick_5\">\n     <g id=\"line2d_9\">\n      <path clip-path=\"url(#p6efece561e)\" d=\"M 387.271364 240.48 \nL 387.271364 7.2 \n\" style=\"fill:none;stroke:#cbcbcb;\"/>\n     </g>\n     <g id=\"line2d_10\"/>\n     <g id=\"text_5\">\n      <!-- 80 -->\n      <g transform=\"translate(378.363864 254.617813)scale(0.14 -0.14)\">\n       <defs>\n        <path d=\"M 2034 2216 \nQ 1584 2216 1326 1975 \nQ 1069 1734 1069 1313 \nQ 1069 891 1326 650 \nQ 1584 409 2034 409 \nQ 2484 409 2743 651 \nQ 3003 894 3003 1313 \nQ 3003 1734 2745 1975 \nQ 2488 2216 2034 2216 \nz\nM 1403 2484 \nQ 997 2584 770 2862 \nQ 544 3141 544 3541 \nQ 544 4100 942 4425 \nQ 1341 4750 2034 4750 \nQ 2731 4750 3128 4425 \nQ 3525 4100 3525 3541 \nQ 3525 3141 3298 2862 \nQ 3072 2584 2669 2484 \nQ 3125 2378 3379 2068 \nQ 3634 1759 3634 1313 \nQ 3634 634 3220 271 \nQ 2806 -91 2034 -91 \nQ 1263 -91 848 271 \nQ 434 634 434 1313 \nQ 434 1759 690 2068 \nQ 947 2378 1403 2484 \nz\nM 1172 3481 \nQ 1172 3119 1398 2916 \nQ 1625 2713 2034 2713 \nQ 2441 2713 2670 2916 \nQ 2900 3119 2900 3481 \nQ 2900 3844 2670 4047 \nQ 2441 4250 2034 4250 \nQ 1625 4250 1398 4047 \nQ 1172 3844 1172 3481 \nz\n\" id=\"DejaVuSans-38\" transform=\"scale(0.015625)\"/>\n       </defs>\n       <use xlink:href=\"#DejaVuSans-38\"/>\n       <use x=\"63.623047\" xlink:href=\"#DejaVuSans-30\"/>\n      </g>\n     </g>\n    </g>\n   </g>\n   <g id=\"matplotlib.axis_2\">\n    <g id=\"ytick_1\">\n     <g id=\"line2d_11\">\n      <path clip-path=\"url(#p6efece561e)\" d=\"M 28.515 240.48 \nL 404.355 240.48 \n\" style=\"fill:none;stroke:#cbcbcb;\"/>\n     </g>\n     <g id=\"line2d_12\"/>\n     <g id=\"text_6\">\n      <!-- 0 -->\n      <g transform=\"translate(16.1075 245.798906)scale(0.14 -0.14)\">\n       <use xlink:href=\"#DejaVuSans-30\"/>\n      </g>\n     </g>\n    </g>\n    <g id=\"ytick_2\">\n     <g id=\"line2d_13\">\n      <path clip-path=\"url(#p6efece561e)\" d=\"M 28.515 204.645899 \nL 404.355 204.645899 \n\" style=\"fill:none;stroke:#cbcbcb;\"/>\n     </g>\n     <g id=\"line2d_14\"/>\n     <g id=\"text_7\">\n      <!-- 5 -->\n      <g transform=\"translate(16.1075 209.964805)scale(0.14 -0.14)\">\n       <defs>\n        <path d=\"M 691 4666 \nL 3169 4666 \nL 3169 4134 \nL 1269 4134 \nL 1269 2991 \nQ 1406 3038 1543 3061 \nQ 1681 3084 1819 3084 \nQ 2600 3084 3056 2656 \nQ 3513 2228 3513 1497 \nQ 3513 744 3044 326 \nQ 2575 -91 1722 -91 \nQ 1428 -91 1123 -41 \nQ 819 9 494 109 \nL 494 744 \nQ 775 591 1075 516 \nQ 1375 441 1709 441 \nQ 2250 441 2565 725 \nQ 2881 1009 2881 1497 \nQ 2881 1984 2565 2268 \nQ 2250 2553 1709 2553 \nQ 1456 2553 1204 2497 \nQ 953 2441 691 2322 \nL 691 4666 \nz\n\" id=\"DejaVuSans-35\" transform=\"scale(0.015625)\"/>\n       </defs>\n       <use xlink:href=\"#DejaVuSans-35\"/>\n      </g>\n     </g>\n    </g>\n    <g id=\"ytick_3\">\n     <g id=\"line2d_15\">\n      <path clip-path=\"url(#p6efece561e)\" d=\"M 28.515 168.811797 \nL 404.355 168.811797 \n\" style=\"fill:none;stroke:#cbcbcb;\"/>\n     </g>\n     <g id=\"line2d_16\"/>\n     <g id=\"text_8\">\n      <!-- 10 -->\n      <g transform=\"translate(7.2 174.130703)scale(0.14 -0.14)\">\n       <defs>\n        <path d=\"M 794 531 \nL 1825 531 \nL 1825 4091 \nL 703 3866 \nL 703 4441 \nL 1819 4666 \nL 2450 4666 \nL 2450 531 \nL 3481 531 \nL 3481 0 \nL 794 0 \nL 794 531 \nz\n\" id=\"DejaVuSans-31\" transform=\"scale(0.015625)\"/>\n       </defs>\n       <use xlink:href=\"#DejaVuSans-31\"/>\n       <use x=\"63.623047\" xlink:href=\"#DejaVuSans-30\"/>\n      </g>\n     </g>\n    </g>\n    <g id=\"ytick_4\">\n     <g id=\"line2d_17\">\n      <path clip-path=\"url(#p6efece561e)\" d=\"M 28.515 132.977696 \nL 404.355 132.977696 \n\" style=\"fill:none;stroke:#cbcbcb;\"/>\n     </g>\n     <g id=\"line2d_18\"/>\n     <g id=\"text_9\">\n      <!-- 15 -->\n      <g transform=\"translate(7.2 138.296602)scale(0.14 -0.14)\">\n       <use xlink:href=\"#DejaVuSans-31\"/>\n       <use x=\"63.623047\" xlink:href=\"#DejaVuSans-35\"/>\n      </g>\n     </g>\n    </g>\n    <g id=\"ytick_5\">\n     <g id=\"line2d_19\">\n      <path clip-path=\"url(#p6efece561e)\" d=\"M 28.515 97.143594 \nL 404.355 97.143594 \n\" style=\"fill:none;stroke:#cbcbcb;\"/>\n     </g>\n     <g id=\"line2d_20\"/>\n     <g id=\"text_10\">\n      <!-- 20 -->\n      <g transform=\"translate(7.2 102.462501)scale(0.14 -0.14)\">\n       <use xlink:href=\"#DejaVuSans-32\"/>\n       <use x=\"63.623047\" xlink:href=\"#DejaVuSans-30\"/>\n      </g>\n     </g>\n    </g>\n    <g id=\"ytick_6\">\n     <g id=\"line2d_21\">\n      <path clip-path=\"url(#p6efece561e)\" d=\"M 28.515 61.309493 \nL 404.355 61.309493 \n\" style=\"fill:none;stroke:#cbcbcb;\"/>\n     </g>\n     <g id=\"line2d_22\"/>\n     <g id=\"text_11\">\n      <!-- 25 -->\n      <g transform=\"translate(7.2 66.628399)scale(0.14 -0.14)\">\n       <use xlink:href=\"#DejaVuSans-32\"/>\n       <use x=\"63.623047\" xlink:href=\"#DejaVuSans-35\"/>\n      </g>\n     </g>\n    </g>\n    <g id=\"ytick_7\">\n     <g id=\"line2d_23\">\n      <path clip-path=\"url(#p6efece561e)\" d=\"M 28.515 25.475392 \nL 404.355 25.475392 \n\" style=\"fill:none;stroke:#cbcbcb;\"/>\n     </g>\n     <g id=\"line2d_24\"/>\n     <g id=\"text_12\">\n      <!-- 30 -->\n      <g transform=\"translate(7.2 30.794298)scale(0.14 -0.14)\">\n       <defs>\n        <path d=\"M 2597 2516 \nQ 3050 2419 3304 2112 \nQ 3559 1806 3559 1356 \nQ 3559 666 3084 287 \nQ 2609 -91 1734 -91 \nQ 1441 -91 1130 -33 \nQ 819 25 488 141 \nL 488 750 \nQ 750 597 1062 519 \nQ 1375 441 1716 441 \nQ 2309 441 2620 675 \nQ 2931 909 2931 1356 \nQ 2931 1769 2642 2001 \nQ 2353 2234 1838 2234 \nL 1294 2234 \nL 1294 2753 \nL 1863 2753 \nQ 2328 2753 2575 2939 \nQ 2822 3125 2822 3475 \nQ 2822 3834 2567 4026 \nQ 2313 4219 1838 4219 \nQ 1578 4219 1281 4162 \nQ 984 4106 628 3988 \nL 628 4550 \nQ 988 4650 1302 4700 \nQ 1616 4750 1894 4750 \nQ 2613 4750 3031 4423 \nQ 3450 4097 3450 3541 \nQ 3450 3153 3228 2886 \nQ 3006 2619 2597 2516 \nz\n\" id=\"DejaVuSans-33\" transform=\"scale(0.015625)\"/>\n       </defs>\n       <use xlink:href=\"#DejaVuSans-33\"/>\n       <use x=\"63.623047\" xlink:href=\"#DejaVuSans-30\"/>\n      </g>\n     </g>\n    </g>\n   </g>\n   <g id=\"patch_3\">\n    <path clip-path=\"url(#p6efece561e)\" d=\"M 45.598636 240.48 \nL 49.015364 240.48 \nL 49.015364 140.144516 \nL 45.598636 140.144516 \nz\n\" style=\"fill:#008fd5;\"/>\n   </g>\n   <g id=\"patch_4\">\n    <path clip-path=\"url(#p6efece561e)\" d=\"M 49.015364 240.48 \nL 52.432091 240.48 \nL 52.432091 168.811797 \nL 49.015364 168.811797 \nz\n\" style=\"fill:#008fd5;\"/>\n   </g>\n   <g id=\"patch_5\">\n    <path clip-path=\"url(#p6efece561e)\" d=\"M 52.432091 240.48 \nL 55.848818 240.48 \nL 55.848818 240.48 \nL 52.432091 240.48 \nz\n\" style=\"fill:#008fd5;\"/>\n   </g>\n   <g id=\"patch_6\">\n    <path clip-path=\"url(#p6efece561e)\" d=\"M 55.848818 240.48 \nL 59.265545 240.48 \nL 59.265545 197.479078 \nL 55.848818 197.479078 \nz\n\" style=\"fill:#008fd5;\"/>\n   </g>\n   <g id=\"patch_7\">\n    <path clip-path=\"url(#p6efece561e)\" d=\"M 59.265545 240.48 \nL 62.682273 240.48 \nL 62.682273 168.811797 \nL 59.265545 168.811797 \nz\n\" style=\"fill:#008fd5;\"/>\n   </g>\n   <g id=\"patch_8\">\n    <path clip-path=\"url(#p6efece561e)\" d=\"M 62.682273 240.48 \nL 66.099 240.48 \nL 66.099 211.812719 \nL 62.682273 211.812719 \nz\n\" style=\"fill:#008fd5;\"/>\n   </g>\n   <g id=\"patch_9\">\n    <path clip-path=\"url(#p6efece561e)\" d=\"M 66.099 240.48 \nL 69.515727 240.48 \nL 69.515727 240.48 \nL 66.099 240.48 \nz\n\" style=\"fill:#008fd5;\"/>\n   </g>\n   <g id=\"patch_10\">\n    <path clip-path=\"url(#p6efece561e)\" d=\"M 69.515727 240.48 \nL 72.932455 240.48 \nL 72.932455 218.979539 \nL 69.515727 218.979539 \nz\n\" style=\"fill:#008fd5;\"/>\n   </g>\n   <g id=\"patch_11\">\n    <path clip-path=\"url(#p6efece561e)\" d=\"M 72.932455 240.48 \nL 76.349182 240.48 \nL 76.349182 218.979539 \nL 72.932455 218.979539 \nz\n\" style=\"fill:#008fd5;\"/>\n   </g>\n   <g id=\"patch_12\">\n    <path clip-path=\"url(#p6efece561e)\" d=\"M 76.349182 240.48 \nL 79.765909 240.48 \nL 79.765909 211.812719 \nL 76.349182 211.812719 \nz\n\" style=\"fill:#008fd5;\"/>\n   </g>\n   <g id=\"patch_13\">\n    <path clip-path=\"url(#p6efece561e)\" d=\"M 79.765909 240.48 \nL 83.182636 240.48 \nL 83.182636 183.145438 \nL 79.765909 183.145438 \nz\n\" style=\"fill:#008fd5;\"/>\n   </g>\n   <g id=\"patch_14\">\n    <path clip-path=\"url(#p6efece561e)\" d=\"M 83.182636 240.48 \nL 86.599364 240.48 \nL 86.599364 240.48 \nL 83.182636 240.48 \nz\n\" style=\"fill:#008fd5;\"/>\n   </g>\n   <g id=\"patch_15\">\n    <path clip-path=\"url(#p6efece561e)\" d=\"M 86.599364 240.48 \nL 90.016091 240.48 \nL 90.016091 226.146359 \nL 86.599364 226.146359 \nz\n\" style=\"fill:#008fd5;\"/>\n   </g>\n   <g id=\"patch_16\">\n    <path clip-path=\"url(#p6efece561e)\" d=\"M 90.016091 240.48 \nL 93.432818 240.48 \nL 93.432818 211.812719 \nL 90.016091 211.812719 \nz\n\" style=\"fill:#008fd5;\"/>\n   </g>\n   <g id=\"patch_17\">\n    <path clip-path=\"url(#p6efece561e)\" d=\"M 93.432818 240.48 \nL 96.849545 240.48 \nL 96.849545 233.31318 \nL 93.432818 233.31318 \nz\n\" style=\"fill:#008fd5;\"/>\n   </g>\n   <g id=\"patch_18\">\n    <path clip-path=\"url(#p6efece561e)\" d=\"M 96.849545 240.48 \nL 100.266273 240.48 \nL 100.266273 226.146359 \nL 96.849545 226.146359 \nz\n\" style=\"fill:#008fd5;\"/>\n   </g>\n   <g id=\"patch_19\">\n    <path clip-path=\"url(#p6efece561e)\" d=\"M 100.266273 240.48 \nL 103.683 240.48 \nL 103.683 240.48 \nL 100.266273 240.48 \nz\n\" style=\"fill:#008fd5;\"/>\n   </g>\n   <g id=\"patch_20\">\n    <path clip-path=\"url(#p6efece561e)\" d=\"M 103.683 240.48 \nL 107.099727 240.48 \nL 107.099727 190.312258 \nL 103.683 190.312258 \nz\n\" style=\"fill:#008fd5;\"/>\n   </g>\n   <g id=\"patch_21\">\n    <path clip-path=\"url(#p6efece561e)\" d=\"M 107.099727 240.48 \nL 110.516455 240.48 \nL 110.516455 204.645899 \nL 107.099727 204.645899 \nz\n\" style=\"fill:#008fd5;\"/>\n   </g>\n   <g id=\"patch_22\">\n    <path clip-path=\"url(#p6efece561e)\" d=\"M 110.516455 240.48 \nL 113.933182 240.48 \nL 113.933182 118.644055 \nL 110.516455 118.644055 \nz\n\" style=\"fill:#008fd5;\"/>\n   </g>\n   <g id=\"patch_23\">\n    <path clip-path=\"url(#p6efece561e)\" d=\"M 113.933182 240.48 \nL 117.349909 240.48 \nL 117.349909 147.311336 \nL 113.933182 147.311336 \nz\n\" style=\"fill:#008fd5;\"/>\n   </g>\n   <g id=\"patch_24\">\n    <path clip-path=\"url(#p6efece561e)\" d=\"M 117.349909 240.48 \nL 120.766636 240.48 \nL 120.766636 240.48 \nL 117.349909 240.48 \nz\n\" style=\"fill:#008fd5;\"/>\n   </g>\n   <g id=\"patch_25\">\n    <path clip-path=\"url(#p6efece561e)\" d=\"M 120.766636 240.48 \nL 124.183364 240.48 \nL 124.183364 54.142673 \nL 120.766636 54.142673 \nz\n\" style=\"fill:#008fd5;\"/>\n   </g>\n   <g id=\"patch_26\">\n    <path clip-path=\"url(#p6efece561e)\" d=\"M 124.183364 240.48 \nL 127.600091 240.48 \nL 127.600091 61.309493 \nL 124.183364 61.309493 \nz\n\" style=\"fill:#008fd5;\"/>\n   </g>\n   <g id=\"patch_27\">\n    <path clip-path=\"url(#p6efece561e)\" d=\"M 127.600091 240.48 \nL 131.016818 240.48 \nL 131.016818 132.977696 \nL 127.600091 132.977696 \nz\n\" style=\"fill:#008fd5;\"/>\n   </g>\n   <g id=\"patch_28\">\n    <path clip-path=\"url(#p6efece561e)\" d=\"M 131.016818 240.48 \nL 134.433545 240.48 \nL 134.433545 61.309493 \nL 131.016818 61.309493 \nz\n\" style=\"fill:#008fd5;\"/>\n   </g>\n   <g id=\"patch_29\">\n    <path clip-path=\"url(#p6efece561e)\" d=\"M 134.433545 240.48 \nL 137.850273 240.48 \nL 137.850273 240.48 \nL 134.433545 240.48 \nz\n\" style=\"fill:#008fd5;\"/>\n   </g>\n   <g id=\"patch_30\">\n    <path clip-path=\"url(#p6efece561e)\" d=\"M 137.850273 240.48 \nL 141.267 240.48 \nL 141.267 46.975853 \nL 137.850273 46.975853 \nz\n\" style=\"fill:#008fd5;\"/>\n   </g>\n   <g id=\"patch_31\">\n    <path clip-path=\"url(#p6efece561e)\" d=\"M 141.267 240.48 \nL 144.683727 240.48 \nL 144.683727 132.977696 \nL 141.267 132.977696 \nz\n\" style=\"fill:#008fd5;\"/>\n   </g>\n   <g id=\"patch_32\">\n    <path clip-path=\"url(#p6efece561e)\" d=\"M 144.683727 240.48 \nL 148.100455 240.48 \nL 148.100455 18.308571 \nL 144.683727 18.308571 \nz\n\" style=\"fill:#008fd5;\"/>\n   </g>\n   <g id=\"patch_33\">\n    <path clip-path=\"url(#p6efece561e)\" d=\"M 148.100455 240.48 \nL 151.517182 240.48 \nL 151.517182 68.476313 \nL 148.100455 68.476313 \nz\n\" style=\"fill:#008fd5;\"/>\n   </g>\n   <g id=\"patch_34\">\n    <path clip-path=\"url(#p6efece561e)\" d=\"M 151.517182 240.48 \nL 154.933909 240.48 \nL 154.933909 240.48 \nL 151.517182 240.48 \nz\n\" style=\"fill:#008fd5;\"/>\n   </g>\n   <g id=\"patch_35\">\n    <path clip-path=\"url(#p6efece561e)\" d=\"M 154.933909 240.48 \nL 158.350636 240.48 \nL 158.350636 111.477235 \nL 154.933909 111.477235 \nz\n\" style=\"fill:#008fd5;\"/>\n   </g>\n   <g id=\"patch_36\">\n    <path clip-path=\"url(#p6efece561e)\" d=\"M 158.350636 240.48 \nL 161.767364 240.48 \nL 161.767364 111.477235 \nL 158.350636 111.477235 \nz\n\" style=\"fill:#008fd5;\"/>\n   </g>\n   <g id=\"patch_37\">\n    <path clip-path=\"url(#p6efece561e)\" d=\"M 161.767364 240.48 \nL 165.184091 240.48 \nL 165.184091 61.309493 \nL 161.767364 61.309493 \nz\n\" style=\"fill:#008fd5;\"/>\n   </g>\n   <g id=\"patch_38\">\n    <path clip-path=\"url(#p6efece561e)\" d=\"M 165.184091 240.48 \nL 168.600818 240.48 \nL 168.600818 82.809954 \nL 165.184091 82.809954 \nz\n\" style=\"fill:#008fd5;\"/>\n   </g>\n   <g id=\"patch_39\">\n    <path clip-path=\"url(#p6efece561e)\" d=\"M 168.600818 240.48 \nL 172.017545 240.48 \nL 172.017545 240.48 \nL 168.600818 240.48 \nz\n\" style=\"fill:#008fd5;\"/>\n   </g>\n   <g id=\"patch_40\">\n    <path clip-path=\"url(#p6efece561e)\" d=\"M 172.017545 240.48 \nL 175.434273 240.48 \nL 175.434273 46.975853 \nL 172.017545 46.975853 \nz\n\" style=\"fill:#008fd5;\"/>\n   </g>\n   <g id=\"patch_41\">\n    <path clip-path=\"url(#p6efece561e)\" d=\"M 175.434273 240.48 \nL 178.851 240.48 \nL 178.851 118.644055 \nL 175.434273 118.644055 \nz\n\" style=\"fill:#008fd5;\"/>\n   </g>\n   <g id=\"patch_42\">\n    <path clip-path=\"url(#p6efece561e)\" d=\"M 178.851 240.48 \nL 182.267727 240.48 \nL 182.267727 111.477235 \nL 178.851 111.477235 \nz\n\" style=\"fill:#008fd5;\"/>\n   </g>\n   <g id=\"patch_43\">\n    <path clip-path=\"url(#p6efece561e)\" d=\"M 182.267727 240.48 \nL 185.684455 240.48 \nL 185.684455 118.644055 \nL 182.267727 118.644055 \nz\n\" style=\"fill:#008fd5;\"/>\n   </g>\n   <g id=\"patch_44\">\n    <path clip-path=\"url(#p6efece561e)\" d=\"M 185.684455 240.48 \nL 189.101182 240.48 \nL 189.101182 240.48 \nL 185.684455 240.48 \nz\n\" style=\"fill:#008fd5;\"/>\n   </g>\n   <g id=\"patch_45\">\n    <path clip-path=\"url(#p6efece561e)\" d=\"M 189.101182 240.48 \nL 192.517909 240.48 \nL 192.517909 125.810876 \nL 189.101182 125.810876 \nz\n\" style=\"fill:#008fd5;\"/>\n   </g>\n   <g id=\"patch_46\">\n    <path clip-path=\"url(#p6efece561e)\" d=\"M 192.517909 240.48 \nL 195.934636 240.48 \nL 195.934636 111.477235 \nL 192.517909 111.477235 \nz\n\" style=\"fill:#008fd5;\"/>\n   </g>\n   <g id=\"patch_47\">\n    <path clip-path=\"url(#p6efece561e)\" d=\"M 195.934636 240.48 \nL 199.351364 240.48 \nL 199.351364 82.809954 \nL 195.934636 82.809954 \nz\n\" style=\"fill:#008fd5;\"/>\n   </g>\n   <g id=\"patch_48\">\n    <path clip-path=\"url(#p6efece561e)\" d=\"M 199.351364 240.48 \nL 202.768091 240.48 \nL 202.768091 190.312258 \nL 199.351364 190.312258 \nz\n\" style=\"fill:#008fd5;\"/>\n   </g>\n   <g id=\"patch_49\">\n    <path clip-path=\"url(#p6efece561e)\" d=\"M 202.768091 240.48 \nL 206.184818 240.48 \nL 206.184818 240.48 \nL 202.768091 240.48 \nz\n\" style=\"fill:#008fd5;\"/>\n   </g>\n   <g id=\"patch_50\">\n    <path clip-path=\"url(#p6efece561e)\" d=\"M 206.184818 240.48 \nL 209.601545 240.48 \nL 209.601545 161.644977 \nL 206.184818 161.644977 \nz\n\" style=\"fill:#008fd5;\"/>\n   </g>\n   <g id=\"patch_51\">\n    <path clip-path=\"url(#p6efece561e)\" d=\"M 209.601545 240.48 \nL 213.018273 240.48 \nL 213.018273 140.144516 \nL 209.601545 140.144516 \nz\n\" style=\"fill:#008fd5;\"/>\n   </g>\n   <g id=\"patch_52\">\n    <path clip-path=\"url(#p6efece561e)\" d=\"M 213.018273 240.48 \nL 216.435 240.48 \nL 216.435 147.311336 \nL 213.018273 147.311336 \nz\n\" style=\"fill:#008fd5;\"/>\n   </g>\n   <g id=\"patch_53\">\n    <path clip-path=\"url(#p6efece561e)\" d=\"M 216.435 240.48 \nL 219.851727 240.48 \nL 219.851727 183.145438 \nL 216.435 183.145438 \nz\n\" style=\"fill:#008fd5;\"/>\n   </g>\n   <g id=\"patch_54\">\n    <path clip-path=\"url(#p6efece561e)\" d=\"M 219.851727 240.48 \nL 223.268455 240.48 \nL 223.268455 240.48 \nL 219.851727 240.48 \nz\n\" style=\"fill:#008fd5;\"/>\n   </g>\n   <g id=\"patch_55\">\n    <path clip-path=\"url(#p6efece561e)\" d=\"M 223.268455 240.48 \nL 226.685182 240.48 \nL 226.685182 147.311336 \nL 223.268455 147.311336 \nz\n\" style=\"fill:#008fd5;\"/>\n   </g>\n   <g id=\"patch_56\">\n    <path clip-path=\"url(#p6efece561e)\" d=\"M 226.685182 240.48 \nL 230.101909 240.48 \nL 230.101909 204.645899 \nL 226.685182 204.645899 \nz\n\" style=\"fill:#008fd5;\"/>\n   </g>\n   <g id=\"patch_57\">\n    <path clip-path=\"url(#p6efece561e)\" d=\"M 230.101909 240.48 \nL 233.518636 240.48 \nL 233.518636 175.978618 \nL 230.101909 175.978618 \nz\n\" style=\"fill:#008fd5;\"/>\n   </g>\n   <g id=\"patch_58\">\n    <path clip-path=\"url(#p6efece561e)\" d=\"M 233.518636 240.48 \nL 236.935364 240.48 \nL 236.935364 240.48 \nL 233.518636 240.48 \nz\n\" style=\"fill:#008fd5;\"/>\n   </g>\n   <g id=\"patch_59\">\n    <path clip-path=\"url(#p6efece561e)\" d=\"M 236.935364 240.48 \nL 240.352091 240.48 \nL 240.352091 140.144516 \nL 236.935364 140.144516 \nz\n\" style=\"fill:#008fd5;\"/>\n   </g>\n   <g id=\"patch_60\">\n    <path clip-path=\"url(#p6efece561e)\" d=\"M 240.352091 240.48 \nL 243.768818 240.48 \nL 243.768818 218.979539 \nL 240.352091 218.979539 \nz\n\" style=\"fill:#008fd5;\"/>\n   </g>\n   <g id=\"patch_61\">\n    <path clip-path=\"url(#p6efece561e)\" d=\"M 243.768818 240.48 \nL 247.185545 240.48 \nL 247.185545 175.978618 \nL 243.768818 175.978618 \nz\n\" style=\"fill:#008fd5;\"/>\n   </g>\n   <g id=\"patch_62\">\n    <path clip-path=\"url(#p6efece561e)\" d=\"M 247.185545 240.48 \nL 250.602273 240.48 \nL 250.602273 175.978618 \nL 247.185545 175.978618 \nz\n\" style=\"fill:#008fd5;\"/>\n   </g>\n   <g id=\"patch_63\">\n    <path clip-path=\"url(#p6efece561e)\" d=\"M 250.602273 240.48 \nL 254.019 240.48 \nL 254.019 240.48 \nL 250.602273 240.48 \nz\n\" style=\"fill:#008fd5;\"/>\n   </g>\n   <g id=\"patch_64\">\n    <path clip-path=\"url(#p6efece561e)\" d=\"M 254.019 240.48 \nL 257.435727 240.48 \nL 257.435727 197.479078 \nL 254.019 197.479078 \nz\n\" style=\"fill:#008fd5;\"/>\n   </g>\n   <g id=\"patch_65\">\n    <path clip-path=\"url(#p6efece561e)\" d=\"M 257.435727 240.48 \nL 260.852455 240.48 \nL 260.852455 168.811797 \nL 257.435727 168.811797 \nz\n\" style=\"fill:#008fd5;\"/>\n   </g>\n   <g id=\"patch_66\">\n    <path clip-path=\"url(#p6efece561e)\" d=\"M 260.852455 240.48 \nL 264.269182 240.48 \nL 264.269182 190.312258 \nL 260.852455 190.312258 \nz\n\" style=\"fill:#008fd5;\"/>\n   </g>\n   <g id=\"patch_67\">\n    <path clip-path=\"url(#p6efece561e)\" d=\"M 264.269182 240.48 \nL 267.685909 240.48 \nL 267.685909 197.479078 \nL 264.269182 197.479078 \nz\n\" style=\"fill:#008fd5;\"/>\n   </g>\n   <g id=\"patch_68\">\n    <path clip-path=\"url(#p6efece561e)\" d=\"M 267.685909 240.48 \nL 271.102636 240.48 \nL 271.102636 240.48 \nL 267.685909 240.48 \nz\n\" style=\"fill:#008fd5;\"/>\n   </g>\n   <g id=\"patch_69\">\n    <path clip-path=\"url(#p6efece561e)\" d=\"M 271.102636 240.48 \nL 274.519364 240.48 \nL 274.519364 233.31318 \nL 271.102636 233.31318 \nz\n\" style=\"fill:#008fd5;\"/>\n   </g>\n   <g id=\"patch_70\">\n    <path clip-path=\"url(#p6efece561e)\" d=\"M 274.519364 240.48 \nL 277.936091 240.48 \nL 277.936091 183.145438 \nL 274.519364 183.145438 \nz\n\" style=\"fill:#008fd5;\"/>\n   </g>\n   <g id=\"patch_71\">\n    <path clip-path=\"url(#p6efece561e)\" d=\"M 277.936091 240.48 \nL 281.352818 240.48 \nL 281.352818 226.146359 \nL 277.936091 226.146359 \nz\n\" style=\"fill:#008fd5;\"/>\n   </g>\n   <g id=\"patch_72\">\n    <path clip-path=\"url(#p6efece561e)\" d=\"M 281.352818 240.48 \nL 284.769545 240.48 \nL 284.769545 204.645899 \nL 281.352818 204.645899 \nz\n\" style=\"fill:#008fd5;\"/>\n   </g>\n   <g id=\"patch_73\">\n    <path clip-path=\"url(#p6efece561e)\" d=\"M 284.769545 240.48 \nL 288.186273 240.48 \nL 288.186273 240.48 \nL 284.769545 240.48 \nz\n\" style=\"fill:#008fd5;\"/>\n   </g>\n   <g id=\"patch_74\">\n    <path clip-path=\"url(#p6efece561e)\" d=\"M 288.186273 240.48 \nL 291.603 240.48 \nL 291.603 226.146359 \nL 288.186273 226.146359 \nz\n\" style=\"fill:#008fd5;\"/>\n   </g>\n   <g id=\"patch_75\">\n    <path clip-path=\"url(#p6efece561e)\" d=\"M 291.603 240.48 \nL 295.019727 240.48 \nL 295.019727 204.645899 \nL 291.603 204.645899 \nz\n\" style=\"fill:#008fd5;\"/>\n   </g>\n   <g id=\"patch_76\">\n    <path clip-path=\"url(#p6efece561e)\" d=\"M 295.019727 240.48 \nL 298.436455 240.48 \nL 298.436455 226.146359 \nL 295.019727 226.146359 \nz\n\" style=\"fill:#008fd5;\"/>\n   </g>\n   <g id=\"patch_77\">\n    <path clip-path=\"url(#p6efece561e)\" d=\"M 298.436455 240.48 \nL 301.853182 240.48 \nL 301.853182 211.812719 \nL 298.436455 211.812719 \nz\n\" style=\"fill:#008fd5;\"/>\n   </g>\n   <g id=\"patch_78\">\n    <path clip-path=\"url(#p6efece561e)\" d=\"M 301.853182 240.48 \nL 305.269909 240.48 \nL 305.269909 240.48 \nL 301.853182 240.48 \nz\n\" style=\"fill:#008fd5;\"/>\n   </g>\n   <g id=\"patch_79\">\n    <path clip-path=\"url(#p6efece561e)\" d=\"M 305.269909 240.48 \nL 308.686636 240.48 \nL 308.686636 218.979539 \nL 305.269909 218.979539 \nz\n\" style=\"fill:#008fd5;\"/>\n   </g>\n   <g id=\"patch_80\">\n    <path clip-path=\"url(#p6efece561e)\" d=\"M 308.686636 240.48 \nL 312.103364 240.48 \nL 312.103364 211.812719 \nL 308.686636 211.812719 \nz\n\" style=\"fill:#008fd5;\"/>\n   </g>\n   <g id=\"patch_81\">\n    <path clip-path=\"url(#p6efece561e)\" d=\"M 312.103364 240.48 \nL 315.520091 240.48 \nL 315.520091 226.146359 \nL 312.103364 226.146359 \nz\n\" style=\"fill:#008fd5;\"/>\n   </g>\n   <g id=\"patch_82\">\n    <path clip-path=\"url(#p6efece561e)\" d=\"M 315.520091 240.48 \nL 318.936818 240.48 \nL 318.936818 226.146359 \nL 315.520091 226.146359 \nz\n\" style=\"fill:#008fd5;\"/>\n   </g>\n   <g id=\"patch_83\">\n    <path clip-path=\"url(#p6efece561e)\" d=\"M 318.936818 240.48 \nL 322.353545 240.48 \nL 322.353545 240.48 \nL 318.936818 240.48 \nz\n\" style=\"fill:#008fd5;\"/>\n   </g>\n   <g id=\"patch_84\">\n    <path clip-path=\"url(#p6efece561e)\" d=\"M 322.353545 240.48 \nL 325.770273 240.48 \nL 325.770273 218.979539 \nL 322.353545 218.979539 \nz\n\" style=\"fill:#008fd5;\"/>\n   </g>\n   <g id=\"patch_85\">\n    <path clip-path=\"url(#p6efece561e)\" d=\"M 325.770273 240.48 \nL 329.187 240.48 \nL 329.187 233.31318 \nL 325.770273 233.31318 \nz\n\" style=\"fill:#008fd5;\"/>\n   </g>\n   <g id=\"patch_86\">\n    <path clip-path=\"url(#p6efece561e)\" d=\"M 329.187 240.48 \nL 332.603727 240.48 \nL 332.603727 240.48 \nL 329.187 240.48 \nz\n\" style=\"fill:#008fd5;\"/>\n   </g>\n   <g id=\"patch_87\">\n    <path clip-path=\"url(#p6efece561e)\" d=\"M 332.603727 240.48 \nL 336.020455 240.48 \nL 336.020455 240.48 \nL 332.603727 240.48 \nz\n\" style=\"fill:#008fd5;\"/>\n   </g>\n   <g id=\"patch_88\">\n    <path clip-path=\"url(#p6efece561e)\" d=\"M 336.020455 240.48 \nL 339.437182 240.48 \nL 339.437182 240.48 \nL 336.020455 240.48 \nz\n\" style=\"fill:#008fd5;\"/>\n   </g>\n   <g id=\"patch_89\">\n    <path clip-path=\"url(#p6efece561e)\" d=\"M 339.437182 240.48 \nL 342.853909 240.48 \nL 342.853909 240.48 \nL 339.437182 240.48 \nz\n\" style=\"fill:#008fd5;\"/>\n   </g>\n   <g id=\"patch_90\">\n    <path clip-path=\"url(#p6efece561e)\" d=\"M 342.853909 240.48 \nL 346.270636 240.48 \nL 346.270636 226.146359 \nL 342.853909 226.146359 \nz\n\" style=\"fill:#008fd5;\"/>\n   </g>\n   <g id=\"patch_91\">\n    <path clip-path=\"url(#p6efece561e)\" d=\"M 346.270636 240.48 \nL 349.687364 240.48 \nL 349.687364 218.979539 \nL 346.270636 218.979539 \nz\n\" style=\"fill:#008fd5;\"/>\n   </g>\n   <g id=\"patch_92\">\n    <path clip-path=\"url(#p6efece561e)\" d=\"M 349.687364 240.48 \nL 353.104091 240.48 \nL 353.104091 240.48 \nL 349.687364 240.48 \nz\n\" style=\"fill:#008fd5;\"/>\n   </g>\n   <g id=\"patch_93\">\n    <path clip-path=\"url(#p6efece561e)\" d=\"M 353.104091 240.48 \nL 356.520818 240.48 \nL 356.520818 240.48 \nL 353.104091 240.48 \nz\n\" style=\"fill:#008fd5;\"/>\n   </g>\n   <g id=\"patch_94\">\n    <path clip-path=\"url(#p6efece561e)\" d=\"M 356.520818 240.48 \nL 359.937545 240.48 \nL 359.937545 240.48 \nL 356.520818 240.48 \nz\n\" style=\"fill:#008fd5;\"/>\n   </g>\n   <g id=\"patch_95\">\n    <path clip-path=\"url(#p6efece561e)\" d=\"M 359.937545 240.48 \nL 363.354273 240.48 \nL 363.354273 233.31318 \nL 359.937545 233.31318 \nz\n\" style=\"fill:#008fd5;\"/>\n   </g>\n   <g id=\"patch_96\">\n    <path clip-path=\"url(#p6efece561e)\" d=\"M 363.354273 240.48 \nL 366.771 240.48 \nL 366.771 240.48 \nL 363.354273 240.48 \nz\n\" style=\"fill:#008fd5;\"/>\n   </g>\n   <g id=\"patch_97\">\n    <path clip-path=\"url(#p6efece561e)\" d=\"M 366.771 240.48 \nL 370.187727 240.48 \nL 370.187727 240.48 \nL 366.771 240.48 \nz\n\" style=\"fill:#008fd5;\"/>\n   </g>\n   <g id=\"patch_98\">\n    <path clip-path=\"url(#p6efece561e)\" d=\"M 370.187727 240.48 \nL 373.604455 240.48 \nL 373.604455 240.48 \nL 370.187727 240.48 \nz\n\" style=\"fill:#008fd5;\"/>\n   </g>\n   <g id=\"patch_99\">\n    <path clip-path=\"url(#p6efece561e)\" d=\"M 373.604455 240.48 \nL 377.021182 240.48 \nL 377.021182 240.48 \nL 373.604455 240.48 \nz\n\" style=\"fill:#008fd5;\"/>\n   </g>\n   <g id=\"patch_100\">\n    <path clip-path=\"url(#p6efece561e)\" d=\"M 377.021182 240.48 \nL 380.437909 240.48 \nL 380.437909 240.48 \nL 377.021182 240.48 \nz\n\" style=\"fill:#008fd5;\"/>\n   </g>\n   <g id=\"patch_101\">\n    <path clip-path=\"url(#p6efece561e)\" d=\"M 380.437909 240.48 \nL 383.854636 240.48 \nL 383.854636 240.48 \nL 380.437909 240.48 \nz\n\" style=\"fill:#008fd5;\"/>\n   </g>\n   <g id=\"patch_102\">\n    <path clip-path=\"url(#p6efece561e)\" d=\"M 383.854636 240.48 \nL 387.271364 240.48 \nL 387.271364 233.31318 \nL 383.854636 233.31318 \nz\n\" style=\"fill:#008fd5;\"/>\n   </g>\n   <g id=\"patch_103\">\n    <path d=\"M 28.515 240.48 \nL 28.515 7.2 \n\" style=\"fill:none;stroke:#f0f0f0;stroke-linecap:square;stroke-linejoin:miter;stroke-width:3;\"/>\n   </g>\n   <g id=\"patch_104\">\n    <path d=\"M 404.355 240.48 \nL 404.355 7.2 \n\" style=\"fill:none;stroke:#f0f0f0;stroke-linecap:square;stroke-linejoin:miter;stroke-width:3;\"/>\n   </g>\n   <g id=\"patch_105\">\n    <path d=\"M 28.515 240.48 \nL 404.355 240.48 \n\" style=\"fill:none;stroke:#f0f0f0;stroke-linecap:square;stroke-linejoin:miter;stroke-width:3;\"/>\n   </g>\n   <g id=\"patch_106\">\n    <path d=\"M 28.515 7.2 \nL 404.355 7.2 \n\" style=\"fill:none;stroke:#f0f0f0;stroke-linecap:square;stroke-linejoin:miter;stroke-width:3;\"/>\n   </g>\n  </g>\n </g>\n <defs>\n  <clipPath id=\"p6efece561e\">\n   <rect height=\"233.28\" width=\"375.84\" x=\"28.515\" y=\"7.2\"/>\n  </clipPath>\n </defs>\n</svg>\n",
      "image/png": "[encoded data removed]"
     },
     "metadata": {}
    }
   ],
   "metadata": {}
  },
  {
   "cell_type": "code",
   "execution_count": 15,
   "source": [
    "mode = int(df['Age'].median())\n",
    "df['Age'].fillna(mode, inplace=True)\n",
    "df.isnull().sum()"
   ],
   "outputs": [
    {
     "output_type": "execute_result",
     "data": {
      "text/plain": [
       "Survived    0\n",
       "Pclass      0\n",
       "Sex         0\n",
       "Age         0\n",
       "SibSp       0\n",
       "Parch       0\n",
       "Fare        0\n",
       "Embarked    2\n",
       "dtype: int64"
      ]
     },
     "metadata": {},
     "execution_count": 15
    }
   ],
   "metadata": {}
  },
  {
   "cell_type": "code",
   "execution_count": 16,
   "source": [
    "mode_test = (df_test['Age'].mode())\n",
    "df_test['Age'].fillna(mode, inplace=True)\n",
    "df_test.isnull().sum()"
   ],
   "outputs": [
    {
     "output_type": "execute_result",
     "data": {
      "text/plain": [
       "Pclass      0\n",
       "Sex         0\n",
       "Age         0\n",
       "SibSp       0\n",
       "Parch       0\n",
       "Fare        1\n",
       "Embarked    0\n",
       "dtype: int64"
      ]
     },
     "metadata": {},
     "execution_count": 16
    }
   ],
   "metadata": {}
  },
  {
   "cell_type": "code",
   "execution_count": 17,
   "source": [
    "df_test['Fare'].fillna(df_test['Fare'].mode().iloc[0], inplace=True)"
   ],
   "outputs": [],
   "metadata": {}
  },
  {
   "cell_type": "code",
   "execution_count": 18,
   "source": [
    "df['Embarked'].fillna(df['Embarked'].mode().iloc[0], inplace=True)"
   ],
   "outputs": [],
   "metadata": {}
  },
  {
   "cell_type": "code",
   "execution_count": 19,
   "source": [
    "df_test.head()"
   ],
   "outputs": [
    {
     "output_type": "execute_result",
     "data": {
      "text/plain": [
       "   Pclass     Sex   Age  SibSp  Parch     Fare Embarked\n",
       "0       3    male  34.5      0      0   7.8292        Q\n",
       "1       3  female  47.0      1      0   7.0000        S\n",
       "2       2    male  62.0      0      0   9.6875        Q\n",
       "3       3    male  27.0      0      0   8.6625        S\n",
       "4       3  female  22.0      1      1  12.2875        S"
      ],
      "text/html": [
       "<div>\n",
       "<style scoped>\n",
       "    .dataframe tbody tr th:only-of-type {\n",
       "        vertical-align: middle;\n",
       "    }\n",
       "\n",
       "    .dataframe tbody tr th {\n",
       "        vertical-align: top;\n",
       "    }\n",
       "\n",
       "    .dataframe thead th {\n",
       "        text-align: right;\n",
       "    }\n",
       "</style>\n",
       "<table border=\"1\" class=\"dataframe\">\n",
       "  <thead>\n",
       "    <tr style=\"text-align: right;\">\n",
       "      <th></th>\n",
       "      <th>Pclass</th>\n",
       "      <th>Sex</th>\n",
       "      <th>Age</th>\n",
       "      <th>SibSp</th>\n",
       "      <th>Parch</th>\n",
       "      <th>Fare</th>\n",
       "      <th>Embarked</th>\n",
       "    </tr>\n",
       "  </thead>\n",
       "  <tbody>\n",
       "    <tr>\n",
       "      <th>0</th>\n",
       "      <td>3</td>\n",
       "      <td>male</td>\n",
       "      <td>34.5</td>\n",
       "      <td>0</td>\n",
       "      <td>0</td>\n",
       "      <td>7.8292</td>\n",
       "      <td>Q</td>\n",
       "    </tr>\n",
       "    <tr>\n",
       "      <th>1</th>\n",
       "      <td>3</td>\n",
       "      <td>female</td>\n",
       "      <td>47.0</td>\n",
       "      <td>1</td>\n",
       "      <td>0</td>\n",
       "      <td>7.0000</td>\n",
       "      <td>S</td>\n",
       "    </tr>\n",
       "    <tr>\n",
       "      <th>2</th>\n",
       "      <td>2</td>\n",
       "      <td>male</td>\n",
       "      <td>62.0</td>\n",
       "      <td>0</td>\n",
       "      <td>0</td>\n",
       "      <td>9.6875</td>\n",
       "      <td>Q</td>\n",
       "    </tr>\n",
       "    <tr>\n",
       "      <th>3</th>\n",
       "      <td>3</td>\n",
       "      <td>male</td>\n",
       "      <td>27.0</td>\n",
       "      <td>0</td>\n",
       "      <td>0</td>\n",
       "      <td>8.6625</td>\n",
       "      <td>S</td>\n",
       "    </tr>\n",
       "    <tr>\n",
       "      <th>4</th>\n",
       "      <td>3</td>\n",
       "      <td>female</td>\n",
       "      <td>22.0</td>\n",
       "      <td>1</td>\n",
       "      <td>1</td>\n",
       "      <td>12.2875</td>\n",
       "      <td>S</td>\n",
       "    </tr>\n",
       "  </tbody>\n",
       "</table>\n",
       "</div>"
      ]
     },
     "metadata": {},
     "execution_count": 19
    }
   ],
   "metadata": {}
  },
  {
   "cell_type": "code",
   "execution_count": 20,
   "source": [
    "df.isnull().sum()"
   ],
   "outputs": [
    {
     "output_type": "execute_result",
     "data": {
      "text/plain": [
       "Survived    0\n",
       "Pclass      0\n",
       "Sex         0\n",
       "Age         0\n",
       "SibSp       0\n",
       "Parch       0\n",
       "Fare        0\n",
       "Embarked    0\n",
       "dtype: int64"
      ]
     },
     "metadata": {},
     "execution_count": 20
    }
   ],
   "metadata": {}
  },
  {
   "cell_type": "code",
   "execution_count": 21,
   "source": [
    "df.info()"
   ],
   "outputs": [
    {
     "output_type": "stream",
     "name": "stdout",
     "text": [
      "<class 'pandas.core.frame.DataFrame'>\n",
      "RangeIndex: 891 entries, 0 to 890\n",
      "Data columns (total 8 columns):\n",
      " #   Column    Non-Null Count  Dtype  \n",
      "---  ------    --------------  -----  \n",
      " 0   Survived  891 non-null    int64  \n",
      " 1   Pclass    891 non-null    int64  \n",
      " 2   Sex       891 non-null    object \n",
      " 3   Age       891 non-null    float64\n",
      " 4   SibSp     891 non-null    int64  \n",
      " 5   Parch     891 non-null    int64  \n",
      " 6   Fare      891 non-null    float64\n",
      " 7   Embarked  891 non-null    object \n",
      "dtypes: float64(2), int64(4), object(2)\n",
      "memory usage: 55.8+ KB\n"
     ]
    }
   ],
   "metadata": {}
  },
  {
   "cell_type": "code",
   "execution_count": 22,
   "source": [
    "s=(df.dtypes=='object')\n",
    "object_cols = list(s[s].index)\n",
    "object_cols"
   ],
   "outputs": [
    {
     "output_type": "execute_result",
     "data": {
      "text/plain": [
       "['Sex', 'Embarked']"
      ]
     },
     "metadata": {},
     "execution_count": 22
    }
   ],
   "metadata": {}
  },
  {
   "cell_type": "code",
   "execution_count": 23,
   "source": [
    "#try out other encoders like labelencoder, onehotencoder and labelbinarizer\n",
    "\n",
    "from sklearn.preprocessing import OrdinalEncoder\n",
    "\n",
    "enc = OrdinalEncoder()\n",
    "df[object_cols] = enc.fit_transform(df[object_cols])\n",
    "df.head(10)"
   ],
   "outputs": [
    {
     "output_type": "execute_result",
     "data": {
      "text/plain": [
       "   Survived  Pclass  Sex   Age  SibSp  Parch     Fare  Embarked\n",
       "0         0       3  1.0  22.0      1      0   7.2500       2.0\n",
       "1         1       1  0.0  38.0      1      0  71.2833       0.0\n",
       "2         1       3  0.0  26.0      0      0   7.9250       2.0\n",
       "3         1       1  0.0  35.0      1      0  53.1000       2.0\n",
       "4         0       3  1.0  35.0      0      0   8.0500       2.0\n",
       "5         0       3  1.0  28.0      0      0   8.4583       1.0\n",
       "6         0       1  1.0  54.0      0      0  51.8625       2.0\n",
       "7         0       3  1.0   2.0      3      1  21.0750       2.0\n",
       "8         1       3  0.0  27.0      0      2  11.1333       2.0\n",
       "9         1       2  0.0  14.0      1      0  30.0708       0.0"
      ],
      "text/html": [
       "<div>\n",
       "<style scoped>\n",
       "    .dataframe tbody tr th:only-of-type {\n",
       "        vertical-align: middle;\n",
       "    }\n",
       "\n",
       "    .dataframe tbody tr th {\n",
       "        vertical-align: top;\n",
       "    }\n",
       "\n",
       "    .dataframe thead th {\n",
       "        text-align: right;\n",
       "    }\n",
       "</style>\n",
       "<table border=\"1\" class=\"dataframe\">\n",
       "  <thead>\n",
       "    <tr style=\"text-align: right;\">\n",
       "      <th></th>\n",
       "      <th>Survived</th>\n",
       "      <th>Pclass</th>\n",
       "      <th>Sex</th>\n",
       "      <th>Age</th>\n",
       "      <th>SibSp</th>\n",
       "      <th>Parch</th>\n",
       "      <th>Fare</th>\n",
       "      <th>Embarked</th>\n",
       "    </tr>\n",
       "  </thead>\n",
       "  <tbody>\n",
       "    <tr>\n",
       "      <th>0</th>\n",
       "      <td>0</td>\n",
       "      <td>3</td>\n",
       "      <td>1.0</td>\n",
       "      <td>22.0</td>\n",
       "      <td>1</td>\n",
       "      <td>0</td>\n",
       "      <td>7.2500</td>\n",
       "      <td>2.0</td>\n",
       "    </tr>\n",
       "    <tr>\n",
       "      <th>1</th>\n",
       "      <td>1</td>\n",
       "      <td>1</td>\n",
       "      <td>0.0</td>\n",
       "      <td>38.0</td>\n",
       "      <td>1</td>\n",
       "      <td>0</td>\n",
       "      <td>71.2833</td>\n",
       "      <td>0.0</td>\n",
       "    </tr>\n",
       "    <tr>\n",
       "      <th>2</th>\n",
       "      <td>1</td>\n",
       "      <td>3</td>\n",
       "      <td>0.0</td>\n",
       "      <td>26.0</td>\n",
       "      <td>0</td>\n",
       "      <td>0</td>\n",
       "      <td>7.9250</td>\n",
       "      <td>2.0</td>\n",
       "    </tr>\n",
       "    <tr>\n",
       "      <th>3</th>\n",
       "      <td>1</td>\n",
       "      <td>1</td>\n",
       "      <td>0.0</td>\n",
       "      <td>35.0</td>\n",
       "      <td>1</td>\n",
       "      <td>0</td>\n",
       "      <td>53.1000</td>\n",
       "      <td>2.0</td>\n",
       "    </tr>\n",
       "    <tr>\n",
       "      <th>4</th>\n",
       "      <td>0</td>\n",
       "      <td>3</td>\n",
       "      <td>1.0</td>\n",
       "      <td>35.0</td>\n",
       "      <td>0</td>\n",
       "      <td>0</td>\n",
       "      <td>8.0500</td>\n",
       "      <td>2.0</td>\n",
       "    </tr>\n",
       "    <tr>\n",
       "      <th>5</th>\n",
       "      <td>0</td>\n",
       "      <td>3</td>\n",
       "      <td>1.0</td>\n",
       "      <td>28.0</td>\n",
       "      <td>0</td>\n",
       "      <td>0</td>\n",
       "      <td>8.4583</td>\n",
       "      <td>1.0</td>\n",
       "    </tr>\n",
       "    <tr>\n",
       "      <th>6</th>\n",
       "      <td>0</td>\n",
       "      <td>1</td>\n",
       "      <td>1.0</td>\n",
       "      <td>54.0</td>\n",
       "      <td>0</td>\n",
       "      <td>0</td>\n",
       "      <td>51.8625</td>\n",
       "      <td>2.0</td>\n",
       "    </tr>\n",
       "    <tr>\n",
       "      <th>7</th>\n",
       "      <td>0</td>\n",
       "      <td>3</td>\n",
       "      <td>1.0</td>\n",
       "      <td>2.0</td>\n",
       "      <td>3</td>\n",
       "      <td>1</td>\n",
       "      <td>21.0750</td>\n",
       "      <td>2.0</td>\n",
       "    </tr>\n",
       "    <tr>\n",
       "      <th>8</th>\n",
       "      <td>1</td>\n",
       "      <td>3</td>\n",
       "      <td>0.0</td>\n",
       "      <td>27.0</td>\n",
       "      <td>0</td>\n",
       "      <td>2</td>\n",
       "      <td>11.1333</td>\n",
       "      <td>2.0</td>\n",
       "    </tr>\n",
       "    <tr>\n",
       "      <th>9</th>\n",
       "      <td>1</td>\n",
       "      <td>2</td>\n",
       "      <td>0.0</td>\n",
       "      <td>14.0</td>\n",
       "      <td>1</td>\n",
       "      <td>0</td>\n",
       "      <td>30.0708</td>\n",
       "      <td>0.0</td>\n",
       "    </tr>\n",
       "  </tbody>\n",
       "</table>\n",
       "</div>"
      ]
     },
     "metadata": {},
     "execution_count": 23
    }
   ],
   "metadata": {}
  },
  {
   "cell_type": "code",
   "execution_count": 24,
   "source": [
    "df_test[object_cols] = enc.fit_transform(df_test[object_cols])\n",
    "df_test.head(10)"
   ],
   "outputs": [
    {
     "output_type": "execute_result",
     "data": {
      "text/plain": [
       "   Pclass  Sex   Age  SibSp  Parch     Fare  Embarked\n",
       "0       3  1.0  34.5      0      0   7.8292       1.0\n",
       "1       3  0.0  47.0      1      0   7.0000       2.0\n",
       "2       2  1.0  62.0      0      0   9.6875       1.0\n",
       "3       3  1.0  27.0      0      0   8.6625       2.0\n",
       "4       3  0.0  22.0      1      1  12.2875       2.0\n",
       "5       3  1.0  14.0      0      0   9.2250       2.0\n",
       "6       3  0.0  30.0      0      0   7.6292       1.0\n",
       "7       2  1.0  26.0      1      1  29.0000       2.0\n",
       "8       3  0.0  18.0      0      0   7.2292       0.0\n",
       "9       3  1.0  21.0      2      0  24.1500       2.0"
      ],
      "text/html": [
       "<div>\n",
       "<style scoped>\n",
       "    .dataframe tbody tr th:only-of-type {\n",
       "        vertical-align: middle;\n",
       "    }\n",
       "\n",
       "    .dataframe tbody tr th {\n",
       "        vertical-align: top;\n",
       "    }\n",
       "\n",
       "    .dataframe thead th {\n",
       "        text-align: right;\n",
       "    }\n",
       "</style>\n",
       "<table border=\"1\" class=\"dataframe\">\n",
       "  <thead>\n",
       "    <tr style=\"text-align: right;\">\n",
       "      <th></th>\n",
       "      <th>Pclass</th>\n",
       "      <th>Sex</th>\n",
       "      <th>Age</th>\n",
       "      <th>SibSp</th>\n",
       "      <th>Parch</th>\n",
       "      <th>Fare</th>\n",
       "      <th>Embarked</th>\n",
       "    </tr>\n",
       "  </thead>\n",
       "  <tbody>\n",
       "    <tr>\n",
       "      <th>0</th>\n",
       "      <td>3</td>\n",
       "      <td>1.0</td>\n",
       "      <td>34.5</td>\n",
       "      <td>0</td>\n",
       "      <td>0</td>\n",
       "      <td>7.8292</td>\n",
       "      <td>1.0</td>\n",
       "    </tr>\n",
       "    <tr>\n",
       "      <th>1</th>\n",
       "      <td>3</td>\n",
       "      <td>0.0</td>\n",
       "      <td>47.0</td>\n",
       "      <td>1</td>\n",
       "      <td>0</td>\n",
       "      <td>7.0000</td>\n",
       "      <td>2.0</td>\n",
       "    </tr>\n",
       "    <tr>\n",
       "      <th>2</th>\n",
       "      <td>2</td>\n",
       "      <td>1.0</td>\n",
       "      <td>62.0</td>\n",
       "      <td>0</td>\n",
       "      <td>0</td>\n",
       "      <td>9.6875</td>\n",
       "      <td>1.0</td>\n",
       "    </tr>\n",
       "    <tr>\n",
       "      <th>3</th>\n",
       "      <td>3</td>\n",
       "      <td>1.0</td>\n",
       "      <td>27.0</td>\n",
       "      <td>0</td>\n",
       "      <td>0</td>\n",
       "      <td>8.6625</td>\n",
       "      <td>2.0</td>\n",
       "    </tr>\n",
       "    <tr>\n",
       "      <th>4</th>\n",
       "      <td>3</td>\n",
       "      <td>0.0</td>\n",
       "      <td>22.0</td>\n",
       "      <td>1</td>\n",
       "      <td>1</td>\n",
       "      <td>12.2875</td>\n",
       "      <td>2.0</td>\n",
       "    </tr>\n",
       "    <tr>\n",
       "      <th>5</th>\n",
       "      <td>3</td>\n",
       "      <td>1.0</td>\n",
       "      <td>14.0</td>\n",
       "      <td>0</td>\n",
       "      <td>0</td>\n",
       "      <td>9.2250</td>\n",
       "      <td>2.0</td>\n",
       "    </tr>\n",
       "    <tr>\n",
       "      <th>6</th>\n",
       "      <td>3</td>\n",
       "      <td>0.0</td>\n",
       "      <td>30.0</td>\n",
       "      <td>0</td>\n",
       "      <td>0</td>\n",
       "      <td>7.6292</td>\n",
       "      <td>1.0</td>\n",
       "    </tr>\n",
       "    <tr>\n",
       "      <th>7</th>\n",
       "      <td>2</td>\n",
       "      <td>1.0</td>\n",
       "      <td>26.0</td>\n",
       "      <td>1</td>\n",
       "      <td>1</td>\n",
       "      <td>29.0000</td>\n",
       "      <td>2.0</td>\n",
       "    </tr>\n",
       "    <tr>\n",
       "      <th>8</th>\n",
       "      <td>3</td>\n",
       "      <td>0.0</td>\n",
       "      <td>18.0</td>\n",
       "      <td>0</td>\n",
       "      <td>0</td>\n",
       "      <td>7.2292</td>\n",
       "      <td>0.0</td>\n",
       "    </tr>\n",
       "    <tr>\n",
       "      <th>9</th>\n",
       "      <td>3</td>\n",
       "      <td>1.0</td>\n",
       "      <td>21.0</td>\n",
       "      <td>2</td>\n",
       "      <td>0</td>\n",
       "      <td>24.1500</td>\n",
       "      <td>2.0</td>\n",
       "    </tr>\n",
       "  </tbody>\n",
       "</table>\n",
       "</div>"
      ]
     },
     "metadata": {},
     "execution_count": 24
    }
   ],
   "metadata": {}
  },
  {
   "cell_type": "code",
   "execution_count": 42,
   "source": [
    "df.loc[df['Age']<=16, 'Age_band'] = 0\n",
    "df.loc[(df['Age']>16) & (df['Age']<=32), 'Age_band'] = 1\n",
    "df.loc[(df['Age']>32) & (df['Age']<=48), 'Age_band'] = 2\n",
    "df.loc[(df['Age']>48) & (df['Age']<=64), 'Age_band'] = 3\n",
    "df.loc[(df['Age']>64) & (df['Age']<=80), 'Age_band'] = 4"
   ],
   "outputs": [],
   "metadata": {}
  },
  {
   "cell_type": "code",
   "execution_count": 138,
   "source": [
    "df_test.loc[df_test['Age']<=16, 'Age_band'] = 0\n",
    "df_test.loc[(df_test['Age']>16) & (df_test['Age']<=32), 'Age_band'] = 1\n",
    "df_test.loc[(df_test['Age']>32) & (df_test['Age']<=48), 'Age_band'] = 2\n",
    "df_test.loc[(df_test['Age']>48) & (df_test['Age']<=64), 'Age_band'] = 3\n",
    "df_test.loc[(df_test['Age']>64) & (df_test['Age']<=80), 'Age_band'] = 4"
   ],
   "outputs": [],
   "metadata": {}
  },
  {
   "cell_type": "code",
   "execution_count": 56,
   "source": [
    "df.Age_band.value_counts()"
   ],
   "outputs": [
    {
     "output_type": "execute_result",
     "data": {
      "text/plain": [
       "1.0    523\n",
       "2.0    188\n",
       "0.0    100\n",
       "3.0     69\n",
       "4.0     11\n",
       "Name: Age_band, dtype: int64"
      ]
     },
     "metadata": {},
     "execution_count": 56
    }
   ],
   "metadata": {}
  },
  {
   "cell_type": "code",
   "execution_count": 139,
   "source": [
    "df_test['Fare_Range'] = pd.qcut(df_test['Fare'], 5)"
   ],
   "outputs": [],
   "metadata": {}
  },
  {
   "cell_type": "code",
   "execution_count": 73,
   "source": [
    "df['Fare_Range'] = pd.qcut(df['Fare'], 5)"
   ],
   "outputs": [],
   "metadata": {}
  },
  {
   "cell_type": "code",
   "execution_count": 74,
   "source": [
    "df['Fare_Range'].value_counts()"
   ],
   "outputs": [
    {
     "output_type": "execute_result",
     "data": {
      "text/plain": [
       "(7.854, 10.5]        184\n",
       "(21.679, 39.688]     180\n",
       "(-0.001, 7.854]      179\n",
       "(39.688, 512.329]    176\n",
       "(10.5, 21.679]       172\n",
       "Name: Fare_Range, dtype: int64"
      ]
     },
     "metadata": {},
     "execution_count": 74
    }
   ],
   "metadata": {}
  },
  {
   "cell_type": "code",
   "execution_count": 140,
   "source": [
    "df_test.loc[df_test['Fare']<=7.91,'Fare_cat']=0\n",
    "df_test.loc[(df_test['Fare']>7.91)&(df_test['Fare']<=14.454),'Fare_cat']=1\n",
    "df_test.loc[(df_test['Fare']>14.454)&(df_test['Fare']<=31),'Fare_cat']=2\n",
    "df_test.loc[(df_test['Fare']>31)&(df_test['Fare']<=513),'Fare_cat']=3"
   ],
   "outputs": [],
   "metadata": {}
  },
  {
   "cell_type": "code",
   "execution_count": 102,
   "source": [
    "df.loc[df['Fare']<=7.91,'Fare_cat']=0\n",
    "df.loc[(df['Fare']>7.91)&(df['Fare']<=14.454),'Fare_cat']=1\n",
    "df.loc[(df['Fare']>14.454)&(df['Fare']<=31),'Fare_cat']=2\n",
    "df.loc[(df['Fare']>31)&(df['Fare']<=513),'Fare_cat']=3"
   ],
   "outputs": [],
   "metadata": {}
  },
  {
   "cell_type": "code",
   "execution_count": 142,
   "source": [
    "df_test.drop(['Fare_Range','Age', 'Fare'],axis= 1, inplace=True)\n",
    "df_test.head()"
   ],
   "outputs": [
    {
     "output_type": "execute_result",
     "data": {
      "text/plain": [
       "   Pclass  Sex  SibSp  Parch  Embarked  Age_band  Fare_cat\n",
       "0       3  1.0      0      0       1.0       2.0       0.0\n",
       "1       3  0.0      1      0       2.0       2.0       0.0\n",
       "2       2  1.0      0      0       1.0       3.0       1.0\n",
       "3       3  1.0      0      0       2.0       1.0       1.0\n",
       "4       3  0.0      1      1       2.0       1.0       1.0"
      ],
      "text/html": [
       "<div>\n",
       "<style scoped>\n",
       "    .dataframe tbody tr th:only-of-type {\n",
       "        vertical-align: middle;\n",
       "    }\n",
       "\n",
       "    .dataframe tbody tr th {\n",
       "        vertical-align: top;\n",
       "    }\n",
       "\n",
       "    .dataframe thead th {\n",
       "        text-align: right;\n",
       "    }\n",
       "</style>\n",
       "<table border=\"1\" class=\"dataframe\">\n",
       "  <thead>\n",
       "    <tr style=\"text-align: right;\">\n",
       "      <th></th>\n",
       "      <th>Pclass</th>\n",
       "      <th>Sex</th>\n",
       "      <th>SibSp</th>\n",
       "      <th>Parch</th>\n",
       "      <th>Embarked</th>\n",
       "      <th>Age_band</th>\n",
       "      <th>Fare_cat</th>\n",
       "    </tr>\n",
       "  </thead>\n",
       "  <tbody>\n",
       "    <tr>\n",
       "      <th>0</th>\n",
       "      <td>3</td>\n",
       "      <td>1.0</td>\n",
       "      <td>0</td>\n",
       "      <td>0</td>\n",
       "      <td>1.0</td>\n",
       "      <td>2.0</td>\n",
       "      <td>0.0</td>\n",
       "    </tr>\n",
       "    <tr>\n",
       "      <th>1</th>\n",
       "      <td>3</td>\n",
       "      <td>0.0</td>\n",
       "      <td>1</td>\n",
       "      <td>0</td>\n",
       "      <td>2.0</td>\n",
       "      <td>2.0</td>\n",
       "      <td>0.0</td>\n",
       "    </tr>\n",
       "    <tr>\n",
       "      <th>2</th>\n",
       "      <td>2</td>\n",
       "      <td>1.0</td>\n",
       "      <td>0</td>\n",
       "      <td>0</td>\n",
       "      <td>1.0</td>\n",
       "      <td>3.0</td>\n",
       "      <td>1.0</td>\n",
       "    </tr>\n",
       "    <tr>\n",
       "      <th>3</th>\n",
       "      <td>3</td>\n",
       "      <td>1.0</td>\n",
       "      <td>0</td>\n",
       "      <td>0</td>\n",
       "      <td>2.0</td>\n",
       "      <td>1.0</td>\n",
       "      <td>1.0</td>\n",
       "    </tr>\n",
       "    <tr>\n",
       "      <th>4</th>\n",
       "      <td>3</td>\n",
       "      <td>0.0</td>\n",
       "      <td>1</td>\n",
       "      <td>1</td>\n",
       "      <td>2.0</td>\n",
       "      <td>1.0</td>\n",
       "      <td>1.0</td>\n",
       "    </tr>\n",
       "  </tbody>\n",
       "</table>\n",
       "</div>"
      ]
     },
     "metadata": {},
     "execution_count": 142
    }
   ],
   "metadata": {}
  },
  {
   "cell_type": "code",
   "execution_count": 105,
   "source": [
    "df.drop(['Fare_Range','Age','Age_Band', 'Fare'],axis= 1, inplace=True)\n",
    "df.head()"
   ],
   "outputs": [
    {
     "output_type": "execute_result",
     "data": {
      "text/plain": [
       "   Survived  Pclass  Sex  SibSp  Parch  Embarked  Age_band  Fare_cat\n",
       "0         0       3  1.0      1      0       2.0       1.0         0\n",
       "1         1       1  0.0      1      0       0.0       2.0         3\n",
       "2         1       3  0.0      0      0       2.0       1.0         1\n",
       "3         1       1  0.0      1      0       2.0       2.0         3\n",
       "4         0       3  1.0      0      0       2.0       2.0         1"
      ],
      "text/html": [
       "<div>\n",
       "<style scoped>\n",
       "    .dataframe tbody tr th:only-of-type {\n",
       "        vertical-align: middle;\n",
       "    }\n",
       "\n",
       "    .dataframe tbody tr th {\n",
       "        vertical-align: top;\n",
       "    }\n",
       "\n",
       "    .dataframe thead th {\n",
       "        text-align: right;\n",
       "    }\n",
       "</style>\n",
       "<table border=\"1\" class=\"dataframe\">\n",
       "  <thead>\n",
       "    <tr style=\"text-align: right;\">\n",
       "      <th></th>\n",
       "      <th>Survived</th>\n",
       "      <th>Pclass</th>\n",
       "      <th>Sex</th>\n",
       "      <th>SibSp</th>\n",
       "      <th>Parch</th>\n",
       "      <th>Embarked</th>\n",
       "      <th>Age_band</th>\n",
       "      <th>Fare_cat</th>\n",
       "    </tr>\n",
       "  </thead>\n",
       "  <tbody>\n",
       "    <tr>\n",
       "      <th>0</th>\n",
       "      <td>0</td>\n",
       "      <td>3</td>\n",
       "      <td>1.0</td>\n",
       "      <td>1</td>\n",
       "      <td>0</td>\n",
       "      <td>2.0</td>\n",
       "      <td>1.0</td>\n",
       "      <td>0</td>\n",
       "    </tr>\n",
       "    <tr>\n",
       "      <th>1</th>\n",
       "      <td>1</td>\n",
       "      <td>1</td>\n",
       "      <td>0.0</td>\n",
       "      <td>1</td>\n",
       "      <td>0</td>\n",
       "      <td>0.0</td>\n",
       "      <td>2.0</td>\n",
       "      <td>3</td>\n",
       "    </tr>\n",
       "    <tr>\n",
       "      <th>2</th>\n",
       "      <td>1</td>\n",
       "      <td>3</td>\n",
       "      <td>0.0</td>\n",
       "      <td>0</td>\n",
       "      <td>0</td>\n",
       "      <td>2.0</td>\n",
       "      <td>1.0</td>\n",
       "      <td>1</td>\n",
       "    </tr>\n",
       "    <tr>\n",
       "      <th>3</th>\n",
       "      <td>1</td>\n",
       "      <td>1</td>\n",
       "      <td>0.0</td>\n",
       "      <td>1</td>\n",
       "      <td>0</td>\n",
       "      <td>2.0</td>\n",
       "      <td>2.0</td>\n",
       "      <td>3</td>\n",
       "    </tr>\n",
       "    <tr>\n",
       "      <th>4</th>\n",
       "      <td>0</td>\n",
       "      <td>3</td>\n",
       "      <td>1.0</td>\n",
       "      <td>0</td>\n",
       "      <td>0</td>\n",
       "      <td>2.0</td>\n",
       "      <td>2.0</td>\n",
       "      <td>1</td>\n",
       "    </tr>\n",
       "  </tbody>\n",
       "</table>\n",
       "</div>"
      ]
     },
     "metadata": {},
     "execution_count": 105
    }
   ],
   "metadata": {}
  },
  {
   "cell_type": "code",
   "execution_count": 106,
   "source": [
    "X = df.drop(['Survived'], axis=1)\n",
    "y = df['Survived']\n",
    "y.shape, X.shape"
   ],
   "outputs": [
    {
     "output_type": "execute_result",
     "data": {
      "text/plain": [
       "((891,), (891, 7))"
      ]
     },
     "metadata": {},
     "execution_count": 106
    }
   ],
   "metadata": {}
  },
  {
   "cell_type": "code",
   "execution_count": 107,
   "source": [
    "sns.heatmap(df.corr(), annot=True, linewidths=0.2)"
   ],
   "outputs": [
    {
     "output_type": "execute_result",
     "data": {
      "text/plain": [
       "<AxesSubplot:>"
      ]
     },
     "metadata": {},
     "execution_count": 107
    },
    {
     "output_type": "display_data",
     "data": {
      "text/plain": [
       "<Figure size 432x288 with 2 Axes>"
      ],
      "image/svg+xml": "<?xml version=\"1.0\" encoding=\"utf-8\" standalone=\"no\"?>\n<!DOCTYPE svg PUBLIC \"-//W3C//DTD SVG 1.1//EN\"\n  \"http://www.w3.org/Graphics/SVG/1.1/DTD/svg11.dtd\">\n<svg height=\"327.306094pt\" version=\"1.1\" viewBox=\"0 0 466.238625 327.306094\" width=\"466.238625pt\" xmlns=\"http://www.w3.org/2000/svg\" xmlns:xlink=\"http://www.w3.org/1999/xlink\">\n <metadata>\n  <rdf:RDF xmlns:cc=\"http://creativecommons.org/ns#\" xmlns:dc=\"http://purl.org/dc/elements/1.1/\" xmlns:rdf=\"http://www.w3.org/1999/02/22-rdf-syntax-ns#\">\n   <cc:Work>\n    <dc:type rdf:resource=\"http://purl.org/dc/dcmitype/StillImage\"/>\n    <dc:date>2021-08-30T14:46:26.979042</dc:date>\n    <dc:format>image/svg+xml</dc:format>\n    <dc:creator>\n     <cc:Agent>\n      <dc:title>Matplotlib v3.4.3, https://matplotlib.org/</dc:title>\n     </cc:Agent>\n    </dc:creator>\n   </cc:Work>\n  </rdf:RDF>\n </metadata>\n <defs>\n  <style type=\"text/css\">*{stroke-linecap:butt;stroke-linejoin:round;}</style>\n </defs>\n <g id=\"figure_1\">\n  <g id=\"patch_1\">\n   <path d=\"M 0 327.306094 \nL 466.238625 327.306094 \nL 466.238625 0 \nL 0 0 \nz\n\" style=\"fill:#f0f0f0;\"/>\n  </g>\n  <g id=\"axes_1\">\n   <g id=\"patch_2\">\n    <path d=\"M 81.507188 245.798906 \nL 382.179188 245.798906 \nL 382.179188 12.518906 \nL 81.507188 12.518906 \nz\n\" style=\"fill:#f0f0f0;\"/>\n   </g>\n   <g id=\"matplotlib.axis_1\">\n    <g id=\"xtick_1\">\n     <g id=\"line2d_1\"/>\n     <g id=\"text_1\">\n      <!-- Survived -->\n      <g transform=\"translate(104.162313 310.778594)rotate(-90)scale(0.14 -0.14)\">\n       <defs>\n        <path d=\"M 3425 4513 \nL 3425 3897 \nQ 3066 4069 2747 4153 \nQ 2428 4238 2131 4238 \nQ 1616 4238 1336 4038 \nQ 1056 3838 1056 3469 \nQ 1056 3159 1242 3001 \nQ 1428 2844 1947 2747 \nL 2328 2669 \nQ 3034 2534 3370 2195 \nQ 3706 1856 3706 1288 \nQ 3706 609 3251 259 \nQ 2797 -91 1919 -91 \nQ 1588 -91 1214 -16 \nQ 841 59 441 206 \nL 441 856 \nQ 825 641 1194 531 \nQ 1563 422 1919 422 \nQ 2459 422 2753 634 \nQ 3047 847 3047 1241 \nQ 3047 1584 2836 1778 \nQ 2625 1972 2144 2069 \nL 1759 2144 \nQ 1053 2284 737 2584 \nQ 422 2884 422 3419 \nQ 422 4038 858 4394 \nQ 1294 4750 2059 4750 \nQ 2388 4750 2728 4690 \nQ 3069 4631 3425 4513 \nz\n\" id=\"DejaVuSans-53\" transform=\"scale(0.015625)\"/>\n        <path d=\"M 544 1381 \nL 544 3500 \nL 1119 3500 \nL 1119 1403 \nQ 1119 906 1312 657 \nQ 1506 409 1894 409 \nQ 2359 409 2629 706 \nQ 2900 1003 2900 1516 \nL 2900 3500 \nL 3475 3500 \nL 3475 0 \nL 2900 0 \nL 2900 538 \nQ 2691 219 2414 64 \nQ 2138 -91 1772 -91 \nQ 1169 -91 856 284 \nQ 544 659 544 1381 \nz\nM 1991 3584 \nL 1991 3584 \nz\n\" id=\"DejaVuSans-75\" transform=\"scale(0.015625)\"/>\n        <path d=\"M 2631 2963 \nQ 2534 3019 2420 3045 \nQ 2306 3072 2169 3072 \nQ 1681 3072 1420 2755 \nQ 1159 2438 1159 1844 \nL 1159 0 \nL 581 0 \nL 581 3500 \nL 1159 3500 \nL 1159 2956 \nQ 1341 3275 1631 3429 \nQ 1922 3584 2338 3584 \nQ 2397 3584 2469 3576 \nQ 2541 3569 2628 3553 \nL 2631 2963 \nz\n\" id=\"DejaVuSans-72\" transform=\"scale(0.015625)\"/>\n        <path d=\"M 191 3500 \nL 800 3500 \nL 1894 563 \nL 2988 3500 \nL 3597 3500 \nL 2284 0 \nL 1503 0 \nL 191 3500 \nz\n\" id=\"DejaVuSans-76\" transform=\"scale(0.015625)\"/>\n        <path d=\"M 603 3500 \nL 1178 3500 \nL 1178 0 \nL 603 0 \nL 603 3500 \nz\nM 603 4863 \nL 1178 4863 \nL 1178 4134 \nL 603 4134 \nL 603 4863 \nz\n\" id=\"DejaVuSans-69\" transform=\"scale(0.015625)\"/>\n        <path d=\"M 3597 1894 \nL 3597 1613 \nL 953 1613 \nQ 991 1019 1311 708 \nQ 1631 397 2203 397 \nQ 2534 397 2845 478 \nQ 3156 559 3463 722 \nL 3463 178 \nQ 3153 47 2828 -22 \nQ 2503 -91 2169 -91 \nQ 1331 -91 842 396 \nQ 353 884 353 1716 \nQ 353 2575 817 3079 \nQ 1281 3584 2069 3584 \nQ 2775 3584 3186 3129 \nQ 3597 2675 3597 1894 \nz\nM 3022 2063 \nQ 3016 2534 2758 2815 \nQ 2500 3097 2075 3097 \nQ 1594 3097 1305 2825 \nQ 1016 2553 972 2059 \nL 3022 2063 \nz\n\" id=\"DejaVuSans-65\" transform=\"scale(0.015625)\"/>\n        <path d=\"M 2906 2969 \nL 2906 4863 \nL 3481 4863 \nL 3481 0 \nL 2906 0 \nL 2906 525 \nQ 2725 213 2448 61 \nQ 2172 -91 1784 -91 \nQ 1150 -91 751 415 \nQ 353 922 353 1747 \nQ 353 2572 751 3078 \nQ 1150 3584 1784 3584 \nQ 2172 3584 2448 3432 \nQ 2725 3281 2906 2969 \nz\nM 947 1747 \nQ 947 1113 1208 752 \nQ 1469 391 1925 391 \nQ 2381 391 2643 752 \nQ 2906 1113 2906 1747 \nQ 2906 2381 2643 2742 \nQ 2381 3103 1925 3103 \nQ 1469 3103 1208 2742 \nQ 947 2381 947 1747 \nz\n\" id=\"DejaVuSans-64\" transform=\"scale(0.015625)\"/>\n       </defs>\n       <use xlink:href=\"#DejaVuSans-53\"/>\n       <use x=\"63.476562\" xlink:href=\"#DejaVuSans-75\"/>\n       <use x=\"126.855469\" xlink:href=\"#DejaVuSans-72\"/>\n       <use x=\"167.96875\" xlink:href=\"#DejaVuSans-76\"/>\n       <use x=\"227.148438\" xlink:href=\"#DejaVuSans-69\"/>\n       <use x=\"254.931641\" xlink:href=\"#DejaVuSans-76\"/>\n       <use x=\"314.111328\" xlink:href=\"#DejaVuSans-65\"/>\n       <use x=\"375.634766\" xlink:href=\"#DejaVuSans-64\"/>\n      </g>\n     </g>\n    </g>\n    <g id=\"xtick_2\">\n     <g id=\"line2d_2\"/>\n     <g id=\"text_2\">\n      <!-- Pclass -->\n      <g transform=\"translate(141.746313 292.493281)rotate(-90)scale(0.14 -0.14)\">\n       <defs>\n        <path d=\"M 1259 4147 \nL 1259 2394 \nL 2053 2394 \nQ 2494 2394 2734 2622 \nQ 2975 2850 2975 3272 \nQ 2975 3691 2734 3919 \nQ 2494 4147 2053 4147 \nL 1259 4147 \nz\nM 628 4666 \nL 2053 4666 \nQ 2838 4666 3239 4311 \nQ 3641 3956 3641 3272 \nQ 3641 2581 3239 2228 \nQ 2838 1875 2053 1875 \nL 1259 1875 \nL 1259 0 \nL 628 0 \nL 628 4666 \nz\n\" id=\"DejaVuSans-50\" transform=\"scale(0.015625)\"/>\n        <path d=\"M 3122 3366 \nL 3122 2828 \nQ 2878 2963 2633 3030 \nQ 2388 3097 2138 3097 \nQ 1578 3097 1268 2742 \nQ 959 2388 959 1747 \nQ 959 1106 1268 751 \nQ 1578 397 2138 397 \nQ 2388 397 2633 464 \nQ 2878 531 3122 666 \nL 3122 134 \nQ 2881 22 2623 -34 \nQ 2366 -91 2075 -91 \nQ 1284 -91 818 406 \nQ 353 903 353 1747 \nQ 353 2603 823 3093 \nQ 1294 3584 2113 3584 \nQ 2378 3584 2631 3529 \nQ 2884 3475 3122 3366 \nz\n\" id=\"DejaVuSans-63\" transform=\"scale(0.015625)\"/>\n        <path d=\"M 603 4863 \nL 1178 4863 \nL 1178 0 \nL 603 0 \nL 603 4863 \nz\n\" id=\"DejaVuSans-6c\" transform=\"scale(0.015625)\"/>\n        <path d=\"M 2194 1759 \nQ 1497 1759 1228 1600 \nQ 959 1441 959 1056 \nQ 959 750 1161 570 \nQ 1363 391 1709 391 \nQ 2188 391 2477 730 \nQ 2766 1069 2766 1631 \nL 2766 1759 \nL 2194 1759 \nz\nM 3341 1997 \nL 3341 0 \nL 2766 0 \nL 2766 531 \nQ 2569 213 2275 61 \nQ 1981 -91 1556 -91 \nQ 1019 -91 701 211 \nQ 384 513 384 1019 \nQ 384 1609 779 1909 \nQ 1175 2209 1959 2209 \nL 2766 2209 \nL 2766 2266 \nQ 2766 2663 2505 2880 \nQ 2244 3097 1772 3097 \nQ 1472 3097 1187 3025 \nQ 903 2953 641 2809 \nL 641 3341 \nQ 956 3463 1253 3523 \nQ 1550 3584 1831 3584 \nQ 2591 3584 2966 3190 \nQ 3341 2797 3341 1997 \nz\n\" id=\"DejaVuSans-61\" transform=\"scale(0.015625)\"/>\n        <path d=\"M 2834 3397 \nL 2834 2853 \nQ 2591 2978 2328 3040 \nQ 2066 3103 1784 3103 \nQ 1356 3103 1142 2972 \nQ 928 2841 928 2578 \nQ 928 2378 1081 2264 \nQ 1234 2150 1697 2047 \nL 1894 2003 \nQ 2506 1872 2764 1633 \nQ 3022 1394 3022 966 \nQ 3022 478 2636 193 \nQ 2250 -91 1575 -91 \nQ 1294 -91 989 -36 \nQ 684 19 347 128 \nL 347 722 \nQ 666 556 975 473 \nQ 1284 391 1588 391 \nQ 1994 391 2212 530 \nQ 2431 669 2431 922 \nQ 2431 1156 2273 1281 \nQ 2116 1406 1581 1522 \nL 1381 1569 \nQ 847 1681 609 1914 \nQ 372 2147 372 2553 \nQ 372 3047 722 3315 \nQ 1072 3584 1716 3584 \nQ 2034 3584 2315 3537 \nQ 2597 3491 2834 3397 \nz\n\" id=\"DejaVuSans-73\" transform=\"scale(0.015625)\"/>\n       </defs>\n       <use xlink:href=\"#DejaVuSans-50\"/>\n       <use x=\"60.302734\" xlink:href=\"#DejaVuSans-63\"/>\n       <use x=\"115.283203\" xlink:href=\"#DejaVuSans-6c\"/>\n       <use x=\"143.066406\" xlink:href=\"#DejaVuSans-61\"/>\n       <use x=\"204.345703\" xlink:href=\"#DejaVuSans-73\"/>\n       <use x=\"256.445312\" xlink:href=\"#DejaVuSans-73\"/>\n      </g>\n     </g>\n    </g>\n    <g id=\"xtick_3\">\n     <g id=\"line2d_3\"/>\n     <g id=\"text_3\">\n      <!-- Sex -->\n      <g transform=\"translate(179.330313 274.842344)rotate(-90)scale(0.14 -0.14)\">\n       <defs>\n        <path d=\"M 3513 3500 \nL 2247 1797 \nL 3578 0 \nL 2900 0 \nL 1881 1375 \nL 863 0 \nL 184 0 \nL 1544 1831 \nL 300 3500 \nL 978 3500 \nL 1906 2253 \nL 2834 3500 \nL 3513 3500 \nz\n\" id=\"DejaVuSans-78\" transform=\"scale(0.015625)\"/>\n       </defs>\n       <use xlink:href=\"#DejaVuSans-53\"/>\n       <use x=\"63.476562\" xlink:href=\"#DejaVuSans-65\"/>\n       <use x=\"123.25\" xlink:href=\"#DejaVuSans-78\"/>\n      </g>\n     </g>\n    </g>\n    <g id=\"xtick_4\">\n     <g id=\"line2d_4\"/>\n     <g id=\"text_4\">\n      <!-- SibSp -->\n      <g transform=\"translate(216.914313 288.739531)rotate(-90)scale(0.14 -0.14)\">\n       <defs>\n        <path d=\"M 3116 1747 \nQ 3116 2381 2855 2742 \nQ 2594 3103 2138 3103 \nQ 1681 3103 1420 2742 \nQ 1159 2381 1159 1747 \nQ 1159 1113 1420 752 \nQ 1681 391 2138 391 \nQ 2594 391 2855 752 \nQ 3116 1113 3116 1747 \nz\nM 1159 2969 \nQ 1341 3281 1617 3432 \nQ 1894 3584 2278 3584 \nQ 2916 3584 3314 3078 \nQ 3713 2572 3713 1747 \nQ 3713 922 3314 415 \nQ 2916 -91 2278 -91 \nQ 1894 -91 1617 61 \nQ 1341 213 1159 525 \nL 1159 0 \nL 581 0 \nL 581 4863 \nL 1159 4863 \nL 1159 2969 \nz\n\" id=\"DejaVuSans-62\" transform=\"scale(0.015625)\"/>\n        <path d=\"M 1159 525 \nL 1159 -1331 \nL 581 -1331 \nL 581 3500 \nL 1159 3500 \nL 1159 2969 \nQ 1341 3281 1617 3432 \nQ 1894 3584 2278 3584 \nQ 2916 3584 3314 3078 \nQ 3713 2572 3713 1747 \nQ 3713 922 3314 415 \nQ 2916 -91 2278 -91 \nQ 1894 -91 1617 61 \nQ 1341 213 1159 525 \nz\nM 3116 1747 \nQ 3116 2381 2855 2742 \nQ 2594 3103 2138 3103 \nQ 1681 3103 1420 2742 \nQ 1159 2381 1159 1747 \nQ 1159 1113 1420 752 \nQ 1681 391 2138 391 \nQ 2594 391 2855 752 \nQ 3116 1113 3116 1747 \nz\n\" id=\"DejaVuSans-70\" transform=\"scale(0.015625)\"/>\n       </defs>\n       <use xlink:href=\"#DejaVuSans-53\"/>\n       <use x=\"63.476562\" xlink:href=\"#DejaVuSans-69\"/>\n       <use x=\"91.259766\" xlink:href=\"#DejaVuSans-62\"/>\n       <use x=\"154.736328\" xlink:href=\"#DejaVuSans-53\"/>\n       <use x=\"218.212891\" xlink:href=\"#DejaVuSans-70\"/>\n      </g>\n     </g>\n    </g>\n    <g id=\"xtick_5\">\n     <g id=\"line2d_5\"/>\n     <g id=\"text_5\">\n      <!-- Parch -->\n      <g transform=\"translate(254.498313 287.700469)rotate(-90)scale(0.14 -0.14)\">\n       <defs>\n        <path d=\"M 3513 2113 \nL 3513 0 \nL 2938 0 \nL 2938 2094 \nQ 2938 2591 2744 2837 \nQ 2550 3084 2163 3084 \nQ 1697 3084 1428 2787 \nQ 1159 2491 1159 1978 \nL 1159 0 \nL 581 0 \nL 581 4863 \nL 1159 4863 \nL 1159 2956 \nQ 1366 3272 1645 3428 \nQ 1925 3584 2291 3584 \nQ 2894 3584 3203 3211 \nQ 3513 2838 3513 2113 \nz\n\" id=\"DejaVuSans-68\" transform=\"scale(0.015625)\"/>\n       </defs>\n       <use xlink:href=\"#DejaVuSans-50\"/>\n       <use x=\"55.802734\" xlink:href=\"#DejaVuSans-61\"/>\n       <use x=\"117.082031\" xlink:href=\"#DejaVuSans-72\"/>\n       <use x=\"155.945312\" xlink:href=\"#DejaVuSans-63\"/>\n       <use x=\"210.925781\" xlink:href=\"#DejaVuSans-68\"/>\n      </g>\n     </g>\n    </g>\n    <g id=\"xtick_6\">\n     <g id=\"line2d_6\"/>\n     <g id=\"text_6\">\n      <!-- Embarked -->\n      <g transform=\"translate(292.082313 320.106094)rotate(-90)scale(0.14 -0.14)\">\n       <defs>\n        <path d=\"M 628 4666 \nL 3578 4666 \nL 3578 4134 \nL 1259 4134 \nL 1259 2753 \nL 3481 2753 \nL 3481 2222 \nL 1259 2222 \nL 1259 531 \nL 3634 531 \nL 3634 0 \nL 628 0 \nL 628 4666 \nz\n\" id=\"DejaVuSans-45\" transform=\"scale(0.015625)\"/>\n        <path d=\"M 3328 2828 \nQ 3544 3216 3844 3400 \nQ 4144 3584 4550 3584 \nQ 5097 3584 5394 3201 \nQ 5691 2819 5691 2113 \nL 5691 0 \nL 5113 0 \nL 5113 2094 \nQ 5113 2597 4934 2840 \nQ 4756 3084 4391 3084 \nQ 3944 3084 3684 2787 \nQ 3425 2491 3425 1978 \nL 3425 0 \nL 2847 0 \nL 2847 2094 \nQ 2847 2600 2669 2842 \nQ 2491 3084 2119 3084 \nQ 1678 3084 1418 2786 \nQ 1159 2488 1159 1978 \nL 1159 0 \nL 581 0 \nL 581 3500 \nL 1159 3500 \nL 1159 2956 \nQ 1356 3278 1631 3431 \nQ 1906 3584 2284 3584 \nQ 2666 3584 2933 3390 \nQ 3200 3197 3328 2828 \nz\n\" id=\"DejaVuSans-6d\" transform=\"scale(0.015625)\"/>\n        <path d=\"M 581 4863 \nL 1159 4863 \nL 1159 1991 \nL 2875 3500 \nL 3609 3500 \nL 1753 1863 \nL 3688 0 \nL 2938 0 \nL 1159 1709 \nL 1159 0 \nL 581 0 \nL 581 4863 \nz\n\" id=\"DejaVuSans-6b\" transform=\"scale(0.015625)\"/>\n       </defs>\n       <use xlink:href=\"#DejaVuSans-45\"/>\n       <use x=\"63.183594\" xlink:href=\"#DejaVuSans-6d\"/>\n       <use x=\"160.595703\" xlink:href=\"#DejaVuSans-62\"/>\n       <use x=\"224.072266\" xlink:href=\"#DejaVuSans-61\"/>\n       <use x=\"285.351562\" xlink:href=\"#DejaVuSans-72\"/>\n       <use x=\"326.464844\" xlink:href=\"#DejaVuSans-6b\"/>\n       <use x=\"380.75\" xlink:href=\"#DejaVuSans-65\"/>\n       <use x=\"442.273438\" xlink:href=\"#DejaVuSans-64\"/>\n      </g>\n     </g>\n    </g>\n    <g id=\"xtick_7\">\n     <g id=\"line2d_7\"/>\n     <g id=\"text_7\">\n      <!-- Age_band -->\n      <g transform=\"translate(329.471625 318.605469)rotate(-90)scale(0.14 -0.14)\">\n       <defs>\n        <path d=\"M 2188 4044 \nL 1331 1722 \nL 3047 1722 \nL 2188 4044 \nz\nM 1831 4666 \nL 2547 4666 \nL 4325 0 \nL 3669 0 \nL 3244 1197 \nL 1141 1197 \nL 716 0 \nL 50 0 \nL 1831 4666 \nz\n\" id=\"DejaVuSans-41\" transform=\"scale(0.015625)\"/>\n        <path d=\"M 2906 1791 \nQ 2906 2416 2648 2759 \nQ 2391 3103 1925 3103 \nQ 1463 3103 1205 2759 \nQ 947 2416 947 1791 \nQ 947 1169 1205 825 \nQ 1463 481 1925 481 \nQ 2391 481 2648 825 \nQ 2906 1169 2906 1791 \nz\nM 3481 434 \nQ 3481 -459 3084 -895 \nQ 2688 -1331 1869 -1331 \nQ 1566 -1331 1297 -1286 \nQ 1028 -1241 775 -1147 \nL 775 -588 \nQ 1028 -725 1275 -790 \nQ 1522 -856 1778 -856 \nQ 2344 -856 2625 -561 \nQ 2906 -266 2906 331 \nL 2906 616 \nQ 2728 306 2450 153 \nQ 2172 0 1784 0 \nQ 1141 0 747 490 \nQ 353 981 353 1791 \nQ 353 2603 747 3093 \nQ 1141 3584 1784 3584 \nQ 2172 3584 2450 3431 \nQ 2728 3278 2906 2969 \nL 2906 3500 \nL 3481 3500 \nL 3481 434 \nz\n\" id=\"DejaVuSans-67\" transform=\"scale(0.015625)\"/>\n        <path d=\"M 3263 -1063 \nL 3263 -1509 \nL -63 -1509 \nL -63 -1063 \nL 3263 -1063 \nz\n\" id=\"DejaVuSans-5f\" transform=\"scale(0.015625)\"/>\n        <path d=\"M 3513 2113 \nL 3513 0 \nL 2938 0 \nL 2938 2094 \nQ 2938 2591 2744 2837 \nQ 2550 3084 2163 3084 \nQ 1697 3084 1428 2787 \nQ 1159 2491 1159 1978 \nL 1159 0 \nL 581 0 \nL 581 3500 \nL 1159 3500 \nL 1159 2956 \nQ 1366 3272 1645 3428 \nQ 1925 3584 2291 3584 \nQ 2894 3584 3203 3211 \nQ 3513 2838 3513 2113 \nz\n\" id=\"DejaVuSans-6e\" transform=\"scale(0.015625)\"/>\n       </defs>\n       <use xlink:href=\"#DejaVuSans-41\"/>\n       <use x=\"68.408203\" xlink:href=\"#DejaVuSans-67\"/>\n       <use x=\"131.884766\" xlink:href=\"#DejaVuSans-65\"/>\n       <use x=\"193.408203\" xlink:href=\"#DejaVuSans-5f\"/>\n       <use x=\"243.408203\" xlink:href=\"#DejaVuSans-62\"/>\n       <use x=\"306.884766\" xlink:href=\"#DejaVuSans-61\"/>\n       <use x=\"368.164062\" xlink:href=\"#DejaVuSans-6e\"/>\n       <use x=\"431.542969\" xlink:href=\"#DejaVuSans-64\"/>\n      </g>\n     </g>\n    </g>\n    <g id=\"xtick_8\">\n     <g id=\"line2d_8\"/>\n     <g id=\"text_8\">\n      <!-- Fare_cat -->\n      <g transform=\"translate(366.860937 307.473281)rotate(-90)scale(0.14 -0.14)\">\n       <defs>\n        <path d=\"M 628 4666 \nL 3309 4666 \nL 3309 4134 \nL 1259 4134 \nL 1259 2759 \nL 3109 2759 \nL 3109 2228 \nL 1259 2228 \nL 1259 0 \nL 628 0 \nL 628 4666 \nz\n\" id=\"DejaVuSans-46\" transform=\"scale(0.015625)\"/>\n        <path d=\"M 1172 4494 \nL 1172 3500 \nL 2356 3500 \nL 2356 3053 \nL 1172 3053 \nL 1172 1153 \nQ 1172 725 1289 603 \nQ 1406 481 1766 481 \nL 2356 481 \nL 2356 0 \nL 1766 0 \nQ 1100 0 847 248 \nQ 594 497 594 1153 \nL 594 3053 \nL 172 3053 \nL 172 3500 \nL 594 3500 \nL 594 4494 \nL 1172 4494 \nz\n\" id=\"DejaVuSans-74\" transform=\"scale(0.015625)\"/>\n       </defs>\n       <use xlink:href=\"#DejaVuSans-46\"/>\n       <use x=\"48.394531\" xlink:href=\"#DejaVuSans-61\"/>\n       <use x=\"109.673828\" xlink:href=\"#DejaVuSans-72\"/>\n       <use x=\"148.537109\" xlink:href=\"#DejaVuSans-65\"/>\n       <use x=\"210.060547\" xlink:href=\"#DejaVuSans-5f\"/>\n       <use x=\"260.060547\" xlink:href=\"#DejaVuSans-63\"/>\n       <use x=\"315.041016\" xlink:href=\"#DejaVuSans-61\"/>\n       <use x=\"376.320312\" xlink:href=\"#DejaVuSans-74\"/>\n      </g>\n     </g>\n    </g>\n   </g>\n   <g id=\"matplotlib.axis_2\">\n    <g id=\"ytick_1\">\n     <g id=\"line2d_9\"/>\n     <g id=\"text_9\">\n      <!-- Survived -->\n      <g transform=\"translate(16.5275 30.962031)scale(0.14 -0.14)\">\n       <use xlink:href=\"#DejaVuSans-53\"/>\n       <use x=\"63.476562\" xlink:href=\"#DejaVuSans-75\"/>\n       <use x=\"126.855469\" xlink:href=\"#DejaVuSans-72\"/>\n       <use x=\"167.96875\" xlink:href=\"#DejaVuSans-76\"/>\n       <use x=\"227.148438\" xlink:href=\"#DejaVuSans-69\"/>\n       <use x=\"254.931641\" xlink:href=\"#DejaVuSans-76\"/>\n       <use x=\"314.111328\" xlink:href=\"#DejaVuSans-65\"/>\n       <use x=\"375.634766\" xlink:href=\"#DejaVuSans-64\"/>\n      </g>\n     </g>\n    </g>\n    <g id=\"ytick_2\">\n     <g id=\"line2d_10\"/>\n     <g id=\"text_10\">\n      <!-- Pclass -->\n      <g transform=\"translate(34.812813 60.122031)scale(0.14 -0.14)\">\n       <use xlink:href=\"#DejaVuSans-50\"/>\n       <use x=\"60.302734\" xlink:href=\"#DejaVuSans-63\"/>\n       <use x=\"115.283203\" xlink:href=\"#DejaVuSans-6c\"/>\n       <use x=\"143.066406\" xlink:href=\"#DejaVuSans-61\"/>\n       <use x=\"204.345703\" xlink:href=\"#DejaVuSans-73\"/>\n       <use x=\"256.445312\" xlink:href=\"#DejaVuSans-73\"/>\n      </g>\n     </g>\n    </g>\n    <g id=\"ytick_3\">\n     <g id=\"line2d_11\"/>\n     <g id=\"text_11\">\n      <!-- Sex -->\n      <g transform=\"translate(52.46375 89.282031)scale(0.14 -0.14)\">\n       <use xlink:href=\"#DejaVuSans-53\"/>\n       <use x=\"63.476562\" xlink:href=\"#DejaVuSans-65\"/>\n       <use x=\"123.25\" xlink:href=\"#DejaVuSans-78\"/>\n      </g>\n     </g>\n    </g>\n    <g id=\"ytick_4\">\n     <g id=\"line2d_12\"/>\n     <g id=\"text_12\">\n      <!-- SibSp -->\n      <g transform=\"translate(38.566563 118.442031)scale(0.14 -0.14)\">\n       <use xlink:href=\"#DejaVuSans-53\"/>\n       <use x=\"63.476562\" xlink:href=\"#DejaVuSans-69\"/>\n       <use x=\"91.259766\" xlink:href=\"#DejaVuSans-62\"/>\n       <use x=\"154.736328\" xlink:href=\"#DejaVuSans-53\"/>\n       <use x=\"218.212891\" xlink:href=\"#DejaVuSans-70\"/>\n      </g>\n     </g>\n    </g>\n    <g id=\"ytick_5\">\n     <g id=\"line2d_13\"/>\n     <g id=\"text_13\">\n      <!-- Parch -->\n      <g transform=\"translate(39.605625 147.602031)scale(0.14 -0.14)\">\n       <use xlink:href=\"#DejaVuSans-50\"/>\n       <use x=\"55.802734\" xlink:href=\"#DejaVuSans-61\"/>\n       <use x=\"117.082031\" xlink:href=\"#DejaVuSans-72\"/>\n       <use x=\"155.945312\" xlink:href=\"#DejaVuSans-63\"/>\n       <use x=\"210.925781\" xlink:href=\"#DejaVuSans-68\"/>\n      </g>\n     </g>\n    </g>\n    <g id=\"ytick_6\">\n     <g id=\"line2d_14\"/>\n     <g id=\"text_14\">\n      <!-- Embarked -->\n      <g transform=\"translate(7.2 176.762031)scale(0.14 -0.14)\">\n       <use xlink:href=\"#DejaVuSans-45\"/>\n       <use x=\"63.183594\" xlink:href=\"#DejaVuSans-6d\"/>\n       <use x=\"160.595703\" xlink:href=\"#DejaVuSans-62\"/>\n       <use x=\"224.072266\" xlink:href=\"#DejaVuSans-61\"/>\n       <use x=\"285.351562\" xlink:href=\"#DejaVuSans-72\"/>\n       <use x=\"326.464844\" xlink:href=\"#DejaVuSans-6b\"/>\n       <use x=\"380.75\" xlink:href=\"#DejaVuSans-65\"/>\n       <use x=\"442.273438\" xlink:href=\"#DejaVuSans-64\"/>\n      </g>\n     </g>\n    </g>\n    <g id=\"ytick_7\">\n     <g id=\"line2d_15\"/>\n     <g id=\"text_15\">\n      <!-- Age_band -->\n      <g transform=\"translate(8.700625 205.727344)scale(0.14 -0.14)\">\n       <use xlink:href=\"#DejaVuSans-41\"/>\n       <use x=\"68.408203\" xlink:href=\"#DejaVuSans-67\"/>\n       <use x=\"131.884766\" xlink:href=\"#DejaVuSans-65\"/>\n       <use x=\"193.408203\" xlink:href=\"#DejaVuSans-5f\"/>\n       <use x=\"243.408203\" xlink:href=\"#DejaVuSans-62\"/>\n       <use x=\"306.884766\" xlink:href=\"#DejaVuSans-61\"/>\n       <use x=\"368.164062\" xlink:href=\"#DejaVuSans-6e\"/>\n       <use x=\"431.542969\" xlink:href=\"#DejaVuSans-64\"/>\n      </g>\n     </g>\n    </g>\n    <g id=\"ytick_8\">\n     <g id=\"line2d_16\"/>\n     <g id=\"text_16\">\n      <!-- Fare_cat -->\n      <g transform=\"translate(19.832813 234.692656)scale(0.14 -0.14)\">\n       <use xlink:href=\"#DejaVuSans-46\"/>\n       <use x=\"48.394531\" xlink:href=\"#DejaVuSans-61\"/>\n       <use x=\"109.673828\" xlink:href=\"#DejaVuSans-72\"/>\n       <use x=\"148.537109\" xlink:href=\"#DejaVuSans-65\"/>\n       <use x=\"210.060547\" xlink:href=\"#DejaVuSans-5f\"/>\n       <use x=\"260.060547\" xlink:href=\"#DejaVuSans-63\"/>\n       <use x=\"315.041016\" xlink:href=\"#DejaVuSans-61\"/>\n       <use x=\"376.320312\" xlink:href=\"#DejaVuSans-74\"/>\n      </g>\n     </g>\n    </g>\n   </g>\n   <g id=\"QuadMesh_1\">\n    <path clip-path=\"url(#pb9b2c1b3ef)\" d=\"M 81.507188 12.518906 \nL 119.091188 12.518906 \nL 119.091188 41.678906 \nL 81.507188 41.678906 \nL 81.507188 12.518906 \n\" style=\"fill:#faebdd;stroke:#ffffff;stroke-width:0.2;\"/>\n    <path clip-path=\"url(#pb9b2c1b3ef)\" d=\"M 119.091188 12.518906 \nL 156.675188 12.518906 \nL 156.675188 41.678906 \nL 119.091188 41.678906 \nL 119.091188 12.518906 \n\" style=\"fill:#431c46;stroke:#ffffff;stroke-width:0.2;\"/>\n    <path clip-path=\"url(#pb9b2c1b3ef)\" d=\"M 156.675188 12.518906 \nL 194.259188 12.518906 \nL 194.259188 41.678906 \nL 156.675188 41.678906 \nL 156.675188 12.518906 \n\" style=\"fill:#140e26;stroke:#ffffff;stroke-width:0.2;\"/>\n    <path clip-path=\"url(#pb9b2c1b3ef)\" d=\"M 194.259188 12.518906 \nL 231.843188 12.518906 \nL 231.843188 41.678906 \nL 194.259188 41.678906 \nL 194.259188 12.518906 \n\" style=\"fill:#921c5b;stroke:#ffffff;stroke-width:0.2;\"/>\n    <path clip-path=\"url(#pb9b2c1b3ef)\" d=\"M 231.843188 12.518906 \nL 269.427188 12.518906 \nL 269.427188 41.678906 \nL 231.843188 41.678906 \nL 231.843188 12.518906 \n\" style=\"fill:#b01759;stroke:#ffffff;stroke-width:0.2;\"/>\n    <path clip-path=\"url(#pb9b2c1b3ef)\" d=\"M 269.427188 12.518906 \nL 307.011188 12.518906 \nL 307.011188 41.678906 \nL 269.427188 41.678906 \nL 269.427188 12.518906 \n\" style=\"fill:#6e1f57;stroke:#ffffff;stroke-width:0.2;\"/>\n    <path clip-path=\"url(#pb9b2c1b3ef)\" d=\"M 307.011188 12.518906 \nL 344.595188 12.518906 \nL 344.595188 41.678906 \nL 307.011188 41.678906 \nL 307.011188 12.518906 \n\" style=\"fill:#8e1d5b;stroke:#ffffff;stroke-width:0.2;\"/>\n    <path clip-path=\"url(#pb9b2c1b3ef)\" d=\"M 344.595188 12.518906 \nL 382.179188 12.518906 \nL 382.179188 41.678906 \nL 344.595188 41.678906 \nL 344.595188 12.518906 \n\" style=\"fill:#e03143;stroke:#ffffff;stroke-width:0.2;\"/>\n    <path clip-path=\"url(#pb9b2c1b3ef)\" d=\"M 81.507188 41.678906 \nL 119.091188 41.678906 \nL 119.091188 70.838906 \nL 81.507188 70.838906 \nL 81.507188 41.678906 \n\" style=\"fill:#431c46;stroke:#ffffff;stroke-width:0.2;\"/>\n    <path clip-path=\"url(#pb9b2c1b3ef)\" d=\"M 119.091188 41.678906 \nL 156.675188 41.678906 \nL 156.675188 70.838906 \nL 119.091188 70.838906 \nL 119.091188 41.678906 \n\" style=\"fill:#faebdd;stroke:#ffffff;stroke-width:0.2;\"/>\n    <path clip-path=\"url(#pb9b2c1b3ef)\" d=\"M 156.675188 41.678906 \nL 194.259188 41.678906 \nL 194.259188 70.838906 \nL 156.675188 70.838906 \nL 156.675188 41.678906 \n\" style=\"fill:#bd1655;stroke:#ffffff;stroke-width:0.2;\"/>\n    <path clip-path=\"url(#pb9b2c1b3ef)\" d=\"M 194.259188 41.678906 \nL 231.843188 41.678906 \nL 231.843188 70.838906 \nL 194.259188 70.838906 \nL 194.259188 41.678906 \n\" style=\"fill:#b01759;stroke:#ffffff;stroke-width:0.2;\"/>\n    <path clip-path=\"url(#pb9b2c1b3ef)\" d=\"M 231.843188 41.678906 \nL 269.427188 41.678906 \nL 269.427188 70.838906 \nL 231.843188 70.838906 \nL 231.843188 41.678906 \n\" style=\"fill:#9f1a5b;stroke:#ffffff;stroke-width:0.2;\"/>\n    <path clip-path=\"url(#pb9b2c1b3ef)\" d=\"M 269.427188 41.678906 \nL 307.011188 41.678906 \nL 307.011188 70.838906 \nL 269.427188 70.838906 \nL 269.427188 41.678906 \n\" style=\"fill:#c51852;stroke:#ffffff;stroke-width:0.2;\"/>\n    <path clip-path=\"url(#pb9b2c1b3ef)\" d=\"M 307.011188 41.678906 \nL 344.595188 41.678906 \nL 344.595188 70.838906 \nL 307.011188 70.838906 \nL 307.011188 41.678906 \n\" style=\"fill:#3f1b43;stroke:#ffffff;stroke-width:0.2;\"/>\n    <path clip-path=\"url(#pb9b2c1b3ef)\" d=\"M 344.595188 41.678906 \nL 382.179188 41.678906 \nL 382.179188 70.838906 \nL 344.595188 70.838906 \nL 344.595188 41.678906 \n\" style=\"fill:#03051a;stroke:#ffffff;stroke-width:0.2;\"/>\n    <path clip-path=\"url(#pb9b2c1b3ef)\" d=\"M 81.507188 70.838906 \nL 119.091188 70.838906 \nL 119.091188 99.998906 \nL 81.507188 99.998906 \nL 81.507188 70.838906 \n\" style=\"fill:#140e26;stroke:#ffffff;stroke-width:0.2;\"/>\n    <path clip-path=\"url(#pb9b2c1b3ef)\" d=\"M 119.091188 70.838906 \nL 156.675188 70.838906 \nL 156.675188 99.998906 \nL 119.091188 99.998906 \nL 119.091188 70.838906 \n\" style=\"fill:#bd1655;stroke:#ffffff;stroke-width:0.2;\"/>\n    <path clip-path=\"url(#pb9b2c1b3ef)\" d=\"M 156.675188 70.838906 \nL 194.259188 70.838906 \nL 194.259188 99.998906 \nL 156.675188 99.998906 \nL 156.675188 70.838906 \n\" style=\"fill:#faebdd;stroke:#ffffff;stroke-width:0.2;\"/>\n    <path clip-path=\"url(#pb9b2c1b3ef)\" d=\"M 194.259188 70.838906 \nL 231.843188 70.838906 \nL 231.843188 99.998906 \nL 194.259188 99.998906 \nL 194.259188 70.838906 \n\" style=\"fill:#7b1f59;stroke:#ffffff;stroke-width:0.2;\"/>\n    <path clip-path=\"url(#pb9b2c1b3ef)\" d=\"M 231.843188 70.838906 \nL 269.427188 70.838906 \nL 269.427188 99.998906 \nL 231.843188 99.998906 \nL 231.843188 70.838906 \n\" style=\"fill:#5b1e51;stroke:#ffffff;stroke-width:0.2;\"/>\n    <path clip-path=\"url(#pb9b2c1b3ef)\" d=\"M 269.427188 70.838906 \nL 307.011188 70.838906 \nL 307.011188 99.998906 \nL 269.427188 99.998906 \nL 269.427188 70.838906 \n\" style=\"fill:#b71657;stroke:#ffffff;stroke-width:0.2;\"/>\n    <path clip-path=\"url(#pb9b2c1b3ef)\" d=\"M 307.011188 70.838906 \nL 344.595188 70.838906 \nL 344.595188 99.998906 \nL 307.011188 99.998906 \nL 307.011188 70.838906 \n\" style=\"fill:#ad1759;stroke:#ffffff;stroke-width:0.2;\"/>\n    <path clip-path=\"url(#pb9b2c1b3ef)\" d=\"M 344.595188 70.838906 \nL 382.179188 70.838906 \nL 382.179188 99.998906 \nL 344.595188 99.998906 \nL 344.595188 70.838906 \n\" style=\"fill:#591e50;stroke:#ffffff;stroke-width:0.2;\"/>\n    <path clip-path=\"url(#pb9b2c1b3ef)\" d=\"M 81.507188 99.998906 \nL 119.091188 99.998906 \nL 119.091188 129.158906 \nL 81.507188 129.158906 \nL 81.507188 99.998906 \n\" style=\"fill:#921c5b;stroke:#ffffff;stroke-width:0.2;\"/>\n    <path clip-path=\"url(#pb9b2c1b3ef)\" d=\"M 119.091188 99.998906 \nL 156.675188 99.998906 \nL 156.675188 129.158906 \nL 119.091188 129.158906 \nL 119.091188 99.998906 \n\" style=\"fill:#b01759;stroke:#ffffff;stroke-width:0.2;\"/>\n    <path clip-path=\"url(#pb9b2c1b3ef)\" d=\"M 156.675188 99.998906 \nL 194.259188 99.998906 \nL 194.259188 129.158906 \nL 156.675188 129.158906 \nL 156.675188 99.998906 \n\" style=\"fill:#7b1f59;stroke:#ffffff;stroke-width:0.2;\"/>\n    <path clip-path=\"url(#pb9b2c1b3ef)\" d=\"M 194.259188 99.998906 \nL 231.843188 99.998906 \nL 231.843188 129.158906 \nL 194.259188 129.158906 \nL 194.259188 99.998906 \n\" style=\"fill:#faebdd;stroke:#ffffff;stroke-width:0.2;\"/>\n    <path clip-path=\"url(#pb9b2c1b3ef)\" d=\"M 231.843188 99.998906 \nL 269.427188 99.998906 \nL 269.427188 129.158906 \nL 231.843188 129.158906 \nL 231.843188 99.998906 \n\" style=\"fill:#ee543f;stroke:#ffffff;stroke-width:0.2;\"/>\n    <path clip-path=\"url(#pb9b2c1b3ef)\" d=\"M 269.427188 99.998906 \nL 307.011188 99.998906 \nL 307.011188 129.158906 \nL 269.427188 129.158906 \nL 269.427188 99.998906 \n\" style=\"fill:#ad1759;stroke:#ffffff;stroke-width:0.2;\"/>\n    <path clip-path=\"url(#pb9b2c1b3ef)\" d=\"M 307.011188 99.998906 \nL 344.595188 99.998906 \nL 344.595188 129.158906 \nL 307.011188 129.158906 \nL 307.011188 99.998906 \n\" style=\"fill:#611f53;stroke:#ffffff;stroke-width:0.2;\"/>\n    <path clip-path=\"url(#pb9b2c1b3ef)\" d=\"M 344.595188 99.998906 \nL 382.179188 99.998906 \nL 382.179188 129.158906 \nL 344.595188 129.158906 \nL 344.595188 99.998906 \n\" style=\"fill:#ec4c3e;stroke:#ffffff;stroke-width:0.2;\"/>\n    <path clip-path=\"url(#pb9b2c1b3ef)\" d=\"M 81.507188 129.158906 \nL 119.091188 129.158906 \nL 119.091188 158.318906 \nL 81.507188 158.318906 \nL 81.507188 129.158906 \n\" style=\"fill:#b01759;stroke:#ffffff;stroke-width:0.2;\"/>\n    <path clip-path=\"url(#pb9b2c1b3ef)\" d=\"M 119.091188 129.158906 \nL 156.675188 129.158906 \nL 156.675188 158.318906 \nL 119.091188 158.318906 \nL 119.091188 129.158906 \n\" style=\"fill:#9f1a5b;stroke:#ffffff;stroke-width:0.2;\"/>\n    <path clip-path=\"url(#pb9b2c1b3ef)\" d=\"M 156.675188 129.158906 \nL 194.259188 129.158906 \nL 194.259188 158.318906 \nL 156.675188 158.318906 \nL 156.675188 129.158906 \n\" style=\"fill:#5b1e51;stroke:#ffffff;stroke-width:0.2;\"/>\n    <path clip-path=\"url(#pb9b2c1b3ef)\" d=\"M 194.259188 129.158906 \nL 231.843188 129.158906 \nL 231.843188 158.318906 \nL 194.259188 158.318906 \nL 194.259188 129.158906 \n\" style=\"fill:#ee543f;stroke:#ffffff;stroke-width:0.2;\"/>\n    <path clip-path=\"url(#pb9b2c1b3ef)\" d=\"M 231.843188 129.158906 \nL 269.427188 129.158906 \nL 269.427188 158.318906 \nL 231.843188 158.318906 \nL 231.843188 129.158906 \n\" style=\"fill:#faebdd;stroke:#ffffff;stroke-width:0.2;\"/>\n    <path clip-path=\"url(#pb9b2c1b3ef)\" d=\"M 269.427188 129.158906 \nL 307.011188 129.158906 \nL 307.011188 158.318906 \nL 269.427188 158.318906 \nL 269.427188 129.158906 \n\" style=\"fill:#a6195a;stroke:#ffffff;stroke-width:0.2;\"/>\n    <path clip-path=\"url(#pb9b2c1b3ef)\" d=\"M 307.011188 129.158906 \nL 344.595188 129.158906 \nL 344.595188 158.318906 \nL 307.011188 158.318906 \nL 307.011188 129.158906 \n\" style=\"fill:#761f58;stroke:#ffffff;stroke-width:0.2;\"/>\n    <path clip-path=\"url(#pb9b2c1b3ef)\" d=\"M 344.595188 129.158906 \nL 382.179188 129.158906 \nL 382.179188 158.318906 \nL 344.595188 158.318906 \nL 344.595188 129.158906 \n\" style=\"fill:#ec4c3e;stroke:#ffffff;stroke-width:0.2;\"/>\n    <path clip-path=\"url(#pb9b2c1b3ef)\" d=\"M 81.507188 158.318906 \nL 119.091188 158.318906 \nL 119.091188 187.478906 \nL 81.507188 187.478906 \nL 81.507188 158.318906 \n\" style=\"fill:#6e1f57;stroke:#ffffff;stroke-width:0.2;\"/>\n    <path clip-path=\"url(#pb9b2c1b3ef)\" d=\"M 119.091188 158.318906 \nL 156.675188 158.318906 \nL 156.675188 187.478906 \nL 119.091188 187.478906 \nL 119.091188 158.318906 \n\" style=\"fill:#c51852;stroke:#ffffff;stroke-width:0.2;\"/>\n    <path clip-path=\"url(#pb9b2c1b3ef)\" d=\"M 156.675188 158.318906 \nL 194.259188 158.318906 \nL 194.259188 187.478906 \nL 156.675188 187.478906 \nL 156.675188 158.318906 \n\" style=\"fill:#b71657;stroke:#ffffff;stroke-width:0.2;\"/>\n    <path clip-path=\"url(#pb9b2c1b3ef)\" d=\"M 194.259188 158.318906 \nL 231.843188 158.318906 \nL 231.843188 187.478906 \nL 194.259188 187.478906 \nL 194.259188 158.318906 \n\" style=\"fill:#ad1759;stroke:#ffffff;stroke-width:0.2;\"/>\n    <path clip-path=\"url(#pb9b2c1b3ef)\" d=\"M 231.843188 158.318906 \nL 269.427188 158.318906 \nL 269.427188 187.478906 \nL 231.843188 187.478906 \nL 231.843188 158.318906 \n\" style=\"fill:#a6195a;stroke:#ffffff;stroke-width:0.2;\"/>\n    <path clip-path=\"url(#pb9b2c1b3ef)\" d=\"M 269.427188 158.318906 \nL 307.011188 158.318906 \nL 307.011188 187.478906 \nL 269.427188 187.478906 \nL 269.427188 158.318906 \n\" style=\"fill:#faebdd;stroke:#ffffff;stroke-width:0.2;\"/>\n    <path clip-path=\"url(#pb9b2c1b3ef)\" d=\"M 307.011188 158.318906 \nL 344.595188 158.318906 \nL 344.595188 187.478906 \nL 307.011188 187.478906 \nL 307.011188 158.318906 \n\" style=\"fill:#9a1b5b;stroke:#ffffff;stroke-width:0.2;\"/>\n    <path clip-path=\"url(#pb9b2c1b3ef)\" d=\"M 344.595188 158.318906 \nL 382.179188 158.318906 \nL 382.179188 187.478906 \nL 344.595188 187.478906 \nL 344.595188 158.318906 \n\" style=\"fill:#7d1f5a;stroke:#ffffff;stroke-width:0.2;\"/>\n    <path clip-path=\"url(#pb9b2c1b3ef)\" d=\"M 81.507188 187.478906 \nL 119.091188 187.478906 \nL 119.091188 216.638906 \nL 81.507188 216.638906 \nL 81.507188 187.478906 \n\" style=\"fill:#8e1d5b;stroke:#ffffff;stroke-width:0.2;\"/>\n    <path clip-path=\"url(#pb9b2c1b3ef)\" d=\"M 119.091188 187.478906 \nL 156.675188 187.478906 \nL 156.675188 216.638906 \nL 119.091188 216.638906 \nL 119.091188 187.478906 \n\" style=\"fill:#3f1b43;stroke:#ffffff;stroke-width:0.2;\"/>\n    <path clip-path=\"url(#pb9b2c1b3ef)\" d=\"M 156.675188 187.478906 \nL 194.259188 187.478906 \nL 194.259188 216.638906 \nL 156.675188 216.638906 \nL 156.675188 187.478906 \n\" style=\"fill:#ad1759;stroke:#ffffff;stroke-width:0.2;\"/>\n    <path clip-path=\"url(#pb9b2c1b3ef)\" d=\"M 194.259188 187.478906 \nL 231.843188 187.478906 \nL 231.843188 216.638906 \nL 194.259188 216.638906 \nL 194.259188 187.478906 \n\" style=\"fill:#611f53;stroke:#ffffff;stroke-width:0.2;\"/>\n    <path clip-path=\"url(#pb9b2c1b3ef)\" d=\"M 231.843188 187.478906 \nL 269.427188 187.478906 \nL 269.427188 216.638906 \nL 231.843188 216.638906 \nL 231.843188 187.478906 \n\" style=\"fill:#761f58;stroke:#ffffff;stroke-width:0.2;\"/>\n    <path clip-path=\"url(#pb9b2c1b3ef)\" d=\"M 269.427188 187.478906 \nL 307.011188 187.478906 \nL 307.011188 216.638906 \nL 269.427188 216.638906 \nL 269.427188 187.478906 \n\" style=\"fill:#9a1b5b;stroke:#ffffff;stroke-width:0.2;\"/>\n    <path clip-path=\"url(#pb9b2c1b3ef)\" d=\"M 307.011188 187.478906 \nL 344.595188 187.478906 \nL 344.595188 216.638906 \nL 307.011188 216.638906 \nL 307.011188 187.478906 \n\" style=\"fill:#faebdd;stroke:#ffffff;stroke-width:0.2;\"/>\n    <path clip-path=\"url(#pb9b2c1b3ef)\" d=\"M 344.595188 187.478906 \nL 382.179188 187.478906 \nL 382.179188 216.638906 \nL 344.595188 216.638906 \nL 344.595188 187.478906 \n\" style=\"fill:#b41658;stroke:#ffffff;stroke-width:0.2;\"/>\n    <path clip-path=\"url(#pb9b2c1b3ef)\" d=\"M 81.507188 216.638906 \nL 119.091188 216.638906 \nL 119.091188 245.798906 \nL 81.507188 245.798906 \nL 81.507188 216.638906 \n\" style=\"fill:#e03143;stroke:#ffffff;stroke-width:0.2;\"/>\n    <path clip-path=\"url(#pb9b2c1b3ef)\" d=\"M 119.091188 216.638906 \nL 156.675188 216.638906 \nL 156.675188 245.798906 \nL 119.091188 245.798906 \nL 119.091188 216.638906 \n\" style=\"fill:#03051a;stroke:#ffffff;stroke-width:0.2;\"/>\n    <path clip-path=\"url(#pb9b2c1b3ef)\" d=\"M 156.675188 216.638906 \nL 194.259188 216.638906 \nL 194.259188 245.798906 \nL 156.675188 245.798906 \nL 156.675188 216.638906 \n\" style=\"fill:#591e50;stroke:#ffffff;stroke-width:0.2;\"/>\n    <path clip-path=\"url(#pb9b2c1b3ef)\" d=\"M 194.259188 216.638906 \nL 231.843188 216.638906 \nL 231.843188 245.798906 \nL 194.259188 245.798906 \nL 194.259188 216.638906 \n\" style=\"fill:#ec4c3e;stroke:#ffffff;stroke-width:0.2;\"/>\n    <path clip-path=\"url(#pb9b2c1b3ef)\" d=\"M 231.843188 216.638906 \nL 269.427188 216.638906 \nL 269.427188 245.798906 \nL 231.843188 245.798906 \nL 231.843188 216.638906 \n\" style=\"fill:#ec4c3e;stroke:#ffffff;stroke-width:0.2;\"/>\n    <path clip-path=\"url(#pb9b2c1b3ef)\" d=\"M 269.427188 216.638906 \nL 307.011188 216.638906 \nL 307.011188 245.798906 \nL 269.427188 245.798906 \nL 269.427188 216.638906 \n\" style=\"fill:#7d1f5a;stroke:#ffffff;stroke-width:0.2;\"/>\n    <path clip-path=\"url(#pb9b2c1b3ef)\" d=\"M 307.011188 216.638906 \nL 344.595188 216.638906 \nL 344.595188 245.798906 \nL 307.011188 245.798906 \nL 307.011188 216.638906 \n\" style=\"fill:#b41658;stroke:#ffffff;stroke-width:0.2;\"/>\n    <path clip-path=\"url(#pb9b2c1b3ef)\" d=\"M 344.595188 216.638906 \nL 382.179188 216.638906 \nL 382.179188 245.798906 \nL 344.595188 245.798906 \nL 344.595188 216.638906 \n\" style=\"fill:#faebdd;stroke:#ffffff;stroke-width:0.2;\"/>\n   </g>\n   <g id=\"text_17\">\n    <!-- 1 -->\n    <g style=\"fill:#262626;\" transform=\"translate(95.845438 30.962031)scale(0.14 -0.14)\">\n     <defs>\n      <path d=\"M 794 531 \nL 1825 531 \nL 1825 4091 \nL 703 3866 \nL 703 4441 \nL 1819 4666 \nL 2450 4666 \nL 2450 531 \nL 3481 531 \nL 3481 0 \nL 794 0 \nL 794 531 \nz\n\" id=\"DejaVuSans-31\" transform=\"scale(0.015625)\"/>\n     </defs>\n     <use xlink:href=\"#DejaVuSans-31\"/>\n    </g>\n   </g>\n   <g id=\"text_18\">\n    <!-- -0.34 -->\n    <g style=\"fill:#ffffff;\" transform=\"translate(119.771781 30.962031)scale(0.14 -0.14)\">\n     <defs>\n      <path d=\"M 313 2009 \nL 1997 2009 \nL 1997 1497 \nL 313 1497 \nL 313 2009 \nz\n\" id=\"DejaVuSans-2d\" transform=\"scale(0.015625)\"/>\n      <path d=\"M 2034 4250 \nQ 1547 4250 1301 3770 \nQ 1056 3291 1056 2328 \nQ 1056 1369 1301 889 \nQ 1547 409 2034 409 \nQ 2525 409 2770 889 \nQ 3016 1369 3016 2328 \nQ 3016 3291 2770 3770 \nQ 2525 4250 2034 4250 \nz\nM 2034 4750 \nQ 2819 4750 3233 4129 \nQ 3647 3509 3647 2328 \nQ 3647 1150 3233 529 \nQ 2819 -91 2034 -91 \nQ 1250 -91 836 529 \nQ 422 1150 422 2328 \nQ 422 3509 836 4129 \nQ 1250 4750 2034 4750 \nz\n\" id=\"DejaVuSans-30\" transform=\"scale(0.015625)\"/>\n      <path d=\"M 684 794 \nL 1344 794 \nL 1344 0 \nL 684 0 \nL 684 794 \nz\n\" id=\"DejaVuSans-2e\" transform=\"scale(0.015625)\"/>\n      <path d=\"M 2597 2516 \nQ 3050 2419 3304 2112 \nQ 3559 1806 3559 1356 \nQ 3559 666 3084 287 \nQ 2609 -91 1734 -91 \nQ 1441 -91 1130 -33 \nQ 819 25 488 141 \nL 488 750 \nQ 750 597 1062 519 \nQ 1375 441 1716 441 \nQ 2309 441 2620 675 \nQ 2931 909 2931 1356 \nQ 2931 1769 2642 2001 \nQ 2353 2234 1838 2234 \nL 1294 2234 \nL 1294 2753 \nL 1863 2753 \nQ 2328 2753 2575 2939 \nQ 2822 3125 2822 3475 \nQ 2822 3834 2567 4026 \nQ 2313 4219 1838 4219 \nQ 1578 4219 1281 4162 \nQ 984 4106 628 3988 \nL 628 4550 \nQ 988 4650 1302 4700 \nQ 1616 4750 1894 4750 \nQ 2613 4750 3031 4423 \nQ 3450 4097 3450 3541 \nQ 3450 3153 3228 2886 \nQ 3006 2619 2597 2516 \nz\n\" id=\"DejaVuSans-33\" transform=\"scale(0.015625)\"/>\n      <path d=\"M 2419 4116 \nL 825 1625 \nL 2419 1625 \nL 2419 4116 \nz\nM 2253 4666 \nL 3047 4666 \nL 3047 1625 \nL 3713 1625 \nL 3713 1100 \nL 3047 1100 \nL 3047 0 \nL 2419 0 \nL 2419 1100 \nL 313 1100 \nL 313 1709 \nL 2253 4666 \nz\n\" id=\"DejaVuSans-34\" transform=\"scale(0.015625)\"/>\n     </defs>\n     <use xlink:href=\"#DejaVuSans-2d\"/>\n     <use x=\"36.083984\" xlink:href=\"#DejaVuSans-30\"/>\n     <use x=\"99.707031\" xlink:href=\"#DejaVuSans-2e\"/>\n     <use x=\"131.494141\" xlink:href=\"#DejaVuSans-33\"/>\n     <use x=\"195.117188\" xlink:href=\"#DejaVuSans-34\"/>\n    </g>\n   </g>\n   <g id=\"text_19\">\n    <!-- -0.54 -->\n    <g style=\"fill:#ffffff;\" transform=\"translate(157.355781 30.962031)scale(0.14 -0.14)\">\n     <defs>\n      <path d=\"M 691 4666 \nL 3169 4666 \nL 3169 4134 \nL 1269 4134 \nL 1269 2991 \nQ 1406 3038 1543 3061 \nQ 1681 3084 1819 3084 \nQ 2600 3084 3056 2656 \nQ 3513 2228 3513 1497 \nQ 3513 744 3044 326 \nQ 2575 -91 1722 -91 \nQ 1428 -91 1123 -41 \nQ 819 9 494 109 \nL 494 744 \nQ 775 591 1075 516 \nQ 1375 441 1709 441 \nQ 2250 441 2565 725 \nQ 2881 1009 2881 1497 \nQ 2881 1984 2565 2268 \nQ 2250 2553 1709 2553 \nQ 1456 2553 1204 2497 \nQ 953 2441 691 2322 \nL 691 4666 \nz\n\" id=\"DejaVuSans-35\" transform=\"scale(0.015625)\"/>\n     </defs>\n     <use xlink:href=\"#DejaVuSans-2d\"/>\n     <use x=\"36.083984\" xlink:href=\"#DejaVuSans-30\"/>\n     <use x=\"99.707031\" xlink:href=\"#DejaVuSans-2e\"/>\n     <use x=\"131.494141\" xlink:href=\"#DejaVuSans-35\"/>\n     <use x=\"195.117188\" xlink:href=\"#DejaVuSans-34\"/>\n    </g>\n   </g>\n   <g id=\"text_20\">\n    <!-- -0.035 -->\n    <g style=\"fill:#ffffff;\" transform=\"translate(190.486031 30.962031)scale(0.14 -0.14)\">\n     <use xlink:href=\"#DejaVuSans-2d\"/>\n     <use x=\"36.083984\" xlink:href=\"#DejaVuSans-30\"/>\n     <use x=\"99.707031\" xlink:href=\"#DejaVuSans-2e\"/>\n     <use x=\"131.494141\" xlink:href=\"#DejaVuSans-30\"/>\n     <use x=\"195.117188\" xlink:href=\"#DejaVuSans-33\"/>\n     <use x=\"258.740234\" xlink:href=\"#DejaVuSans-35\"/>\n    </g>\n   </g>\n   <g id=\"text_21\">\n    <!-- 0.082 -->\n    <g style=\"fill:#ffffff;\" transform=\"translate(230.5955 30.962031)scale(0.14 -0.14)\">\n     <defs>\n      <path d=\"M 2034 2216 \nQ 1584 2216 1326 1975 \nQ 1069 1734 1069 1313 \nQ 1069 891 1326 650 \nQ 1584 409 2034 409 \nQ 2484 409 2743 651 \nQ 3003 894 3003 1313 \nQ 3003 1734 2745 1975 \nQ 2488 2216 2034 2216 \nz\nM 1403 2484 \nQ 997 2584 770 2862 \nQ 544 3141 544 3541 \nQ 544 4100 942 4425 \nQ 1341 4750 2034 4750 \nQ 2731 4750 3128 4425 \nQ 3525 4100 3525 3541 \nQ 3525 3141 3298 2862 \nQ 3072 2584 2669 2484 \nQ 3125 2378 3379 2068 \nQ 3634 1759 3634 1313 \nQ 3634 634 3220 271 \nQ 2806 -91 2034 -91 \nQ 1263 -91 848 271 \nQ 434 634 434 1313 \nQ 434 1759 690 2068 \nQ 947 2378 1403 2484 \nz\nM 1172 3481 \nQ 1172 3119 1398 2916 \nQ 1625 2713 2034 2713 \nQ 2441 2713 2670 2916 \nQ 2900 3119 2900 3481 \nQ 2900 3844 2670 4047 \nQ 2441 4250 2034 4250 \nQ 1625 4250 1398 4047 \nQ 1172 3844 1172 3481 \nz\n\" id=\"DejaVuSans-38\" transform=\"scale(0.015625)\"/>\n      <path d=\"M 1228 531 \nL 3431 531 \nL 3431 0 \nL 469 0 \nL 469 531 \nQ 828 903 1448 1529 \nQ 2069 2156 2228 2338 \nQ 2531 2678 2651 2914 \nQ 2772 3150 2772 3378 \nQ 2772 3750 2511 3984 \nQ 2250 4219 1831 4219 \nQ 1534 4219 1204 4116 \nQ 875 4013 500 3803 \nL 500 4441 \nQ 881 4594 1212 4672 \nQ 1544 4750 1819 4750 \nQ 2544 4750 2975 4387 \nQ 3406 4025 3406 3419 \nQ 3406 3131 3298 2873 \nQ 3191 2616 2906 2266 \nQ 2828 2175 2409 1742 \nQ 1991 1309 1228 531 \nz\n\" id=\"DejaVuSans-32\" transform=\"scale(0.015625)\"/>\n     </defs>\n     <use xlink:href=\"#DejaVuSans-30\"/>\n     <use x=\"63.623047\" xlink:href=\"#DejaVuSans-2e\"/>\n     <use x=\"95.410156\" xlink:href=\"#DejaVuSans-30\"/>\n     <use x=\"159.033203\" xlink:href=\"#DejaVuSans-38\"/>\n     <use x=\"222.65625\" xlink:href=\"#DejaVuSans-32\"/>\n    </g>\n   </g>\n   <g id=\"text_22\">\n    <!-- -0.17 -->\n    <g style=\"fill:#ffffff;\" transform=\"translate(270.107781 30.962031)scale(0.14 -0.14)\">\n     <defs>\n      <path d=\"M 525 4666 \nL 3525 4666 \nL 3525 4397 \nL 1831 0 \nL 1172 0 \nL 2766 4134 \nL 525 4134 \nL 525 4666 \nz\n\" id=\"DejaVuSans-37\" transform=\"scale(0.015625)\"/>\n     </defs>\n     <use xlink:href=\"#DejaVuSans-2d\"/>\n     <use x=\"36.083984\" xlink:href=\"#DejaVuSans-30\"/>\n     <use x=\"99.707031\" xlink:href=\"#DejaVuSans-2e\"/>\n     <use x=\"131.494141\" xlink:href=\"#DejaVuSans-31\"/>\n     <use x=\"195.117188\" xlink:href=\"#DejaVuSans-37\"/>\n    </g>\n   </g>\n   <g id=\"text_23\">\n    <!-- -0.044 -->\n    <g style=\"fill:#ffffff;\" transform=\"translate(303.238031 30.962031)scale(0.14 -0.14)\">\n     <use xlink:href=\"#DejaVuSans-2d\"/>\n     <use x=\"36.083984\" xlink:href=\"#DejaVuSans-30\"/>\n     <use x=\"99.707031\" xlink:href=\"#DejaVuSans-2e\"/>\n     <use x=\"131.494141\" xlink:href=\"#DejaVuSans-30\"/>\n     <use x=\"195.117188\" xlink:href=\"#DejaVuSans-34\"/>\n     <use x=\"258.740234\" xlink:href=\"#DejaVuSans-34\"/>\n    </g>\n   </g>\n   <g id=\"text_24\">\n    <!-- 0.3 -->\n    <g style=\"fill:#ffffff;\" transform=\"translate(352.255 30.962031)scale(0.14 -0.14)\">\n     <use xlink:href=\"#DejaVuSans-30\"/>\n     <use x=\"63.623047\" xlink:href=\"#DejaVuSans-2e\"/>\n     <use x=\"95.410156\" xlink:href=\"#DejaVuSans-33\"/>\n    </g>\n   </g>\n   <g id=\"text_25\">\n    <!-- -0.34 -->\n    <g style=\"fill:#ffffff;\" transform=\"translate(82.187781 60.122031)scale(0.14 -0.14)\">\n     <use xlink:href=\"#DejaVuSans-2d\"/>\n     <use x=\"36.083984\" xlink:href=\"#DejaVuSans-30\"/>\n     <use x=\"99.707031\" xlink:href=\"#DejaVuSans-2e\"/>\n     <use x=\"131.494141\" xlink:href=\"#DejaVuSans-33\"/>\n     <use x=\"195.117188\" xlink:href=\"#DejaVuSans-34\"/>\n    </g>\n   </g>\n   <g id=\"text_26\">\n    <!-- 1 -->\n    <g style=\"fill:#262626;\" transform=\"translate(133.429438 60.122031)scale(0.14 -0.14)\">\n     <use xlink:href=\"#DejaVuSans-31\"/>\n    </g>\n   </g>\n   <g id=\"text_27\">\n    <!-- 0.13 -->\n    <g style=\"fill:#ffffff;\" transform=\"translate(159.88125 60.122031)scale(0.14 -0.14)\">\n     <use xlink:href=\"#DejaVuSans-30\"/>\n     <use x=\"63.623047\" xlink:href=\"#DejaVuSans-2e\"/>\n     <use x=\"95.410156\" xlink:href=\"#DejaVuSans-31\"/>\n     <use x=\"159.033203\" xlink:href=\"#DejaVuSans-33\"/>\n    </g>\n   </g>\n   <g id=\"text_28\">\n    <!-- 0.083 -->\n    <g style=\"fill:#ffffff;\" transform=\"translate(193.0115 60.122031)scale(0.14 -0.14)\">\n     <use xlink:href=\"#DejaVuSans-30\"/>\n     <use x=\"63.623047\" xlink:href=\"#DejaVuSans-2e\"/>\n     <use x=\"95.410156\" xlink:href=\"#DejaVuSans-30\"/>\n     <use x=\"159.033203\" xlink:href=\"#DejaVuSans-38\"/>\n     <use x=\"222.65625\" xlink:href=\"#DejaVuSans-33\"/>\n    </g>\n   </g>\n   <g id=\"text_29\">\n    <!-- 0.018 -->\n    <g style=\"fill:#ffffff;\" transform=\"translate(230.5955 60.122031)scale(0.14 -0.14)\">\n     <use xlink:href=\"#DejaVuSans-30\"/>\n     <use x=\"63.623047\" xlink:href=\"#DejaVuSans-2e\"/>\n     <use x=\"95.410156\" xlink:href=\"#DejaVuSans-30\"/>\n     <use x=\"159.033203\" xlink:href=\"#DejaVuSans-31\"/>\n     <use x=\"222.65625\" xlink:href=\"#DejaVuSans-38\"/>\n    </g>\n   </g>\n   <g id=\"text_30\">\n    <!-- 0.16 -->\n    <g style=\"fill:#ffffff;\" transform=\"translate(272.63325 60.122031)scale(0.14 -0.14)\">\n     <defs>\n      <path d=\"M 2113 2584 \nQ 1688 2584 1439 2293 \nQ 1191 2003 1191 1497 \nQ 1191 994 1439 701 \nQ 1688 409 2113 409 \nQ 2538 409 2786 701 \nQ 3034 994 3034 1497 \nQ 3034 2003 2786 2293 \nQ 2538 2584 2113 2584 \nz\nM 3366 4563 \nL 3366 3988 \nQ 3128 4100 2886 4159 \nQ 2644 4219 2406 4219 \nQ 1781 4219 1451 3797 \nQ 1122 3375 1075 2522 \nQ 1259 2794 1537 2939 \nQ 1816 3084 2150 3084 \nQ 2853 3084 3261 2657 \nQ 3669 2231 3669 1497 \nQ 3669 778 3244 343 \nQ 2819 -91 2113 -91 \nQ 1303 -91 875 529 \nQ 447 1150 447 2328 \nQ 447 3434 972 4092 \nQ 1497 4750 2381 4750 \nQ 2619 4750 2861 4703 \nQ 3103 4656 3366 4563 \nz\n\" id=\"DejaVuSans-36\" transform=\"scale(0.015625)\"/>\n     </defs>\n     <use xlink:href=\"#DejaVuSans-30\"/>\n     <use x=\"63.623047\" xlink:href=\"#DejaVuSans-2e\"/>\n     <use x=\"95.410156\" xlink:href=\"#DejaVuSans-31\"/>\n     <use x=\"159.033203\" xlink:href=\"#DejaVuSans-36\"/>\n    </g>\n   </g>\n   <g id=\"text_31\">\n    <!-- -0.36 -->\n    <g style=\"fill:#ffffff;\" transform=\"translate(307.691781 60.122031)scale(0.14 -0.14)\">\n     <use xlink:href=\"#DejaVuSans-2d\"/>\n     <use x=\"36.083984\" xlink:href=\"#DejaVuSans-30\"/>\n     <use x=\"99.707031\" xlink:href=\"#DejaVuSans-2e\"/>\n     <use x=\"131.494141\" xlink:href=\"#DejaVuSans-33\"/>\n     <use x=\"195.117188\" xlink:href=\"#DejaVuSans-36\"/>\n    </g>\n   </g>\n   <g id=\"text_32\">\n    <!-- -0.63 -->\n    <g style=\"fill:#ffffff;\" transform=\"translate(345.275781 60.122031)scale(0.14 -0.14)\">\n     <use xlink:href=\"#DejaVuSans-2d\"/>\n     <use x=\"36.083984\" xlink:href=\"#DejaVuSans-30\"/>\n     <use x=\"99.707031\" xlink:href=\"#DejaVuSans-2e\"/>\n     <use x=\"131.494141\" xlink:href=\"#DejaVuSans-36\"/>\n     <use x=\"195.117188\" xlink:href=\"#DejaVuSans-33\"/>\n    </g>\n   </g>\n   <g id=\"text_33\">\n    <!-- -0.54 -->\n    <g style=\"fill:#ffffff;\" transform=\"translate(82.187781 89.282031)scale(0.14 -0.14)\">\n     <use xlink:href=\"#DejaVuSans-2d\"/>\n     <use x=\"36.083984\" xlink:href=\"#DejaVuSans-30\"/>\n     <use x=\"99.707031\" xlink:href=\"#DejaVuSans-2e\"/>\n     <use x=\"131.494141\" xlink:href=\"#DejaVuSans-35\"/>\n     <use x=\"195.117188\" xlink:href=\"#DejaVuSans-34\"/>\n    </g>\n   </g>\n   <g id=\"text_34\">\n    <!-- 0.13 -->\n    <g style=\"fill:#ffffff;\" transform=\"translate(122.29725 89.282031)scale(0.14 -0.14)\">\n     <use xlink:href=\"#DejaVuSans-30\"/>\n     <use x=\"63.623047\" xlink:href=\"#DejaVuSans-2e\"/>\n     <use x=\"95.410156\" xlink:href=\"#DejaVuSans-31\"/>\n     <use x=\"159.033203\" xlink:href=\"#DejaVuSans-33\"/>\n    </g>\n   </g>\n   <g id=\"text_35\">\n    <!-- 1 -->\n    <g style=\"fill:#262626;\" transform=\"translate(171.013438 89.282031)scale(0.14 -0.14)\">\n     <use xlink:href=\"#DejaVuSans-31\"/>\n    </g>\n   </g>\n   <g id=\"text_36\">\n    <!-- -0.11 -->\n    <g style=\"fill:#ffffff;\" transform=\"translate(194.939781 89.282031)scale(0.14 -0.14)\">\n     <use xlink:href=\"#DejaVuSans-2d\"/>\n     <use x=\"36.083984\" xlink:href=\"#DejaVuSans-30\"/>\n     <use x=\"99.707031\" xlink:href=\"#DejaVuSans-2e\"/>\n     <use x=\"131.494141\" xlink:href=\"#DejaVuSans-31\"/>\n     <use x=\"195.117188\" xlink:href=\"#DejaVuSans-31\"/>\n    </g>\n   </g>\n   <g id=\"text_37\">\n    <!-- -0.25 -->\n    <g style=\"fill:#ffffff;\" transform=\"translate(232.523781 89.282031)scale(0.14 -0.14)\">\n     <use xlink:href=\"#DejaVuSans-2d\"/>\n     <use x=\"36.083984\" xlink:href=\"#DejaVuSans-30\"/>\n     <use x=\"99.707031\" xlink:href=\"#DejaVuSans-2e\"/>\n     <use x=\"131.494141\" xlink:href=\"#DejaVuSans-32\"/>\n     <use x=\"195.117188\" xlink:href=\"#DejaVuSans-35\"/>\n    </g>\n   </g>\n   <g id=\"text_38\">\n    <!-- 0.11 -->\n    <g style=\"fill:#ffffff;\" transform=\"translate(272.63325 89.282031)scale(0.14 -0.14)\">\n     <use xlink:href=\"#DejaVuSans-30\"/>\n     <use x=\"63.623047\" xlink:href=\"#DejaVuSans-2e\"/>\n     <use x=\"95.410156\" xlink:href=\"#DejaVuSans-31\"/>\n     <use x=\"159.033203\" xlink:href=\"#DejaVuSans-31\"/>\n    </g>\n   </g>\n   <g id=\"text_39\">\n    <!-- 0.07 -->\n    <g style=\"fill:#ffffff;\" transform=\"translate(310.21725 89.282031)scale(0.14 -0.14)\">\n     <use xlink:href=\"#DejaVuSans-30\"/>\n     <use x=\"63.623047\" xlink:href=\"#DejaVuSans-2e\"/>\n     <use x=\"95.410156\" xlink:href=\"#DejaVuSans-30\"/>\n     <use x=\"159.033203\" xlink:href=\"#DejaVuSans-37\"/>\n    </g>\n   </g>\n   <g id=\"text_40\">\n    <!-- -0.25 -->\n    <g style=\"fill:#ffffff;\" transform=\"translate(345.275781 89.282031)scale(0.14 -0.14)\">\n     <use xlink:href=\"#DejaVuSans-2d\"/>\n     <use x=\"36.083984\" xlink:href=\"#DejaVuSans-30\"/>\n     <use x=\"99.707031\" xlink:href=\"#DejaVuSans-2e\"/>\n     <use x=\"131.494141\" xlink:href=\"#DejaVuSans-32\"/>\n     <use x=\"195.117188\" xlink:href=\"#DejaVuSans-35\"/>\n    </g>\n   </g>\n   <g id=\"text_41\">\n    <!-- -0.035 -->\n    <g style=\"fill:#ffffff;\" transform=\"translate(77.734031 118.442031)scale(0.14 -0.14)\">\n     <use xlink:href=\"#DejaVuSans-2d\"/>\n     <use x=\"36.083984\" xlink:href=\"#DejaVuSans-30\"/>\n     <use x=\"99.707031\" xlink:href=\"#DejaVuSans-2e\"/>\n     <use x=\"131.494141\" xlink:href=\"#DejaVuSans-30\"/>\n     <use x=\"195.117188\" xlink:href=\"#DejaVuSans-33\"/>\n     <use x=\"258.740234\" xlink:href=\"#DejaVuSans-35\"/>\n    </g>\n   </g>\n   <g id=\"text_42\">\n    <!-- 0.083 -->\n    <g style=\"fill:#ffffff;\" transform=\"translate(117.8435 118.442031)scale(0.14 -0.14)\">\n     <use xlink:href=\"#DejaVuSans-30\"/>\n     <use x=\"63.623047\" xlink:href=\"#DejaVuSans-2e\"/>\n     <use x=\"95.410156\" xlink:href=\"#DejaVuSans-30\"/>\n     <use x=\"159.033203\" xlink:href=\"#DejaVuSans-38\"/>\n     <use x=\"222.65625\" xlink:href=\"#DejaVuSans-33\"/>\n    </g>\n   </g>\n   <g id=\"text_43\">\n    <!-- -0.11 -->\n    <g style=\"fill:#ffffff;\" transform=\"translate(157.355781 118.442031)scale(0.14 -0.14)\">\n     <use xlink:href=\"#DejaVuSans-2d\"/>\n     <use x=\"36.083984\" xlink:href=\"#DejaVuSans-30\"/>\n     <use x=\"99.707031\" xlink:href=\"#DejaVuSans-2e\"/>\n     <use x=\"131.494141\" xlink:href=\"#DejaVuSans-31\"/>\n     <use x=\"195.117188\" xlink:href=\"#DejaVuSans-31\"/>\n    </g>\n   </g>\n   <g id=\"text_44\">\n    <!-- 1 -->\n    <g style=\"fill:#262626;\" transform=\"translate(208.597438 118.442031)scale(0.14 -0.14)\">\n     <use xlink:href=\"#DejaVuSans-31\"/>\n    </g>\n   </g>\n   <g id=\"text_45\">\n    <!-- 0.41 -->\n    <g style=\"fill:#ffffff;\" transform=\"translate(235.04925 118.442031)scale(0.14 -0.14)\">\n     <use xlink:href=\"#DejaVuSans-30\"/>\n     <use x=\"63.623047\" xlink:href=\"#DejaVuSans-2e\"/>\n     <use x=\"95.410156\" xlink:href=\"#DejaVuSans-34\"/>\n     <use x=\"159.033203\" xlink:href=\"#DejaVuSans-31\"/>\n    </g>\n   </g>\n   <g id=\"text_46\">\n    <!-- 0.068 -->\n    <g style=\"fill:#ffffff;\" transform=\"translate(268.1795 118.442031)scale(0.14 -0.14)\">\n     <use xlink:href=\"#DejaVuSans-30\"/>\n     <use x=\"63.623047\" xlink:href=\"#DejaVuSans-2e\"/>\n     <use x=\"95.410156\" xlink:href=\"#DejaVuSans-30\"/>\n     <use x=\"159.033203\" xlink:href=\"#DejaVuSans-36\"/>\n     <use x=\"222.65625\" xlink:href=\"#DejaVuSans-38\"/>\n    </g>\n   </g>\n   <g id=\"text_47\">\n    <!-- -0.22 -->\n    <g style=\"fill:#ffffff;\" transform=\"translate(307.691781 118.442031)scale(0.14 -0.14)\">\n     <use xlink:href=\"#DejaVuSans-2d\"/>\n     <use x=\"36.083984\" xlink:href=\"#DejaVuSans-30\"/>\n     <use x=\"99.707031\" xlink:href=\"#DejaVuSans-2e\"/>\n     <use x=\"131.494141\" xlink:href=\"#DejaVuSans-32\"/>\n     <use x=\"195.117188\" xlink:href=\"#DejaVuSans-32\"/>\n    </g>\n   </g>\n   <g id=\"text_48\">\n    <!-- 0.39 -->\n    <g style=\"fill:#ffffff;\" transform=\"translate(347.80125 118.442031)scale(0.14 -0.14)\">\n     <defs>\n      <path d=\"M 703 97 \nL 703 672 \nQ 941 559 1184 500 \nQ 1428 441 1663 441 \nQ 2288 441 2617 861 \nQ 2947 1281 2994 2138 \nQ 2813 1869 2534 1725 \nQ 2256 1581 1919 1581 \nQ 1219 1581 811 2004 \nQ 403 2428 403 3163 \nQ 403 3881 828 4315 \nQ 1253 4750 1959 4750 \nQ 2769 4750 3195 4129 \nQ 3622 3509 3622 2328 \nQ 3622 1225 3098 567 \nQ 2575 -91 1691 -91 \nQ 1453 -91 1209 -44 \nQ 966 3 703 97 \nz\nM 1959 2075 \nQ 2384 2075 2632 2365 \nQ 2881 2656 2881 3163 \nQ 2881 3666 2632 3958 \nQ 2384 4250 1959 4250 \nQ 1534 4250 1286 3958 \nQ 1038 3666 1038 3163 \nQ 1038 2656 1286 2365 \nQ 1534 2075 1959 2075 \nz\n\" id=\"DejaVuSans-39\" transform=\"scale(0.015625)\"/>\n     </defs>\n     <use xlink:href=\"#DejaVuSans-30\"/>\n     <use x=\"63.623047\" xlink:href=\"#DejaVuSans-2e\"/>\n     <use x=\"95.410156\" xlink:href=\"#DejaVuSans-33\"/>\n     <use x=\"159.033203\" xlink:href=\"#DejaVuSans-39\"/>\n    </g>\n   </g>\n   <g id=\"text_49\">\n    <!-- 0.082 -->\n    <g style=\"fill:#ffffff;\" transform=\"translate(80.2595 147.602031)scale(0.14 -0.14)\">\n     <use xlink:href=\"#DejaVuSans-30\"/>\n     <use x=\"63.623047\" xlink:href=\"#DejaVuSans-2e\"/>\n     <use x=\"95.410156\" xlink:href=\"#DejaVuSans-30\"/>\n     <use x=\"159.033203\" xlink:href=\"#DejaVuSans-38\"/>\n     <use x=\"222.65625\" xlink:href=\"#DejaVuSans-32\"/>\n    </g>\n   </g>\n   <g id=\"text_50\">\n    <!-- 0.018 -->\n    <g style=\"fill:#ffffff;\" transform=\"translate(117.8435 147.602031)scale(0.14 -0.14)\">\n     <use xlink:href=\"#DejaVuSans-30\"/>\n     <use x=\"63.623047\" xlink:href=\"#DejaVuSans-2e\"/>\n     <use x=\"95.410156\" xlink:href=\"#DejaVuSans-30\"/>\n     <use x=\"159.033203\" xlink:href=\"#DejaVuSans-31\"/>\n     <use x=\"222.65625\" xlink:href=\"#DejaVuSans-38\"/>\n    </g>\n   </g>\n   <g id=\"text_51\">\n    <!-- -0.25 -->\n    <g style=\"fill:#ffffff;\" transform=\"translate(157.355781 147.602031)scale(0.14 -0.14)\">\n     <use xlink:href=\"#DejaVuSans-2d\"/>\n     <use x=\"36.083984\" xlink:href=\"#DejaVuSans-30\"/>\n     <use x=\"99.707031\" xlink:href=\"#DejaVuSans-2e\"/>\n     <use x=\"131.494141\" xlink:href=\"#DejaVuSans-32\"/>\n     <use x=\"195.117188\" xlink:href=\"#DejaVuSans-35\"/>\n    </g>\n   </g>\n   <g id=\"text_52\">\n    <!-- 0.41 -->\n    <g style=\"fill:#ffffff;\" transform=\"translate(197.46525 147.602031)scale(0.14 -0.14)\">\n     <use xlink:href=\"#DejaVuSans-30\"/>\n     <use x=\"63.623047\" xlink:href=\"#DejaVuSans-2e\"/>\n     <use x=\"95.410156\" xlink:href=\"#DejaVuSans-34\"/>\n     <use x=\"159.033203\" xlink:href=\"#DejaVuSans-31\"/>\n    </g>\n   </g>\n   <g id=\"text_53\">\n    <!-- 1 -->\n    <g style=\"fill:#262626;\" transform=\"translate(246.181438 147.602031)scale(0.14 -0.14)\">\n     <use xlink:href=\"#DejaVuSans-31\"/>\n    </g>\n   </g>\n   <g id=\"text_54\">\n    <!-- 0.04 -->\n    <g style=\"fill:#ffffff;\" transform=\"translate(272.63325 147.602031)scale(0.14 -0.14)\">\n     <use xlink:href=\"#DejaVuSans-30\"/>\n     <use x=\"63.623047\" xlink:href=\"#DejaVuSans-2e\"/>\n     <use x=\"95.410156\" xlink:href=\"#DejaVuSans-30\"/>\n     <use x=\"159.033203\" xlink:href=\"#DejaVuSans-34\"/>\n    </g>\n   </g>\n   <g id=\"text_55\">\n    <!-- -0.14 -->\n    <g style=\"fill:#ffffff;\" transform=\"translate(307.691781 147.602031)scale(0.14 -0.14)\">\n     <use xlink:href=\"#DejaVuSans-2d\"/>\n     <use x=\"36.083984\" xlink:href=\"#DejaVuSans-30\"/>\n     <use x=\"99.707031\" xlink:href=\"#DejaVuSans-2e\"/>\n     <use x=\"131.494141\" xlink:href=\"#DejaVuSans-31\"/>\n     <use x=\"195.117188\" xlink:href=\"#DejaVuSans-34\"/>\n    </g>\n   </g>\n   <g id=\"text_56\">\n    <!-- 0.39 -->\n    <g style=\"fill:#ffffff;\" transform=\"translate(347.80125 147.602031)scale(0.14 -0.14)\">\n     <use xlink:href=\"#DejaVuSans-30\"/>\n     <use x=\"63.623047\" xlink:href=\"#DejaVuSans-2e\"/>\n     <use x=\"95.410156\" xlink:href=\"#DejaVuSans-33\"/>\n     <use x=\"159.033203\" xlink:href=\"#DejaVuSans-39\"/>\n    </g>\n   </g>\n   <g id=\"text_57\">\n    <!-- -0.17 -->\n    <g style=\"fill:#ffffff;\" transform=\"translate(82.187781 176.762031)scale(0.14 -0.14)\">\n     <use xlink:href=\"#DejaVuSans-2d\"/>\n     <use x=\"36.083984\" xlink:href=\"#DejaVuSans-30\"/>\n     <use x=\"99.707031\" xlink:href=\"#DejaVuSans-2e\"/>\n     <use x=\"131.494141\" xlink:href=\"#DejaVuSans-31\"/>\n     <use x=\"195.117188\" xlink:href=\"#DejaVuSans-37\"/>\n    </g>\n   </g>\n   <g id=\"text_58\">\n    <!-- 0.16 -->\n    <g style=\"fill:#ffffff;\" transform=\"translate(122.29725 176.762031)scale(0.14 -0.14)\">\n     <use xlink:href=\"#DejaVuSans-30\"/>\n     <use x=\"63.623047\" xlink:href=\"#DejaVuSans-2e\"/>\n     <use x=\"95.410156\" xlink:href=\"#DejaVuSans-31\"/>\n     <use x=\"159.033203\" xlink:href=\"#DejaVuSans-36\"/>\n    </g>\n   </g>\n   <g id=\"text_59\">\n    <!-- 0.11 -->\n    <g style=\"fill:#ffffff;\" transform=\"translate(159.88125 176.762031)scale(0.14 -0.14)\">\n     <use xlink:href=\"#DejaVuSans-30\"/>\n     <use x=\"63.623047\" xlink:href=\"#DejaVuSans-2e\"/>\n     <use x=\"95.410156\" xlink:href=\"#DejaVuSans-31\"/>\n     <use x=\"159.033203\" xlink:href=\"#DejaVuSans-31\"/>\n    </g>\n   </g>\n   <g id=\"text_60\">\n    <!-- 0.068 -->\n    <g style=\"fill:#ffffff;\" transform=\"translate(193.0115 176.762031)scale(0.14 -0.14)\">\n     <use xlink:href=\"#DejaVuSans-30\"/>\n     <use x=\"63.623047\" xlink:href=\"#DejaVuSans-2e\"/>\n     <use x=\"95.410156\" xlink:href=\"#DejaVuSans-30\"/>\n     <use x=\"159.033203\" xlink:href=\"#DejaVuSans-36\"/>\n     <use x=\"222.65625\" xlink:href=\"#DejaVuSans-38\"/>\n    </g>\n   </g>\n   <g id=\"text_61\">\n    <!-- 0.04 -->\n    <g style=\"fill:#ffffff;\" transform=\"translate(235.04925 176.762031)scale(0.14 -0.14)\">\n     <use xlink:href=\"#DejaVuSans-30\"/>\n     <use x=\"63.623047\" xlink:href=\"#DejaVuSans-2e\"/>\n     <use x=\"95.410156\" xlink:href=\"#DejaVuSans-30\"/>\n     <use x=\"159.033203\" xlink:href=\"#DejaVuSans-34\"/>\n    </g>\n   </g>\n   <g id=\"text_62\">\n    <!-- 1 -->\n    <g style=\"fill:#262626;\" transform=\"translate(283.765438 176.762031)scale(0.14 -0.14)\">\n     <use xlink:href=\"#DejaVuSans-31\"/>\n    </g>\n   </g>\n   <g id=\"text_63\">\n    <!-- -0.0034 -->\n    <g style=\"fill:#ffffff;\" transform=\"translate(298.784281 176.762031)scale(0.14 -0.14)\">\n     <use xlink:href=\"#DejaVuSans-2d\"/>\n     <use x=\"36.083984\" xlink:href=\"#DejaVuSans-30\"/>\n     <use x=\"99.707031\" xlink:href=\"#DejaVuSans-2e\"/>\n     <use x=\"131.494141\" xlink:href=\"#DejaVuSans-30\"/>\n     <use x=\"195.117188\" xlink:href=\"#DejaVuSans-30\"/>\n     <use x=\"258.740234\" xlink:href=\"#DejaVuSans-33\"/>\n     <use x=\"322.363281\" xlink:href=\"#DejaVuSans-34\"/>\n    </g>\n   </g>\n   <g id=\"text_64\">\n    <!-- -0.11 -->\n    <g style=\"fill:#ffffff;\" transform=\"translate(345.275781 176.762031)scale(0.14 -0.14)\">\n     <use xlink:href=\"#DejaVuSans-2d\"/>\n     <use x=\"36.083984\" xlink:href=\"#DejaVuSans-30\"/>\n     <use x=\"99.707031\" xlink:href=\"#DejaVuSans-2e\"/>\n     <use x=\"131.494141\" xlink:href=\"#DejaVuSans-31\"/>\n     <use x=\"195.117188\" xlink:href=\"#DejaVuSans-31\"/>\n    </g>\n   </g>\n   <g id=\"text_65\">\n    <!-- -0.044 -->\n    <g style=\"fill:#ffffff;\" transform=\"translate(77.734031 205.922031)scale(0.14 -0.14)\">\n     <use xlink:href=\"#DejaVuSans-2d\"/>\n     <use x=\"36.083984\" xlink:href=\"#DejaVuSans-30\"/>\n     <use x=\"99.707031\" xlink:href=\"#DejaVuSans-2e\"/>\n     <use x=\"131.494141\" xlink:href=\"#DejaVuSans-30\"/>\n     <use x=\"195.117188\" xlink:href=\"#DejaVuSans-34\"/>\n     <use x=\"258.740234\" xlink:href=\"#DejaVuSans-34\"/>\n    </g>\n   </g>\n   <g id=\"text_66\">\n    <!-- -0.36 -->\n    <g style=\"fill:#ffffff;\" transform=\"translate(119.771781 205.922031)scale(0.14 -0.14)\">\n     <use xlink:href=\"#DejaVuSans-2d\"/>\n     <use x=\"36.083984\" xlink:href=\"#DejaVuSans-30\"/>\n     <use x=\"99.707031\" xlink:href=\"#DejaVuSans-2e\"/>\n     <use x=\"131.494141\" xlink:href=\"#DejaVuSans-33\"/>\n     <use x=\"195.117188\" xlink:href=\"#DejaVuSans-36\"/>\n    </g>\n   </g>\n   <g id=\"text_67\">\n    <!-- 0.07 -->\n    <g style=\"fill:#ffffff;\" transform=\"translate(159.88125 205.922031)scale(0.14 -0.14)\">\n     <use xlink:href=\"#DejaVuSans-30\"/>\n     <use x=\"63.623047\" xlink:href=\"#DejaVuSans-2e\"/>\n     <use x=\"95.410156\" xlink:href=\"#DejaVuSans-30\"/>\n     <use x=\"159.033203\" xlink:href=\"#DejaVuSans-37\"/>\n    </g>\n   </g>\n   <g id=\"text_68\">\n    <!-- -0.22 -->\n    <g style=\"fill:#ffffff;\" transform=\"translate(194.939781 205.922031)scale(0.14 -0.14)\">\n     <use xlink:href=\"#DejaVuSans-2d\"/>\n     <use x=\"36.083984\" xlink:href=\"#DejaVuSans-30\"/>\n     <use x=\"99.707031\" xlink:href=\"#DejaVuSans-2e\"/>\n     <use x=\"131.494141\" xlink:href=\"#DejaVuSans-32\"/>\n     <use x=\"195.117188\" xlink:href=\"#DejaVuSans-32\"/>\n    </g>\n   </g>\n   <g id=\"text_69\">\n    <!-- -0.14 -->\n    <g style=\"fill:#ffffff;\" transform=\"translate(232.523781 205.922031)scale(0.14 -0.14)\">\n     <use xlink:href=\"#DejaVuSans-2d\"/>\n     <use x=\"36.083984\" xlink:href=\"#DejaVuSans-30\"/>\n     <use x=\"99.707031\" xlink:href=\"#DejaVuSans-2e\"/>\n     <use x=\"131.494141\" xlink:href=\"#DejaVuSans-31\"/>\n     <use x=\"195.117188\" xlink:href=\"#DejaVuSans-34\"/>\n    </g>\n   </g>\n   <g id=\"text_70\">\n    <!-- -0.0034 -->\n    <g style=\"fill:#ffffff;\" transform=\"translate(261.200281 205.922031)scale(0.14 -0.14)\">\n     <use xlink:href=\"#DejaVuSans-2d\"/>\n     <use x=\"36.083984\" xlink:href=\"#DejaVuSans-30\"/>\n     <use x=\"99.707031\" xlink:href=\"#DejaVuSans-2e\"/>\n     <use x=\"131.494141\" xlink:href=\"#DejaVuSans-30\"/>\n     <use x=\"195.117188\" xlink:href=\"#DejaVuSans-30\"/>\n     <use x=\"258.740234\" xlink:href=\"#DejaVuSans-33\"/>\n     <use x=\"322.363281\" xlink:href=\"#DejaVuSans-34\"/>\n    </g>\n   </g>\n   <g id=\"text_71\">\n    <!-- 1 -->\n    <g style=\"fill:#262626;\" transform=\"translate(321.349438 205.922031)scale(0.14 -0.14)\">\n     <use xlink:href=\"#DejaVuSans-31\"/>\n    </g>\n   </g>\n   <g id=\"text_72\">\n    <!-- 0.097 -->\n    <g style=\"fill:#ffffff;\" transform=\"translate(343.3475 205.922031)scale(0.14 -0.14)\">\n     <use xlink:href=\"#DejaVuSans-30\"/>\n     <use x=\"63.623047\" xlink:href=\"#DejaVuSans-2e\"/>\n     <use x=\"95.410156\" xlink:href=\"#DejaVuSans-30\"/>\n     <use x=\"159.033203\" xlink:href=\"#DejaVuSans-39\"/>\n     <use x=\"222.65625\" xlink:href=\"#DejaVuSans-37\"/>\n    </g>\n   </g>\n   <g id=\"text_73\">\n    <!-- 0.3 -->\n    <g style=\"fill:#ffffff;\" transform=\"translate(89.167 235.082031)scale(0.14 -0.14)\">\n     <use xlink:href=\"#DejaVuSans-30\"/>\n     <use x=\"63.623047\" xlink:href=\"#DejaVuSans-2e\"/>\n     <use x=\"95.410156\" xlink:href=\"#DejaVuSans-33\"/>\n    </g>\n   </g>\n   <g id=\"text_74\">\n    <!-- -0.63 -->\n    <g style=\"fill:#ffffff;\" transform=\"translate(119.771781 235.082031)scale(0.14 -0.14)\">\n     <use xlink:href=\"#DejaVuSans-2d\"/>\n     <use x=\"36.083984\" xlink:href=\"#DejaVuSans-30\"/>\n     <use x=\"99.707031\" xlink:href=\"#DejaVuSans-2e\"/>\n     <use x=\"131.494141\" xlink:href=\"#DejaVuSans-36\"/>\n     <use x=\"195.117188\" xlink:href=\"#DejaVuSans-33\"/>\n    </g>\n   </g>\n   <g id=\"text_75\">\n    <!-- -0.25 -->\n    <g style=\"fill:#ffffff;\" transform=\"translate(157.355781 235.082031)scale(0.14 -0.14)\">\n     <use xlink:href=\"#DejaVuSans-2d\"/>\n     <use x=\"36.083984\" xlink:href=\"#DejaVuSans-30\"/>\n     <use x=\"99.707031\" xlink:href=\"#DejaVuSans-2e\"/>\n     <use x=\"131.494141\" xlink:href=\"#DejaVuSans-32\"/>\n     <use x=\"195.117188\" xlink:href=\"#DejaVuSans-35\"/>\n    </g>\n   </g>\n   <g id=\"text_76\">\n    <!-- 0.39 -->\n    <g style=\"fill:#ffffff;\" transform=\"translate(197.46525 235.082031)scale(0.14 -0.14)\">\n     <use xlink:href=\"#DejaVuSans-30\"/>\n     <use x=\"63.623047\" xlink:href=\"#DejaVuSans-2e\"/>\n     <use x=\"95.410156\" xlink:href=\"#DejaVuSans-33\"/>\n     <use x=\"159.033203\" xlink:href=\"#DejaVuSans-39\"/>\n    </g>\n   </g>\n   <g id=\"text_77\">\n    <!-- 0.39 -->\n    <g style=\"fill:#ffffff;\" transform=\"translate(235.04925 235.082031)scale(0.14 -0.14)\">\n     <use xlink:href=\"#DejaVuSans-30\"/>\n     <use x=\"63.623047\" xlink:href=\"#DejaVuSans-2e\"/>\n     <use x=\"95.410156\" xlink:href=\"#DejaVuSans-33\"/>\n     <use x=\"159.033203\" xlink:href=\"#DejaVuSans-39\"/>\n    </g>\n   </g>\n   <g id=\"text_78\">\n    <!-- -0.11 -->\n    <g style=\"fill:#ffffff;\" transform=\"translate(270.107781 235.082031)scale(0.14 -0.14)\">\n     <use xlink:href=\"#DejaVuSans-2d\"/>\n     <use x=\"36.083984\" xlink:href=\"#DejaVuSans-30\"/>\n     <use x=\"99.707031\" xlink:href=\"#DejaVuSans-2e\"/>\n     <use x=\"131.494141\" xlink:href=\"#DejaVuSans-31\"/>\n     <use x=\"195.117188\" xlink:href=\"#DejaVuSans-31\"/>\n    </g>\n   </g>\n   <g id=\"text_79\">\n    <!-- 0.097 -->\n    <g style=\"fill:#ffffff;\" transform=\"translate(305.7635 235.082031)scale(0.14 -0.14)\">\n     <use xlink:href=\"#DejaVuSans-30\"/>\n     <use x=\"63.623047\" xlink:href=\"#DejaVuSans-2e\"/>\n     <use x=\"95.410156\" xlink:href=\"#DejaVuSans-30\"/>\n     <use x=\"159.033203\" xlink:href=\"#DejaVuSans-39\"/>\n     <use x=\"222.65625\" xlink:href=\"#DejaVuSans-37\"/>\n    </g>\n   </g>\n   <g id=\"text_80\">\n    <!-- 1 -->\n    <g style=\"fill:#262626;\" transform=\"translate(358.933437 235.082031)scale(0.14 -0.14)\">\n     <use xlink:href=\"#DejaVuSans-31\"/>\n    </g>\n   </g>\n  </g>\n  <g id=\"axes_2\">\n   <g id=\"patch_3\">\n    <path d=\"M 400.971187 245.798906 \nL 412.635187 245.798906 \nL 412.635187 12.518906 \nL 400.971187 12.518906 \nz\n\" style=\"fill:#f0f0f0;\"/>\n   </g>\n   <g id=\"patch_4\">\n    <path clip-path=\"url(#p6c0beb7faf)\" d=\"M 400.971187 245.798906 \nL 400.971187 244.887656 \nL 400.971187 13.430156 \nL 400.971187 12.518906 \nL 412.635187 12.518906 \nL 412.635187 13.430156 \nL 412.635187 244.887656 \nL 412.635187 245.798906 \nL 412.635187 245.798906 \nz\n\" style=\"fill:#f0f0f0;stroke:#f0f0f0;stroke-linejoin:miter;stroke-width:0.01;\"/>\n   </g>\n   <g id=\"matplotlib.axis_3\"/>\n   <g id=\"matplotlib.axis_4\">\n    <g id=\"ytick_9\">\n     <g id=\"line2d_17\"/>\n     <g id=\"text_81\">\n      <!-- −0.50 -->\n      <g transform=\"translate(416.135187 232.715841)scale(0.14 -0.14)\">\n       <defs>\n        <path d=\"M 678 2272 \nL 4684 2272 \nL 4684 1741 \nL 678 1741 \nL 678 2272 \nz\n\" id=\"DejaVuSans-2212\" transform=\"scale(0.015625)\"/>\n       </defs>\n       <use xlink:href=\"#DejaVuSans-2212\"/>\n       <use x=\"83.789062\" xlink:href=\"#DejaVuSans-30\"/>\n       <use x=\"147.412109\" xlink:href=\"#DejaVuSans-2e\"/>\n       <use x=\"179.199219\" xlink:href=\"#DejaVuSans-35\"/>\n       <use x=\"242.822266\" xlink:href=\"#DejaVuSans-30\"/>\n      </g>\n     </g>\n    </g>\n    <g id=\"ytick_10\">\n     <g id=\"line2d_18\"/>\n     <g id=\"text_82\">\n      <!-- −0.25 -->\n      <g transform=\"translate(416.135187 196.902836)scale(0.14 -0.14)\">\n       <use xlink:href=\"#DejaVuSans-2212\"/>\n       <use x=\"83.789062\" xlink:href=\"#DejaVuSans-30\"/>\n       <use x=\"147.412109\" xlink:href=\"#DejaVuSans-2e\"/>\n       <use x=\"179.199219\" xlink:href=\"#DejaVuSans-32\"/>\n       <use x=\"242.822266\" xlink:href=\"#DejaVuSans-35\"/>\n      </g>\n     </g>\n    </g>\n    <g id=\"ytick_11\">\n     <g id=\"line2d_19\"/>\n     <g id=\"text_83\">\n      <!-- 0.00 -->\n      <g transform=\"translate(416.135187 161.089832)scale(0.14 -0.14)\">\n       <use xlink:href=\"#DejaVuSans-30\"/>\n       <use x=\"63.623047\" xlink:href=\"#DejaVuSans-2e\"/>\n       <use x=\"95.410156\" xlink:href=\"#DejaVuSans-30\"/>\n       <use x=\"159.033203\" xlink:href=\"#DejaVuSans-30\"/>\n      </g>\n     </g>\n    </g>\n    <g id=\"ytick_12\">\n     <g id=\"line2d_20\"/>\n     <g id=\"text_84\">\n      <!-- 0.25 -->\n      <g transform=\"translate(416.135187 125.276827)scale(0.14 -0.14)\">\n       <use xlink:href=\"#DejaVuSans-30\"/>\n       <use x=\"63.623047\" xlink:href=\"#DejaVuSans-2e\"/>\n       <use x=\"95.410156\" xlink:href=\"#DejaVuSans-32\"/>\n       <use x=\"159.033203\" xlink:href=\"#DejaVuSans-35\"/>\n      </g>\n     </g>\n    </g>\n    <g id=\"ytick_13\">\n     <g id=\"line2d_21\"/>\n     <g id=\"text_85\">\n      <!-- 0.50 -->\n      <g transform=\"translate(416.135187 89.463822)scale(0.14 -0.14)\">\n       <use xlink:href=\"#DejaVuSans-30\"/>\n       <use x=\"63.623047\" xlink:href=\"#DejaVuSans-2e\"/>\n       <use x=\"95.410156\" xlink:href=\"#DejaVuSans-35\"/>\n       <use x=\"159.033203\" xlink:href=\"#DejaVuSans-30\"/>\n      </g>\n     </g>\n    </g>\n    <g id=\"ytick_14\">\n     <g id=\"line2d_22\"/>\n     <g id=\"text_86\">\n      <!-- 0.75 -->\n      <g transform=\"translate(416.135187 53.650817)scale(0.14 -0.14)\">\n       <use xlink:href=\"#DejaVuSans-30\"/>\n       <use x=\"63.623047\" xlink:href=\"#DejaVuSans-2e\"/>\n       <use x=\"95.410156\" xlink:href=\"#DejaVuSans-37\"/>\n       <use x=\"159.033203\" xlink:href=\"#DejaVuSans-35\"/>\n      </g>\n     </g>\n    </g>\n    <g id=\"ytick_15\">\n     <g id=\"line2d_23\"/>\n     <g id=\"text_87\">\n      <!-- 1.00 -->\n      <g transform=\"translate(416.135187 17.837813)scale(0.14 -0.14)\">\n       <use xlink:href=\"#DejaVuSans-31\"/>\n       <use x=\"63.623047\" xlink:href=\"#DejaVuSans-2e\"/>\n       <use x=\"95.410156\" xlink:href=\"#DejaVuSans-30\"/>\n       <use x=\"159.033203\" xlink:href=\"#DejaVuSans-30\"/>\n      </g>\n     </g>\n    </g>\n   </g>\n   <image height=\"233\" id=\"image23250b7744\" transform=\"scale(1 -1)translate(0 -233)\" width=\"12\" x=\"401\" xlink:href=\"data:image/png;base64,\niVBORw0KGgoAAAANSUhEUgAAAAwAAADpCAYAAAAQ/NbWAAABUklEQVR4nOWa6w0DMQiDeaRLdP85e53hQ7KFcvkdyxgDTS7N8/k+AdbJTLJ/Agg1Q8lD4gxYAw2pqxhAH5K+NBb6oGeobArY58MrGXBPp7qn9RoM/YBDQttvKQ0eEluO2SrX4Chvtk4HdJobd0HHOUSrGY4+rftEDxggwCEaAjY6je6JJuMwQJ9WCqBpZWd7S0gO4yAg5dW60WmDcYxi5dR4qAbKwMc9DSmxD2j7TLQ+rZiBAqBzBtFdPwYYHKVp8VHAgAHtvyOkbuo0DglOY0daYUPwkAai0f4BQ7VcgyGtlEGuIQwaKOCoGeDHHw8DvGUtZAjKwEOCv9QT0WoA/ripDynoM6fB6YbvcQbj5FkK+v6w0GmsIeGd/Y608iGANVzgNDdODtAb90rRzQ59K9O60bh9DHKnk/6V550+lHwYU6cNxr3SB95A+p6+QPS60vgDtrwrY1+YdokAAAAASUVORK5CYII=\" y=\"-12\"/>\n   <g id=\"LineCollection_1\"/>\n   <g id=\"patch_5\">\n    <path d=\"M 400.971187 245.798906 \nL 400.971187 244.887656 \nL 400.971187 13.430156 \nL 400.971187 12.518906 \nL 412.635187 12.518906 \nL 412.635187 13.430156 \nL 412.635187 244.887656 \nL 412.635187 245.798906 \nz\n\" style=\"fill:none;\"/>\n   </g>\n  </g>\n </g>\n <defs>\n  <clipPath id=\"pb9b2c1b3ef\">\n   <rect height=\"233.28\" width=\"300.672\" x=\"81.507188\" y=\"12.518906\"/>\n  </clipPath>\n  <clipPath id=\"p6c0beb7faf\">\n   <rect height=\"233.28\" width=\"11.664\" x=\"400.971187\" y=\"12.518906\"/>\n  </clipPath>\n </defs>\n</svg>\n",
      "image/png": "[encoded data removed]"
     },
     "metadata": {}
    }
   ],
   "metadata": {}
  },
  {
   "cell_type": "code",
   "execution_count": 254,
   "source": [
    "from sklearn.model_selection import train_test_split\n",
    "\n",
    "train_X, test_X, train_y, test_y = train_test_split(X, y, test_size=0.2, random_state=42, stratify=y)"
   ],
   "outputs": [],
   "metadata": {}
  },
  {
   "cell_type": "code",
   "execution_count": 268,
   "source": [
    "from sklearn.linear_model import LinearRegression\n",
    "from sklearn.linear_model import LogisticRegression\n",
    "from sklearn.model_selection import GridSearchCV, cross_val_score\n",
    "from sklearn.tree import DecisionTreeClassifier\n",
    "from sklearn.neighbors import KNeighborsClassifier\n",
    "from sklearn.neural_network import MLPClassifier\n",
    "from sklearn.svm import LinearSVC, SVC\n",
    "from sklearn.ensemble import RandomForestClassifier\n",
    "from sklearn.naive_bayes import GaussianNB\n",
    "\n",
    "from sklearn.metrics import accuracy_score, confusion_matrix\n",
    "from sklearn import metrics"
   ],
   "outputs": [],
   "metadata": {}
  },
  {
   "cell_type": "code",
   "execution_count": 280,
   "source": [
    "model = SVC(kernel='rbf', C=1, gamma=0.1)\n",
    "model.fit(train_X, train_y)\n",
    "pred1 = model.predict(test_X)\n",
    "print(model.score(train_X, train_y))\n",
    "accuracy_score(pred1, test_y), confusion_matrix(pred1, test_y)"
   ],
   "outputs": [
    {
     "output_type": "stream",
     "name": "stdout",
     "text": [
      "0.8230337078651685\n"
     ]
    },
    {
     "output_type": "execute_result",
     "data": {
      "text/plain": [
       "(0.8156424581005587,\n",
       " array([[99, 22],\n",
       "        [11, 47]]))"
      ]
     },
     "metadata": {},
     "execution_count": 280
    }
   ],
   "metadata": {}
  },
  {
   "cell_type": "code",
   "execution_count": 281,
   "source": [
    "model = SVC(kernel='linear', C=0.1, gamma=0.1)\n",
    "model.fit(train_X, train_y)\n",
    "pred2 = model.predict(test_X)\n",
    "print(model.score(train_X, train_y))\n",
    "accuracy_score(pred2, test_y), confusion_matrix(pred2, test_y)"
   ],
   "outputs": [
    {
     "output_type": "stream",
     "name": "stdout",
     "text": [
      "0.7893258426966292\n"
     ]
    },
    {
     "output_type": "execute_result",
     "data": {
      "text/plain": [
       "(0.776536312849162,\n",
       " array([[94, 24],\n",
       "        [16, 45]]))"
      ]
     },
     "metadata": {},
     "execution_count": 281
    }
   ],
   "metadata": {}
  },
  {
   "cell_type": "code",
   "execution_count": 307,
   "source": [
    "model = LogisticRegression(max_iter=200, tol=0.01, C=0.01)\n",
    "model.fit(train_X, train_y)\n",
    "pred3 = model.predict(test_X)\n",
    "print(model.score(train_X, train_y))\n",
    "accuracy_score(pred3, test_y), confusion_matrix(pred3, test_y)"
   ],
   "outputs": [
    {
     "output_type": "stream",
     "name": "stdout",
     "text": [
      "0.7457865168539326\n"
     ]
    },
    {
     "output_type": "execute_result",
     "data": {
      "text/plain": [
       "(0.7262569832402235,\n",
       " array([[99, 38],\n",
       "        [11, 31]]))"
      ]
     },
     "metadata": {},
     "execution_count": 307
    }
   ],
   "metadata": {}
  },
  {
   "cell_type": "code",
   "execution_count": 283,
   "source": [
    "model = DecisionTreeClassifier()\n",
    "model.fit(train_X, train_y)\n",
    "pred4 = model.predict(test_X)\n",
    "print(model.score(train_X, train_y))\n",
    "accuracy_score(pred4, test_y), confusion_matrix(pred4, test_y)"
   ],
   "outputs": [
    {
     "output_type": "stream",
     "name": "stdout",
     "text": [
      "0.8960674157303371\n"
     ]
    },
    {
     "output_type": "execute_result",
     "data": {
      "text/plain": [
       "(0.7653631284916201,\n",
       " array([[94, 26],\n",
       "        [16, 43]]))"
      ]
     },
     "metadata": {},
     "execution_count": 283
    }
   ],
   "metadata": {}
  },
  {
   "cell_type": "code",
   "execution_count": 301,
   "source": [
    "model = KNeighborsClassifier(n_neighbors=5)\n",
    "model.fit(train_X, train_y)\n",
    "pred5 = model.predict(test_X)\n",
    "print(model.score(train_X, train_y))\n",
    "accuracy_score(pred5, test_y), confusion_matrix(pred5, test_y)"
   ],
   "outputs": [
    {
     "output_type": "stream",
     "name": "stdout",
     "text": [
      "0.8328651685393258\n"
     ]
    },
    {
     "output_type": "execute_result",
     "data": {
      "text/plain": [
       "(0.7597765363128491,\n",
       " array([[93, 26],\n",
       "        [17, 43]]))"
      ]
     },
     "metadata": {},
     "execution_count": 301
    }
   ],
   "metadata": {}
  },
  {
   "cell_type": "code",
   "execution_count": 284,
   "source": [
    "model = GaussianNB()\n",
    "model.fit(train_X, train_y)\n",
    "pred6 = model.predict(test_X)\n",
    "print(model.score(train_X, train_y))\n",
    "accuracy_score(pred6, test_y), confusion_matrix(pred6, test_y)"
   ],
   "outputs": [
    {
     "output_type": "stream",
     "name": "stdout",
     "text": [
      "0.7668539325842697\n"
     ]
    },
    {
     "output_type": "execute_result",
     "data": {
      "text/plain": [
       "(0.7597765363128491,\n",
       " array([[85, 18],\n",
       "        [25, 51]]))"
      ]
     },
     "metadata": {},
     "execution_count": 284
    }
   ],
   "metadata": {}
  },
  {
   "cell_type": "code",
   "execution_count": 310,
   "source": [
    "model = RandomForestClassifier(n_estimators=150)\n",
    "model.fit(train_X, train_y)\n",
    "pred7 = model.predict(test_X)\n",
    "print(model.score(train_X, train_y))\n",
    "accuracy_score(pred7, test_y), confusion_matrix(pred7, test_y)"
   ],
   "outputs": [
    {
     "output_type": "stream",
     "name": "stdout",
     "text": [
      "0.8960674157303371\n"
     ]
    },
    {
     "output_type": "execute_result",
     "data": {
      "text/plain": [
       "(0.7821229050279329,\n",
       " array([[93, 22],\n",
       "        [17, 47]]))"
      ]
     },
     "metadata": {},
     "execution_count": 310
    }
   ],
   "metadata": {}
  },
  {
   "cell_type": "code",
   "execution_count": 347,
   "source": [
    "from sklearn.ensemble import VotingClassifier\n",
    "\n",
    "ensemble_lin_rbf = VotingClassifier(estimators=[\n",
    "    ('SVC', SVC(kernel='rbf', C=1, gamma=0.1, probability=True, random_state=52)),\n",
    "    ('RFC', RandomForestClassifier(n_estimators=500, random_state=42)),\n",
    "    ('KNN',KNeighborsClassifier(n_neighbors=5)),\n",
    "    ('DTC', DecisionTreeClassifier(random_state=12)),\n",
    "    ('MLC', MLPClassifier(\n",
    "        random_state=1, solver='adam', alpha=0.5, tol=0.0001, \n",
    "        max_iter=3000, learning_rate='adaptive', \n",
    "        learning_rate_init=0.001))\n",
    "],voting='soft')\n",
    "\n",
    "ensemble_lin_rbf.fit(train_X, train_y)\n",
    "print(\"ensemble accuracy is \", ensemble_lin_rbf.score(test_X, test_y))"
   ],
   "outputs": [
    {
     "output_type": "stream",
     "name": "stdout",
     "text": [
      "ensemble accuracy is  0.8212290502793296\n"
     ]
    }
   ],
   "metadata": {}
  },
  {
   "cell_type": "code",
   "execution_count": 348,
   "source": [
    "ensemble_lin_rbf_pred = ensemble_lin_rbf.predict(test_X)"
   ],
   "outputs": [],
   "metadata": {}
  },
  {
   "cell_type": "code",
   "execution_count": 349,
   "source": [
    "confusion_matrix(test_y, ensemble_lin_rbf_pred)"
   ],
   "outputs": [
    {
     "output_type": "execute_result",
     "data": {
      "text/plain": [
       "array([[98, 12],\n",
       "       [20, 49]])"
      ]
     },
     "metadata": {},
     "execution_count": 349
    }
   ],
   "metadata": {}
  },
  {
   "cell_type": "code",
   "execution_count": 357,
   "source": [
    "from sklearn.ensemble import AdaBoostClassifier\n",
    "\n",
    "ada = AdaBoostClassifier(n_estimators=500, random_state=12, \n",
    "learning_rate=0.1)\n",
    "result = cross_val_score(ada, train_X, train_y, cv=10, scoring='accuracy')\n",
    "print(\"result of Ada boosting is \", result.mean())"
   ],
   "outputs": [
    {
     "output_type": "stream",
     "name": "stdout",
     "text": [
      "result of Ada boosting is  0.7823161189358372\n"
     ]
    }
   ],
   "metadata": {}
  },
  {
   "cell_type": "code",
   "execution_count": 358,
   "source": [
    "from sklearn.ensemble import GradientBoostingClassifier\n",
    "\n",
    "grad = GradientBoostingClassifier(n_estimators=500, random_state=12, \n",
    "learning_rate=0.1)\n",
    "result = cross_val_score(grad, train_X,train_y, cv=10, scoring='accuracy')\n",
    "print(\"result of Gradient boosting is \", result.mean())"
   ],
   "outputs": [
    {
     "output_type": "stream",
     "name": "stdout",
     "text": [
      "result of Gradient boosting is  0.7964201877934273\n"
     ]
    }
   ],
   "metadata": {}
  },
  {
   "cell_type": "code",
   "execution_count": 359,
   "source": [
    "from xgboost import XGBClassifier\n",
    "xgboost = XGBClassifier(n_estimators=500, use_label_encoder=False, random_state=12, \n",
    "learning_rate=0.1)\n",
    "result = cross_val_score(xgboost, train_X, train_y, cv=10, scoring='accuracy')\n",
    "print(\"result of XGboost is \", result.mean())"
   ],
   "outputs": [
    {
     "output_type": "stream",
     "name": "stdout",
     "text": [
      "[13:10:04] WARNING: ../src/learner.cc:1095: Starting in XGBoost 1.3.0, the default evaluation metric used with the objective 'binary:logistic' was changed from 'error' to 'logloss'. Explicitly set eval_metric if you'd like to restore the old behavior.\n",
      "[13:10:05] WARNING: ../src/learner.cc:1095: Starting in XGBoost 1.3.0, the default evaluation metric used with the objective 'binary:logistic' was changed from 'error' to 'logloss'. Explicitly set eval_metric if you'd like to restore the old behavior.\n",
      "[13:10:05] WARNING: ../src/learner.cc:1095: Starting in XGBoost 1.3.0, the default evaluation metric used with the objective 'binary:logistic' was changed from 'error' to 'logloss'. Explicitly set eval_metric if you'd like to restore the old behavior.\n",
      "[13:10:06] WARNING: ../src/learner.cc:1095: Starting in XGBoost 1.3.0, the default evaluation metric used with the objective 'binary:logistic' was changed from 'error' to 'logloss'. Explicitly set eval_metric if you'd like to restore the old behavior.\n",
      "[13:10:06] WARNING: ../src/learner.cc:1095: Starting in XGBoost 1.3.0, the default evaluation metric used with the objective 'binary:logistic' was changed from 'error' to 'logloss'. Explicitly set eval_metric if you'd like to restore the old behavior.\n",
      "[13:10:07] WARNING: ../src/learner.cc:1095: Starting in XGBoost 1.3.0, the default evaluation metric used with the objective 'binary:logistic' was changed from 'error' to 'logloss'. Explicitly set eval_metric if you'd like to restore the old behavior.\n",
      "[13:10:09] WARNING: ../src/learner.cc:1095: Starting in XGBoost 1.3.0, the default evaluation metric used with the objective 'binary:logistic' was changed from 'error' to 'logloss'. Explicitly set eval_metric if you'd like to restore the old behavior.\n",
      "[13:10:09] WARNING: ../src/learner.cc:1095: Starting in XGBoost 1.3.0, the default evaluation metric used with the objective 'binary:logistic' was changed from 'error' to 'logloss'. Explicitly set eval_metric if you'd like to restore the old behavior.\n",
      "[13:10:10] WARNING: ../src/learner.cc:1095: Starting in XGBoost 1.3.0, the default evaluation metric used with the objective 'binary:logistic' was changed from 'error' to 'logloss'. Explicitly set eval_metric if you'd like to restore the old behavior.\n",
      "[13:10:10] WARNING: ../src/learner.cc:1095: Starting in XGBoost 1.3.0, the default evaluation metric used with the objective 'binary:logistic' was changed from 'error' to 'logloss'. Explicitly set eval_metric if you'd like to restore the old behavior.\n",
      "result of XGboost is  0.7907276995305165\n"
     ]
    }
   ],
   "metadata": {}
  },
  {
   "cell_type": "code",
   "execution_count": 377,
   "source": [
    "import numpy as np\n",
    "n_estimators = list(range(100,1100,100))\n",
    "learn_rate = np.arange(0.05, 1, 0.5)\n",
    "hyper = {'n_estimators': n_estimators, 'learning_rate': learn_rate}\n",
    "grid = GridSearchCV(estimator=GradientBoostingClassifier(),\n",
    " param_grid=hyper, cv=5, verbose=True)\n",
    "\n",
    "grid.fit(X,y)\n",
    "print(grid.best_estimator_)\n",
    "print(grid.best_score_)"
   ],
   "outputs": [
    {
     "output_type": "stream",
     "name": "stdout",
     "text": [
      "Fitting 5 folds for each of 20 candidates, totalling 100 fits\n",
      "GradientBoostingClassifier(learning_rate=0.05, n_estimators=1000)\n",
      "0.8092335697696316\n"
     ]
    }
   ],
   "metadata": {}
  },
  {
   "cell_type": "code",
   "execution_count": 383,
   "source": [
    "from sklearn.model_selection import cross_val_predict\n",
    "\n",
    "ada = XGBClassifier(n_estimators=1000, random_state=23, learning_rate=0.05)\n",
    "result = cross_val_predict(ada, X, y, cv=10)\n",
    "ada.fit(X,y)\n",
    "sns.heatmap(confusion_matrix(y, result), cmap='winter', annot=True, fmt='2.0f')\n",
    "plt.show()"
   ],
   "outputs": [
    {
     "output_type": "stream",
     "name": "stderr",
     "text": [
      "/home/gbotemi/.local/lib/python3.8/site-packages/xgboost/sklearn.py:1146: UserWarning: The use of label encoder in XGBClassifier is deprecated and will be removed in a future release. To remove this warning, do the following: 1) Pass option use_label_encoder=False when constructing XGBClassifier object; and 2) Encode your labels (y) as integers starting with 0, i.e. 0, 1, 2, ..., [num_class - 1].\n",
      "  warnings.warn(label_encoder_deprecation_msg, UserWarning)\n"
     ]
    },
    {
     "output_type": "stream",
     "name": "stdout",
     "text": [
      "[13:42:49] WARNING: ../src/learner.cc:1095: Starting in XGBoost 1.3.0, the default evaluation metric used with the objective 'binary:logistic' was changed from 'error' to 'logloss'. Explicitly set eval_metric if you'd like to restore the old behavior.\n"
     ]
    },
    {
     "output_type": "stream",
     "name": "stderr",
     "text": [
      "/home/gbotemi/.local/lib/python3.8/site-packages/xgboost/sklearn.py:1146: UserWarning: The use of label encoder in XGBClassifier is deprecated and will be removed in a future release. To remove this warning, do the following: 1) Pass option use_label_encoder=False when constructing XGBClassifier object; and 2) Encode your labels (y) as integers starting with 0, i.e. 0, 1, 2, ..., [num_class - 1].\n",
      "  warnings.warn(label_encoder_deprecation_msg, UserWarning)\n"
     ]
    },
    {
     "output_type": "stream",
     "name": "stdout",
     "text": [
      "[13:42:50] WARNING: ../src/learner.cc:1095: Starting in XGBoost 1.3.0, the default evaluation metric used with the objective 'binary:logistic' was changed from 'error' to 'logloss'. Explicitly set eval_metric if you'd like to restore the old behavior.\n"
     ]
    },
    {
     "output_type": "stream",
     "name": "stderr",
     "text": [
      "/home/gbotemi/.local/lib/python3.8/site-packages/xgboost/sklearn.py:1146: UserWarning: The use of label encoder in XGBClassifier is deprecated and will be removed in a future release. To remove this warning, do the following: 1) Pass option use_label_encoder=False when constructing XGBClassifier object; and 2) Encode your labels (y) as integers starting with 0, i.e. 0, 1, 2, ..., [num_class - 1].\n",
      "  warnings.warn(label_encoder_deprecation_msg, UserWarning)\n"
     ]
    },
    {
     "output_type": "stream",
     "name": "stdout",
     "text": [
      "[13:42:51] WARNING: ../src/learner.cc:1095: Starting in XGBoost 1.3.0, the default evaluation metric used with the objective 'binary:logistic' was changed from 'error' to 'logloss'. Explicitly set eval_metric if you'd like to restore the old behavior.\n"
     ]
    },
    {
     "output_type": "stream",
     "name": "stderr",
     "text": [
      "/home/gbotemi/.local/lib/python3.8/site-packages/xgboost/sklearn.py:1146: UserWarning: The use of label encoder in XGBClassifier is deprecated and will be removed in a future release. To remove this warning, do the following: 1) Pass option use_label_encoder=False when constructing XGBClassifier object; and 2) Encode your labels (y) as integers starting with 0, i.e. 0, 1, 2, ..., [num_class - 1].\n",
      "  warnings.warn(label_encoder_deprecation_msg, UserWarning)\n"
     ]
    },
    {
     "output_type": "stream",
     "name": "stdout",
     "text": [
      "[13:42:52] WARNING: ../src/learner.cc:1095: Starting in XGBoost 1.3.0, the default evaluation metric used with the objective 'binary:logistic' was changed from 'error' to 'logloss'. Explicitly set eval_metric if you'd like to restore the old behavior.\n"
     ]
    },
    {
     "output_type": "stream",
     "name": "stderr",
     "text": [
      "/home/gbotemi/.local/lib/python3.8/site-packages/xgboost/sklearn.py:1146: UserWarning: The use of label encoder in XGBClassifier is deprecated and will be removed in a future release. To remove this warning, do the following: 1) Pass option use_label_encoder=False when constructing XGBClassifier object; and 2) Encode your labels (y) as integers starting with 0, i.e. 0, 1, 2, ..., [num_class - 1].\n",
      "  warnings.warn(label_encoder_deprecation_msg, UserWarning)\n"
     ]
    },
    {
     "output_type": "stream",
     "name": "stdout",
     "text": [
      "[13:42:54] WARNING: ../src/learner.cc:1095: Starting in XGBoost 1.3.0, the default evaluation metric used with the objective 'binary:logistic' was changed from 'error' to 'logloss'. Explicitly set eval_metric if you'd like to restore the old behavior.\n"
     ]
    },
    {
     "output_type": "stream",
     "name": "stderr",
     "text": [
      "/home/gbotemi/.local/lib/python3.8/site-packages/xgboost/sklearn.py:1146: UserWarning: The use of label encoder in XGBClassifier is deprecated and will be removed in a future release. To remove this warning, do the following: 1) Pass option use_label_encoder=False when constructing XGBClassifier object; and 2) Encode your labels (y) as integers starting with 0, i.e. 0, 1, 2, ..., [num_class - 1].\n",
      "  warnings.warn(label_encoder_deprecation_msg, UserWarning)\n"
     ]
    },
    {
     "output_type": "stream",
     "name": "stdout",
     "text": [
      "[13:42:56] WARNING: ../src/learner.cc:1095: Starting in XGBoost 1.3.0, the default evaluation metric used with the objective 'binary:logistic' was changed from 'error' to 'logloss'. Explicitly set eval_metric if you'd like to restore the old behavior.\n"
     ]
    },
    {
     "output_type": "stream",
     "name": "stderr",
     "text": [
      "/home/gbotemi/.local/lib/python3.8/site-packages/xgboost/sklearn.py:1146: UserWarning: The use of label encoder in XGBClassifier is deprecated and will be removed in a future release. To remove this warning, do the following: 1) Pass option use_label_encoder=False when constructing XGBClassifier object; and 2) Encode your labels (y) as integers starting with 0, i.e. 0, 1, 2, ..., [num_class - 1].\n",
      "  warnings.warn(label_encoder_deprecation_msg, UserWarning)\n"
     ]
    },
    {
     "output_type": "stream",
     "name": "stdout",
     "text": [
      "[13:42:58] WARNING: ../src/learner.cc:1095: Starting in XGBoost 1.3.0, the default evaluation metric used with the objective 'binary:logistic' was changed from 'error' to 'logloss'. Explicitly set eval_metric if you'd like to restore the old behavior.\n"
     ]
    },
    {
     "output_type": "stream",
     "name": "stderr",
     "text": [
      "/home/gbotemi/.local/lib/python3.8/site-packages/xgboost/sklearn.py:1146: UserWarning: The use of label encoder in XGBClassifier is deprecated and will be removed in a future release. To remove this warning, do the following: 1) Pass option use_label_encoder=False when constructing XGBClassifier object; and 2) Encode your labels (y) as integers starting with 0, i.e. 0, 1, 2, ..., [num_class - 1].\n",
      "  warnings.warn(label_encoder_deprecation_msg, UserWarning)\n"
     ]
    },
    {
     "output_type": "stream",
     "name": "stdout",
     "text": [
      "[13:42:59] WARNING: ../src/learner.cc:1095: Starting in XGBoost 1.3.0, the default evaluation metric used with the objective 'binary:logistic' was changed from 'error' to 'logloss'. Explicitly set eval_metric if you'd like to restore the old behavior.\n"
     ]
    },
    {
     "output_type": "stream",
     "name": "stderr",
     "text": [
      "/home/gbotemi/.local/lib/python3.8/site-packages/xgboost/sklearn.py:1146: UserWarning: The use of label encoder in XGBClassifier is deprecated and will be removed in a future release. To remove this warning, do the following: 1) Pass option use_label_encoder=False when constructing XGBClassifier object; and 2) Encode your labels (y) as integers starting with 0, i.e. 0, 1, 2, ..., [num_class - 1].\n",
      "  warnings.warn(label_encoder_deprecation_msg, UserWarning)\n"
     ]
    },
    {
     "output_type": "stream",
     "name": "stdout",
     "text": [
      "[13:43:01] WARNING: ../src/learner.cc:1095: Starting in XGBoost 1.3.0, the default evaluation metric used with the objective 'binary:logistic' was changed from 'error' to 'logloss'. Explicitly set eval_metric if you'd like to restore the old behavior.\n"
     ]
    },
    {
     "output_type": "stream",
     "name": "stderr",
     "text": [
      "/home/gbotemi/.local/lib/python3.8/site-packages/xgboost/sklearn.py:1146: UserWarning: The use of label encoder in XGBClassifier is deprecated and will be removed in a future release. To remove this warning, do the following: 1) Pass option use_label_encoder=False when constructing XGBClassifier object; and 2) Encode your labels (y) as integers starting with 0, i.e. 0, 1, 2, ..., [num_class - 1].\n",
      "  warnings.warn(label_encoder_deprecation_msg, UserWarning)\n"
     ]
    },
    {
     "output_type": "stream",
     "name": "stdout",
     "text": [
      "[13:43:02] WARNING: ../src/learner.cc:1095: Starting in XGBoost 1.3.0, the default evaluation metric used with the objective 'binary:logistic' was changed from 'error' to 'logloss'. Explicitly set eval_metric if you'd like to restore the old behavior.\n",
      "[13:43:03] WARNING: ../src/learner.cc:1095: Starting in XGBoost 1.3.0, the default evaluation metric used with the objective 'binary:logistic' was changed from 'error' to 'logloss'. Explicitly set eval_metric if you'd like to restore the old behavior.\n"
     ]
    },
    {
     "output_type": "display_data",
     "data": {
      "text/plain": [
       "<Figure size 432x288 with 2 Axes>"
      ],
      "image/svg+xml": "<?xml version=\"1.0\" encoding=\"utf-8\" standalone=\"no\"?>\n<!DOCTYPE svg PUBLIC \"-//W3C//DTD SVG 1.1//EN\"\n  \"http://www.w3.org/Graphics/SVG/1.1/DTD/svg11.dtd\">\n<svg height=\"264.729375pt\" version=\"1.1\" viewBox=\"0 0 392.799875 264.729375\" width=\"392.799875pt\" xmlns=\"http://www.w3.org/2000/svg\" xmlns:xlink=\"http://www.w3.org/1999/xlink\">\n <metadata>\n  <rdf:RDF xmlns:cc=\"http://creativecommons.org/ns#\" xmlns:dc=\"http://purl.org/dc/elements/1.1/\" xmlns:rdf=\"http://www.w3.org/1999/02/22-rdf-syntax-ns#\">\n   <cc:Work>\n    <dc:type rdf:resource=\"http://purl.org/dc/dcmitype/StillImage\"/>\n    <dc:date>2021-08-31T13:43:05.303325</dc:date>\n    <dc:format>image/svg+xml</dc:format>\n    <dc:creator>\n     <cc:Agent>\n      <dc:title>Matplotlib v3.4.3, https://matplotlib.org/</dc:title>\n     </cc:Agent>\n    </dc:creator>\n   </cc:Work>\n  </rdf:RDF>\n </metadata>\n <defs>\n  <style type=\"text/css\">*{stroke-linecap:butt;stroke-linejoin:round;}</style>\n </defs>\n <g id=\"figure_1\">\n  <g id=\"patch_1\">\n   <path d=\"M 0 264.729375 \nL 392.799875 264.729375 \nL 392.799875 0 \nL 0 0 \nz\n\" style=\"fill:#f0f0f0;\"/>\n  </g>\n  <g id=\"axes_1\">\n   <g id=\"patch_2\">\n    <path d=\"M 24.249375 240.48 \nL 324.921375 240.48 \nL 324.921375 7.2 \nL 24.249375 7.2 \nz\n\" style=\"fill:#f0f0f0;\"/>\n   </g>\n   <g id=\"matplotlib.axis_1\">\n    <g id=\"xtick_1\">\n     <g id=\"line2d_1\"/>\n     <g id=\"text_1\">\n      <!-- 0 -->\n      <g transform=\"translate(94.963625 254.617813)scale(0.14 -0.14)\">\n       <defs>\n        <path d=\"M 2034 4250 \nQ 1547 4250 1301 3770 \nQ 1056 3291 1056 2328 \nQ 1056 1369 1301 889 \nQ 1547 409 2034 409 \nQ 2525 409 2770 889 \nQ 3016 1369 3016 2328 \nQ 3016 3291 2770 3770 \nQ 2525 4250 2034 4250 \nz\nM 2034 4750 \nQ 2819 4750 3233 4129 \nQ 3647 3509 3647 2328 \nQ 3647 1150 3233 529 \nQ 2819 -91 2034 -91 \nQ 1250 -91 836 529 \nQ 422 1150 422 2328 \nQ 422 3509 836 4129 \nQ 1250 4750 2034 4750 \nz\n\" id=\"DejaVuSans-30\" transform=\"scale(0.015625)\"/>\n       </defs>\n       <use xlink:href=\"#DejaVuSans-30\"/>\n      </g>\n     </g>\n    </g>\n    <g id=\"xtick_2\">\n     <g id=\"line2d_2\"/>\n     <g id=\"text_2\">\n      <!-- 1 -->\n      <g transform=\"translate(245.299625 254.617813)scale(0.14 -0.14)\">\n       <defs>\n        <path d=\"M 794 531 \nL 1825 531 \nL 1825 4091 \nL 703 3866 \nL 703 4441 \nL 1819 4666 \nL 2450 4666 \nL 2450 531 \nL 3481 531 \nL 3481 0 \nL 794 0 \nL 794 531 \nz\n\" id=\"DejaVuSans-31\" transform=\"scale(0.015625)\"/>\n       </defs>\n       <use xlink:href=\"#DejaVuSans-31\"/>\n      </g>\n     </g>\n    </g>\n   </g>\n   <g id=\"matplotlib.axis_2\">\n    <g id=\"ytick_1\">\n     <g id=\"line2d_3\"/>\n     <g id=\"text_3\">\n      <!-- 0 -->\n      <g transform=\"translate(17.837813 69.97375)rotate(-90)scale(0.14 -0.14)\">\n       <use xlink:href=\"#DejaVuSans-30\"/>\n      </g>\n     </g>\n    </g>\n    <g id=\"ytick_2\">\n     <g id=\"line2d_4\"/>\n     <g id=\"text_4\">\n      <!-- 1 -->\n      <g transform=\"translate(17.837813 186.61375)rotate(-90)scale(0.14 -0.14)\">\n       <use xlink:href=\"#DejaVuSans-31\"/>\n      </g>\n     </g>\n    </g>\n   </g>\n   <g id=\"QuadMesh_1\">\n    <path clip-path=\"url(#p6e83f3cb49)\" d=\"M 24.249375 7.2 \nL 174.585375 7.2 \nL 174.585375 123.84 \nL 24.249375 123.84 \nL 24.249375 7.2 \n\" style=\"fill:#00ff80;\"/>\n    <path clip-path=\"url(#p6e83f3cb49)\" d=\"M 174.585375 7.2 \nL 324.921375 7.2 \nL 324.921375 123.84 \nL 174.585375 123.84 \nL 174.585375 7.2 \n\" style=\"fill:#0000ff;\"/>\n    <path clip-path=\"url(#p6e83f3cb49)\" d=\"M 24.249375 123.84 \nL 174.585375 123.84 \nL 174.585375 240.48 \nL 24.249375 240.48 \nL 24.249375 123.84 \n\" style=\"fill:#0011f6;\"/>\n    <path clip-path=\"url(#p6e83f3cb49)\" d=\"M 174.585375 123.84 \nL 324.921375 123.84 \nL 324.921375 240.48 \nL 174.585375 240.48 \nL 174.585375 123.84 \n\" style=\"fill:#006cc9;\"/>\n   </g>\n   <g id=\"text_5\">\n    <!-- 478 -->\n    <g style=\"fill:#262626;\" transform=\"translate(86.056125 69.383125)scale(0.14 -0.14)\">\n     <defs>\n      <path d=\"M 2419 4116 \nL 825 1625 \nL 2419 1625 \nL 2419 4116 \nz\nM 2253 4666 \nL 3047 4666 \nL 3047 1625 \nL 3713 1625 \nL 3713 1100 \nL 3047 1100 \nL 3047 0 \nL 2419 0 \nL 2419 1100 \nL 313 1100 \nL 313 1709 \nL 2253 4666 \nz\n\" id=\"DejaVuSans-34\" transform=\"scale(0.015625)\"/>\n      <path d=\"M 525 4666 \nL 3525 4666 \nL 3525 4397 \nL 1831 0 \nL 1172 0 \nL 2766 4134 \nL 525 4134 \nL 525 4666 \nz\n\" id=\"DejaVuSans-37\" transform=\"scale(0.015625)\"/>\n      <path d=\"M 2034 2216 \nQ 1584 2216 1326 1975 \nQ 1069 1734 1069 1313 \nQ 1069 891 1326 650 \nQ 1584 409 2034 409 \nQ 2484 409 2743 651 \nQ 3003 894 3003 1313 \nQ 3003 1734 2745 1975 \nQ 2488 2216 2034 2216 \nz\nM 1403 2484 \nQ 997 2584 770 2862 \nQ 544 3141 544 3541 \nQ 544 4100 942 4425 \nQ 1341 4750 2034 4750 \nQ 2731 4750 3128 4425 \nQ 3525 4100 3525 3541 \nQ 3525 3141 3298 2862 \nQ 3072 2584 2669 2484 \nQ 3125 2378 3379 2068 \nQ 3634 1759 3634 1313 \nQ 3634 634 3220 271 \nQ 2806 -91 2034 -91 \nQ 1263 -91 848 271 \nQ 434 634 434 1313 \nQ 434 1759 690 2068 \nQ 947 2378 1403 2484 \nz\nM 1172 3481 \nQ 1172 3119 1398 2916 \nQ 1625 2713 2034 2713 \nQ 2441 2713 2670 2916 \nQ 2900 3119 2900 3481 \nQ 2900 3844 2670 4047 \nQ 2441 4250 2034 4250 \nQ 1625 4250 1398 4047 \nQ 1172 3844 1172 3481 \nz\n\" id=\"DejaVuSans-38\" transform=\"scale(0.015625)\"/>\n     </defs>\n     <use xlink:href=\"#DejaVuSans-34\"/>\n     <use x=\"63.623047\" xlink:href=\"#DejaVuSans-37\"/>\n     <use x=\"127.246094\" xlink:href=\"#DejaVuSans-38\"/>\n    </g>\n   </g>\n   <g id=\"text_6\">\n    <!-- 71 -->\n    <g style=\"fill:#ffffff;\" transform=\"translate(240.845875 69.383125)scale(0.14 -0.14)\">\n     <use xlink:href=\"#DejaVuSans-37\"/>\n     <use x=\"63.623047\" xlink:href=\"#DejaVuSans-31\"/>\n    </g>\n   </g>\n   <g id=\"text_7\">\n    <!-- 99 -->\n    <g style=\"fill:#ffffff;\" transform=\"translate(90.509875 186.023125)scale(0.14 -0.14)\">\n     <defs>\n      <path d=\"M 703 97 \nL 703 672 \nQ 941 559 1184 500 \nQ 1428 441 1663 441 \nQ 2288 441 2617 861 \nQ 2947 1281 2994 2138 \nQ 2813 1869 2534 1725 \nQ 2256 1581 1919 1581 \nQ 1219 1581 811 2004 \nQ 403 2428 403 3163 \nQ 403 3881 828 4315 \nQ 1253 4750 1959 4750 \nQ 2769 4750 3195 4129 \nQ 3622 3509 3622 2328 \nQ 3622 1225 3098 567 \nQ 2575 -91 1691 -91 \nQ 1453 -91 1209 -44 \nQ 966 3 703 97 \nz\nM 1959 2075 \nQ 2384 2075 2632 2365 \nQ 2881 2656 2881 3163 \nQ 2881 3666 2632 3958 \nQ 2384 4250 1959 4250 \nQ 1534 4250 1286 3958 \nQ 1038 3666 1038 3163 \nQ 1038 2656 1286 2365 \nQ 1534 2075 1959 2075 \nz\n\" id=\"DejaVuSans-39\" transform=\"scale(0.015625)\"/>\n     </defs>\n     <use xlink:href=\"#DejaVuSans-39\"/>\n     <use x=\"63.623047\" xlink:href=\"#DejaVuSans-39\"/>\n    </g>\n   </g>\n   <g id=\"text_8\">\n    <!-- 243 -->\n    <g style=\"fill:#ffffff;\" transform=\"translate(236.392125 186.023125)scale(0.14 -0.14)\">\n     <defs>\n      <path d=\"M 1228 531 \nL 3431 531 \nL 3431 0 \nL 469 0 \nL 469 531 \nQ 828 903 1448 1529 \nQ 2069 2156 2228 2338 \nQ 2531 2678 2651 2914 \nQ 2772 3150 2772 3378 \nQ 2772 3750 2511 3984 \nQ 2250 4219 1831 4219 \nQ 1534 4219 1204 4116 \nQ 875 4013 500 3803 \nL 500 4441 \nQ 881 4594 1212 4672 \nQ 1544 4750 1819 4750 \nQ 2544 4750 2975 4387 \nQ 3406 4025 3406 3419 \nQ 3406 3131 3298 2873 \nQ 3191 2616 2906 2266 \nQ 2828 2175 2409 1742 \nQ 1991 1309 1228 531 \nz\n\" id=\"DejaVuSans-32\" transform=\"scale(0.015625)\"/>\n      <path d=\"M 2597 2516 \nQ 3050 2419 3304 2112 \nQ 3559 1806 3559 1356 \nQ 3559 666 3084 287 \nQ 2609 -91 1734 -91 \nQ 1441 -91 1130 -33 \nQ 819 25 488 141 \nL 488 750 \nQ 750 597 1062 519 \nQ 1375 441 1716 441 \nQ 2309 441 2620 675 \nQ 2931 909 2931 1356 \nQ 2931 1769 2642 2001 \nQ 2353 2234 1838 2234 \nL 1294 2234 \nL 1294 2753 \nL 1863 2753 \nQ 2328 2753 2575 2939 \nQ 2822 3125 2822 3475 \nQ 2822 3834 2567 4026 \nQ 2313 4219 1838 4219 \nQ 1578 4219 1281 4162 \nQ 984 4106 628 3988 \nL 628 4550 \nQ 988 4650 1302 4700 \nQ 1616 4750 1894 4750 \nQ 2613 4750 3031 4423 \nQ 3450 4097 3450 3541 \nQ 3450 3153 3228 2886 \nQ 3006 2619 2597 2516 \nz\n\" id=\"DejaVuSans-33\" transform=\"scale(0.015625)\"/>\n     </defs>\n     <use xlink:href=\"#DejaVuSans-32\"/>\n     <use x=\"63.623047\" xlink:href=\"#DejaVuSans-34\"/>\n     <use x=\"127.246094\" xlink:href=\"#DejaVuSans-33\"/>\n    </g>\n   </g>\n  </g>\n  <g id=\"axes_2\">\n   <g id=\"patch_3\">\n    <path d=\"M 343.713375 240.48 \nL 355.377375 240.48 \nL 355.377375 7.2 \nL 343.713375 7.2 \nz\n\" style=\"fill:#f0f0f0;\"/>\n   </g>\n   <g id=\"patch_4\">\n    <path clip-path=\"url(#pee5a18ebdf)\" d=\"M 343.713375 240.48 \nL 343.713375 239.56875 \nL 343.713375 8.11125 \nL 343.713375 7.2 \nL 355.377375 7.2 \nL 355.377375 8.11125 \nL 355.377375 239.56875 \nL 355.377375 240.48 \nL 355.377375 240.48 \nz\n\" style=\"fill:#f0f0f0;stroke:#f0f0f0;stroke-linejoin:miter;stroke-width:0.01;\"/>\n   </g>\n   <g id=\"matplotlib.axis_3\"/>\n   <g id=\"matplotlib.axis_4\">\n    <g id=\"ytick_3\">\n     <g id=\"line2d_5\"/>\n     <g id=\"text_9\">\n      <!-- 100 -->\n      <g transform=\"translate(358.877375 229.17699)scale(0.14 -0.14)\">\n       <use xlink:href=\"#DejaVuSans-31\"/>\n       <use x=\"63.623047\" xlink:href=\"#DejaVuSans-30\"/>\n       <use x=\"127.246094\" xlink:href=\"#DejaVuSans-30\"/>\n      </g>\n     </g>\n    </g>\n    <g id=\"ytick_4\">\n     <g id=\"line2d_6\"/>\n     <g id=\"text_10\">\n      <!-- 200 -->\n      <g transform=\"translate(358.877375 171.860036)scale(0.14 -0.14)\">\n       <use xlink:href=\"#DejaVuSans-32\"/>\n       <use x=\"63.623047\" xlink:href=\"#DejaVuSans-30\"/>\n       <use x=\"127.246094\" xlink:href=\"#DejaVuSans-30\"/>\n      </g>\n     </g>\n    </g>\n    <g id=\"ytick_5\">\n     <g id=\"line2d_7\"/>\n     <g id=\"text_11\">\n      <!-- 300 -->\n      <g transform=\"translate(358.877375 114.543083)scale(0.14 -0.14)\">\n       <use xlink:href=\"#DejaVuSans-33\"/>\n       <use x=\"63.623047\" xlink:href=\"#DejaVuSans-30\"/>\n       <use x=\"127.246094\" xlink:href=\"#DejaVuSans-30\"/>\n      </g>\n     </g>\n    </g>\n    <g id=\"ytick_6\">\n     <g id=\"line2d_8\"/>\n     <g id=\"text_12\">\n      <!-- 400 -->\n      <g transform=\"translate(358.877375 57.22613)scale(0.14 -0.14)\">\n       <use xlink:href=\"#DejaVuSans-34\"/>\n       <use x=\"63.623047\" xlink:href=\"#DejaVuSans-30\"/>\n       <use x=\"127.246094\" xlink:href=\"#DejaVuSans-30\"/>\n      </g>\n     </g>\n    </g>\n   </g>\n   <image height=\"234\" id=\"imagef6d7cc183c\" transform=\"scale(1 -1)translate(0 -234)\" width=\"11\" x=\"344\" xlink:href=\"data:image/png;base64,\niVBORw0KGgoAAAANSUhEUgAAAAsAAADqCAYAAAB0tL8BAAAAnklEQVR4nO3WUQqAMAyD4U52/yvPEwjrwJG0v8/loxpSHBFrxeYzY+yORswY23AH+UnJhi9YXs4l+NsayMcyHWwlE7e7rJJgaljj04nIKgkiX5GJ213mL9ddpoPuMh1UlEUKm5FVPl11mZPrLtfvoMgaKTkzTAdbycTtLqucXJE1UrLGGnTQXVbpIPIVuX5hRdbg5CJ/DHNyW8nE7S2/WPqFJPRo9g8AAAAASUVORK5CYII=\" y=\"-6\"/>\n   <g id=\"LineCollection_1\"/>\n   <g id=\"patch_5\">\n    <path d=\"M 343.713375 240.48 \nL 343.713375 239.56875 \nL 343.713375 8.11125 \nL 343.713375 7.2 \nL 355.377375 7.2 \nL 355.377375 8.11125 \nL 355.377375 239.56875 \nL 355.377375 240.48 \nz\n\" style=\"fill:none;\"/>\n   </g>\n  </g>\n </g>\n <defs>\n  <clipPath id=\"p6e83f3cb49\">\n   <rect height=\"233.28\" width=\"300.672\" x=\"24.249375\" y=\"7.2\"/>\n  </clipPath>\n  <clipPath id=\"pee5a18ebdf\">\n   <rect height=\"233.28\" width=\"11.664\" x=\"343.713375\" y=\"7.2\"/>\n  </clipPath>\n </defs>\n</svg>\n",
      "image/png": "[encoded data removed]"
     },
     "metadata": {}
    }
   ],
   "metadata": {}
  },
  {
   "cell_type": "code",
   "execution_count": null,
   "source": [
    "def prepare(df):\n",
    "    df.drop(['Name', 'Ticket','Cabin'], axis=1, inplace=True)\n",
    "    mode = (df['Age'].mode())\n",
    "    df['Age'].fillna(mode, inplace=True)\n",
    "    df['Embarked'].fillna(df['Embarked'].mode().iloc[0], inplace=True)\n",
    "    s=(df.dtypes=='object')\n",
    "    object_cols = list(s[s].index)\n",
    "    enc = OrdinalEncoder()\n",
    "    df[object_cols] = enc.fit_transform(df[object_cols])\n"
   ],
   "outputs": [],
   "metadata": {}
  },
  {
   "cell_type": "code",
   "execution_count": null,
   "source": [
    "#prepare(df_test)"
   ],
   "outputs": [],
   "metadata": {}
  },
  {
   "cell_type": "code",
   "execution_count": 350,
   "source": [
    "df_test.head(5)"
   ],
   "outputs": [
    {
     "output_type": "execute_result",
     "data": {
      "text/plain": [
       "   Pclass  Sex  SibSp  Parch  Embarked  Age_band  Fare_cat\n",
       "0       3  1.0      0      0       1.0       2.0       0.0\n",
       "1       3  0.0      1      0       2.0       2.0       0.0\n",
       "2       2  1.0      0      0       1.0       3.0       1.0\n",
       "3       3  1.0      0      0       2.0       1.0       1.0\n",
       "4       3  0.0      1      1       2.0       1.0       1.0"
      ],
      "text/html": [
       "<div>\n",
       "<style scoped>\n",
       "    .dataframe tbody tr th:only-of-type {\n",
       "        vertical-align: middle;\n",
       "    }\n",
       "\n",
       "    .dataframe tbody tr th {\n",
       "        vertical-align: top;\n",
       "    }\n",
       "\n",
       "    .dataframe thead th {\n",
       "        text-align: right;\n",
       "    }\n",
       "</style>\n",
       "<table border=\"1\" class=\"dataframe\">\n",
       "  <thead>\n",
       "    <tr style=\"text-align: right;\">\n",
       "      <th></th>\n",
       "      <th>Pclass</th>\n",
       "      <th>Sex</th>\n",
       "      <th>SibSp</th>\n",
       "      <th>Parch</th>\n",
       "      <th>Embarked</th>\n",
       "      <th>Age_band</th>\n",
       "      <th>Fare_cat</th>\n",
       "    </tr>\n",
       "  </thead>\n",
       "  <tbody>\n",
       "    <tr>\n",
       "      <th>0</th>\n",
       "      <td>3</td>\n",
       "      <td>1.0</td>\n",
       "      <td>0</td>\n",
       "      <td>0</td>\n",
       "      <td>1.0</td>\n",
       "      <td>2.0</td>\n",
       "      <td>0.0</td>\n",
       "    </tr>\n",
       "    <tr>\n",
       "      <th>1</th>\n",
       "      <td>3</td>\n",
       "      <td>0.0</td>\n",
       "      <td>1</td>\n",
       "      <td>0</td>\n",
       "      <td>2.0</td>\n",
       "      <td>2.0</td>\n",
       "      <td>0.0</td>\n",
       "    </tr>\n",
       "    <tr>\n",
       "      <th>2</th>\n",
       "      <td>2</td>\n",
       "      <td>1.0</td>\n",
       "      <td>0</td>\n",
       "      <td>0</td>\n",
       "      <td>1.0</td>\n",
       "      <td>3.0</td>\n",
       "      <td>1.0</td>\n",
       "    </tr>\n",
       "    <tr>\n",
       "      <th>3</th>\n",
       "      <td>3</td>\n",
       "      <td>1.0</td>\n",
       "      <td>0</td>\n",
       "      <td>0</td>\n",
       "      <td>2.0</td>\n",
       "      <td>1.0</td>\n",
       "      <td>1.0</td>\n",
       "    </tr>\n",
       "    <tr>\n",
       "      <th>4</th>\n",
       "      <td>3</td>\n",
       "      <td>0.0</td>\n",
       "      <td>1</td>\n",
       "      <td>1</td>\n",
       "      <td>2.0</td>\n",
       "      <td>1.0</td>\n",
       "      <td>1.0</td>\n",
       "    </tr>\n",
       "  </tbody>\n",
       "</table>\n",
       "</div>"
      ]
     },
     "metadata": {},
     "execution_count": 350
    }
   ],
   "metadata": {}
  },
  {
   "cell_type": "code",
   "execution_count": 144,
   "source": [
    "df_test.isna().sum()"
   ],
   "outputs": [
    {
     "output_type": "execute_result",
     "data": {
      "text/plain": [
       "Pclass      0\n",
       "Sex         0\n",
       "SibSp       0\n",
       "Parch       0\n",
       "Embarked    0\n",
       "Age_band    0\n",
       "Fare_cat    0\n",
       "dtype: int64"
      ]
     },
     "metadata": {},
     "execution_count": 144
    }
   ],
   "metadata": {}
  },
  {
   "cell_type": "code",
   "execution_count": 384,
   "source": [
    "final_model = ada.predict(df_test)"
   ],
   "outputs": [],
   "metadata": {}
  },
  {
   "cell_type": "code",
   "execution_count": 385,
   "source": [
    "passengerId = pd.DataFrame(passengerId)\n",
    "passengerId.head()"
   ],
   "outputs": [
    {
     "output_type": "execute_result",
     "data": {
      "text/plain": [
       "   PassengerId\n",
       "0          892\n",
       "1          893\n",
       "2          894\n",
       "3          895\n",
       "4          896"
      ],
      "text/html": [
       "<div>\n",
       "<style scoped>\n",
       "    .dataframe tbody tr th:only-of-type {\n",
       "        vertical-align: middle;\n",
       "    }\n",
       "\n",
       "    .dataframe tbody tr th {\n",
       "        vertical-align: top;\n",
       "    }\n",
       "\n",
       "    .dataframe thead th {\n",
       "        text-align: right;\n",
       "    }\n",
       "</style>\n",
       "<table border=\"1\" class=\"dataframe\">\n",
       "  <thead>\n",
       "    <tr style=\"text-align: right;\">\n",
       "      <th></th>\n",
       "      <th>PassengerId</th>\n",
       "    </tr>\n",
       "  </thead>\n",
       "  <tbody>\n",
       "    <tr>\n",
       "      <th>0</th>\n",
       "      <td>892</td>\n",
       "    </tr>\n",
       "    <tr>\n",
       "      <th>1</th>\n",
       "      <td>893</td>\n",
       "    </tr>\n",
       "    <tr>\n",
       "      <th>2</th>\n",
       "      <td>894</td>\n",
       "    </tr>\n",
       "    <tr>\n",
       "      <th>3</th>\n",
       "      <td>895</td>\n",
       "    </tr>\n",
       "    <tr>\n",
       "      <th>4</th>\n",
       "      <td>896</td>\n",
       "    </tr>\n",
       "  </tbody>\n",
       "</table>\n",
       "</div>"
      ]
     },
     "metadata": {},
     "execution_count": 385
    }
   ],
   "metadata": {}
  },
  {
   "cell_type": "code",
   "execution_count": 386,
   "source": [
    "submission = pd.DataFrame({'PassengerId':passengerId.PassengerId, 'Survived':final_model})"
   ],
   "outputs": [],
   "metadata": {}
  },
  {
   "cell_type": "code",
   "execution_count": 387,
   "source": [
    "submission.to_csv('submission8.csv', index=False)"
   ],
   "outputs": [],
   "metadata": {}
  },
  {
   "cell_type": "code",
   "execution_count": null,
   "source": [],
   "outputs": [],
   "metadata": {}
  }
 ],
 "metadata": {
  "orig_nbformat": 4,
  "language_info": {
   "name": "python",
   "version": "3.8.10",
   "mimetype": "text/x-python",
   "codemirror_mode": {
    "name": "ipython",
    "version": 3
   },
   "pygments_lexer": "ipython3",
   "nbconvert_exporter": "python",
   "file_extension": ".py"
  },
  "kernelspec": {
   "name": "python3",
   "display_name": "Python 3.8.10 64-bit"
  },
  "interpreter": {
   "hash": "31f2aee4e71d21fbe5cf8b01ff0e069b9275f58929596ceb00d14d90e3e16cd6"
  }
 },
 "nbformat": 4,
 "nbformat_minor": 2
}